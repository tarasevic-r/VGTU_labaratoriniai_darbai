{
 "cells": [
  {
   "cell_type": "markdown",
   "metadata": {},
   "source": [
    "# DSSA\n",
    "## Robert Tarasevič TSF–17"
   ]
  },
  {
   "cell_type": "markdown",
   "metadata": {},
   "source": [
    "## 1 Labaratorinis darbas\n",
    "### Tikslusis Fišerio testas\n",
    "\n",
    "Dviejų požymių nepriklausomumo hipotezei patikrinti paprastai naudojamas chi-kvadrat testas. Žinoma, kad kriterijaus statistikos pasiskirstymas aproksimuojamas chi-kvadrat pasiskirstymu, todėl šiuo atveju p-reikšmės yra apytikslės.\n",
    "\n",
    "Jeigu stebimi požymiai yra dvireikšmiai ir iš jų sudaroma 2 × 2 dydžio dažnių lentelė, tai nepriklausomumo hipotezei patikrinti galima naudoti tikslųjį Fišerio testą. R šiam tikslui turi funkciją fisher.test. Šiuo atveju p-reikšmė apskaičiuojama tiksliai.\n",
    "\n",
    "UŽDUOTIS. Parašyti R funkciją, kuri hipotezę apie dviejų požymių nepriklausomumą 2 × 2 dydžio lentelėje patikrintų naudojant tikslųjį Fišerio testą.\n",
    "\n",
    "Funkcijos argumentai: arba dažnių lentelė, arba kintamieji, iš kurios dažnių lentelė sudaroma funkcijos viduje. Jeigu reikia, galima perduoti reikšmingumo lygmens α reikšmę.\n",
    "\n",
    "Funkcija turi grąžinti p-reikšmę. Taip pat gali būti išvedama papildoma informacija, pavyzdžių sprendimas apie hipotezės priėmimą arba atmetimą, jeigu funkcijai nurodomas reikšmingumo lygmuo α.\n",
    "\n",
    "Funkcijos veikimą galima išbandyti su duomenimis iš lentelės ksimpah.csv.\n",
    "***\n",
    "\n",
    "Kadangi šiuo atvėju yra tik 4 gardelės, tai tradiciškai jų reikšmės žymimos raidėmis $(\\sigma_{11}=a, \\sigma_{12} = b, \\sigma_{2,1}=c, \\sigma_{22}=d)$\n",
    "\n",
    "\n",
    "| dažnių lentelė | $x_1$ | $x_2$ | $\\Sigma$ |\n",
    "| --- | --- | --- | ---\n",
    "| $y_1$ | a | b | a+b |\n",
    "| $y_2$ | c | d | c+d |\n",
    "| $\\Sigma$ | a+c | b+d | a+b+c+d |\n",
    "\n",
    "Tarkime, kad lentelės eilučių sumos a+b, c+d ir stulpelių sumos a+c, b+d yra fiksuoti dydžiai. Tada, žinant vienos iš gardelių dažnį, žinomi ir likusieji. Tuomet tikimybė, kad tarp $n=a+b+c+d$ dvireikšmių kintamųjų poros (X,Y) stebėjimų reikšmių ($x_1, y_1$) pasirodys *a* kartų (kartu ($x_1, y_2$) - *c* kartų, ($x_2, y_1$) - *b* kartų, ($x_2, y_2$) - *d* kartų), užrašoma kaip hipergeometrinio skirstinio tikimybė:\n",
    "$$P(a,b,c,d) = \\frac{(a+b)!(c+d)!(a+c)!(b+d)!}{a!b!c!d!n!}$$\n",
    "\n",
    "Apsibrėžkime hipotezę:\n",
    "\n",
    "$H_0$ teigia, kad požymiai nepriklausomi, alternatyva $H_1$ - kad priklausomi\n",
    "$$H_0: p_{ij} = p_ip_j,\\quad \\text{su visais i=1,2;}\\; \\text{j=1,2} \\\\ H_1: p_{ij} \\ne p_ip_j,\\quad \\text{bent vienai porai (i,j)}$$\n",
    "\n",
    "$H_0$ hipotezei patikrinti, reikia, pagal hipergeometrinio skirstinio tikimybės formulę apskaičiuoti tikimybes dažnių lentelei ir visoms galimoms lentelėms, kurių pirmosios gardelės dažnis mažesnis už *a*. Jeigu sudėjus gautas tikimybes **suma neviršija pusės pasirinkto reikšmingumo lygmens**, t.y. $\\alpha/2$, nulinę hipotezę $H_0$ **reikia atmesti** (požymiai statistiškai reikšmingai priklausomi). Jeigu suma viršija $\\alpha/2$ tai reikia skaičiuoti hipergeometrinio skirstinio tikimybes dažnių lentelei ir visoms galimoms, kurių pirmosios gardelės dažnis didesnis už *a*. Jeigu sudėjus gautas tikimybes **suma neviršija $\\alpha/2$**, nulinę hipotezę $H_0$ **reikia atmesti**. Priešingu atvėju $H_0$ atmesti nėra pagrindo.\n",
    "\n",
    "Sudarome dažnių lentelę:"
   ]
  },
  {
   "cell_type": "code",
   "execution_count": 1,
   "metadata": {},
   "outputs": [
    {
     "data": {
      "text/html": [
       "<table class=\"dataframe\">\n",
       "<caption>A matrix: 2 × 2 of type dbl</caption>\n",
       "<tbody>\n",
       "\t<tr><td>3</td><td>16</td></tr>\n",
       "\t<tr><td>2</td><td>21</td></tr>\n",
       "</tbody>\n",
       "</table>\n"
      ],
      "text/latex": [
       "A matrix: 2 × 2 of type dbl\n",
       "\\begin{tabular}{ll}\n",
       "\t 3 & 16\\\\\n",
       "\t 2 & 21\\\\\n",
       "\\end{tabular}\n"
      ],
      "text/markdown": [
       "\n",
       "A matrix: 2 × 2 of type dbl\n",
       "\n",
       "| 3 | 16 |\n",
       "| 2 | 21 |\n",
       "\n"
      ],
      "text/plain": [
       "     [,1] [,2]\n",
       "[1,] 3    16  \n",
       "[2,] 2    21  "
      ]
     },
     "metadata": {},
     "output_type": "display_data"
    }
   ],
   "source": [
    "a = 3\n",
    "b = 16\n",
    "c = 2\n",
    "d = 21\n",
    "\n",
    "dazniu_lentele <- rbind(\n",
    "    c(a,b),\n",
    "    c(c,d))\n",
    "\n",
    "dazniu_lentele"
   ]
  },
  {
   "cell_type": "markdown",
   "metadata": {},
   "source": [
    "Funkcija skaičiuojanti hipergeometrinio skirstinio tikimybę ir leidžianti perskaičiuoti dažnių lentelę pakeitus **a**:"
   ]
  },
  {
   "cell_type": "code",
   "execution_count": 2,
   "metadata": {},
   "outputs": [],
   "source": [
    "P = function(dazniu_lentele, a=dazniu_lentele[1,1]) {\n",
    "    if (dazniu_lentele[1,1]==a) {\n",
    "        a=dazniu_lentele[1,1]\n",
    "        b = dazniu_lentele[1,2]\n",
    "        c = dazniu_lentele[2,1]\n",
    "        d = dazniu_lentele[2,2]\n",
    "    } else {\n",
    "        #print(\"lentele pakeista!\")\n",
    "        a = a\n",
    "        b = dazniu_lentele[1,1] + dazniu_lentele[1,2] - a\n",
    "        c = dazniu_lentele[1,1] + dazniu_lentele[2,1] - a\n",
    "        d = dazniu_lentele[2,2] - dazniu_lentele[1,1] + a\n",
    "        \n",
    "    }\n",
    "    \n",
    "    n = a+b+c+d\n",
    "    result = prod(factorial(c(a+b, c+d, a+c, b+d))) / \n",
    "    prod(factorial(c(a,b,c,d,n)))\n",
    "\n",
    "    return(result)\n",
    "}"
   ]
  },
  {
   "cell_type": "markdown",
   "metadata": {},
   "source": [
    "$H_0$ hipotezei patikrinti reikia paskaičiuoti visų galimų dažnių lentelių tikimybių sumą, kurių pirmosios gardelės dažnis yra mažesnis už **a**."
   ]
  },
  {
   "cell_type": "code",
   "execution_count": 3,
   "metadata": {},
   "outputs": [
    {
     "data": {
      "text/html": [
       "0.28819351380327"
      ],
      "text/latex": [
       "0.28819351380327"
      ],
      "text/markdown": [
       "0.28819351380327"
      ],
      "text/plain": [
       "[1] 0.2881935"
      ]
     },
     "metadata": {},
     "output_type": "display_data"
    }
   ],
   "source": [
    "P(dazniu_lentele)"
   ]
  },
  {
   "cell_type": "code",
   "execution_count": 4,
   "metadata": {},
   "outputs": [],
   "source": [
    "P_sum = function(dazniu_lentele, maziau=T) {\n",
    "    if (maziau) {\n",
    "        galimos_a = seq(from=0, to=dazniu_lentele[1,1], by=1)\n",
    "    } else {\n",
    "        A = min(dazniu_lentele[1,1]+dazniu_lentele[1,2], dazniu_lentele[1,1]+\n",
    "                dazniu_lentele[2,1])\n",
    "        galimos_a = seq(from=dazniu_lentele[1,1], to=A, by=1)\n",
    "    }\n",
    "     \n",
    "    suma = 0\n",
    "    for (i in galimos_a) {\n",
    "        #print(P(dazniu_lentele, a=i))\n",
    "        suma = suma + P(dazniu_lentele, a=i)\n",
    "    }\n",
    "    \n",
    "    return(suma)\n",
    "    }"
   ]
  },
  {
   "cell_type": "code",
   "execution_count": 5,
   "metadata": {},
   "outputs": [
    {
     "data": {
      "text/html": [
       "0.881533101045296"
      ],
      "text/latex": [
       "0.881533101045296"
      ],
      "text/markdown": [
       "0.881533101045296"
      ],
      "text/plain": [
       "[1] 0.8815331"
      ]
     },
     "metadata": {},
     "output_type": "display_data"
    }
   ],
   "source": [
    "P_sum(dazniu_lentele)"
   ]
  },
  {
   "cell_type": "markdown",
   "metadata": {},
   "source": [
    "Patikriname gautą reikšmę su *R* funkcija *fisher.test*"
   ]
  },
  {
   "cell_type": "code",
   "execution_count": 6,
   "metadata": {},
   "outputs": [
    {
     "data": {
      "text/html": [
       "TRUE"
      ],
      "text/latex": [
       "TRUE"
      ],
      "text/markdown": [
       "TRUE"
      ],
      "text/plain": [
       "[1] TRUE"
      ]
     },
     "metadata": {},
     "output_type": "display_data"
    },
    {
     "name": "stdout",
     "output_type": "stream",
     "text": [
      "[1] 0.8815331\n"
     ]
    }
   ],
   "source": [
    "P_sum(dazniu_lentele) == fisher.test(dazniu_lentele, alternative=\"less\")$p.value\n",
    "print(fisher.test(dazniu_lentele, alternative=\"less\")$p.value)"
   ]
  },
  {
   "cell_type": "markdown",
   "metadata": {},
   "source": [
    "Aukščiau minėjome, kad jeigu tikimybių suma neviršiją $\\alpha / 2$,nulinę hipotezę $H_0$ reikia atmesti.\n",
    "\n",
    "Patikrinkime tai."
   ]
  },
  {
   "cell_type": "code",
   "execution_count": 7,
   "metadata": {},
   "outputs": [
    {
     "name": "stdout",
     "output_type": "stream",
     "text": [
      "[1] \"Hipoteze H0 atmesti negalime.\"\n"
     ]
    }
   ],
   "source": [
    "alpha = 0.05\n",
    "\n",
    "if (P_sum(dazniu_lentele) <= alpha/2) {\n",
    "    print(\"Hipoteze H0 riekia atmesti.\")\n",
    "} else {\n",
    "    print(\"Hipoteze H0 atmesti negalime.\")\n",
    "}"
   ]
  },
  {
   "cell_type": "markdown",
   "metadata": {},
   "source": [
    "Suma viršija mūsų parinkta reikšmingumo lygmenį, todėl reikia skaičiuoti **P** tikimybes duotai dažnių lentelei ir visoms galimoms lentelėms, kurių pirmos gardelės dažnis yra didesnis už **a**, tam mum reikės apskaičiuoti kokios galimos reikšmės didesnės **a**, kad lentelės suma nepasikeistų."
   ]
  },
  {
   "cell_type": "code",
   "execution_count": 8,
   "metadata": {},
   "outputs": [
    {
     "data": {
      "text/html": [
       "5"
      ],
      "text/latex": [
       "5"
      ],
      "text/markdown": [
       "5"
      ],
      "text/plain": [
       "[1] 5"
      ]
     },
     "metadata": {},
     "output_type": "display_data"
    }
   ],
   "source": [
    "A = min(a+b, a+c)\n",
    "A"
   ]
  },
  {
   "cell_type": "markdown",
   "metadata": {},
   "source": [
    "Analogiškai apskaičoiuosime P tikimybęs duotai dažnių lentelei ir visoms galimoms lentelėms su pirmos gardelės reikšmėmis didesnėmis už **a** reikšmę ir sudėsim gautas tikimybes"
   ]
  },
  {
   "cell_type": "code",
   "execution_count": 9,
   "metadata": {},
   "outputs": [
    {
     "data": {
      "text/html": [
       "0.406660412757974"
      ],
      "text/latex": [
       "0.406660412757974"
      ],
      "text/markdown": [
       "0.406660412757974"
      ],
      "text/plain": [
       "[1] 0.4066604"
      ]
     },
     "metadata": {},
     "output_type": "display_data"
    }
   ],
   "source": [
    "P_sum(dazniu_lentele, maziau=F)"
   ]
  },
  {
   "cell_type": "markdown",
   "metadata": {},
   "source": [
    "Patikrinsime ar gauta reikšmė sutampa su *R* programos skaičiavimais naudojant funkciją *fisher.test*"
   ]
  },
  {
   "cell_type": "code",
   "execution_count": 10,
   "metadata": {},
   "outputs": [
    {
     "data": {
      "text/html": [
       "TRUE"
      ],
      "text/latex": [
       "TRUE"
      ],
      "text/markdown": [
       "TRUE"
      ],
      "text/plain": [
       "[1] TRUE"
      ]
     },
     "metadata": {},
     "output_type": "display_data"
    },
    {
     "name": "stdout",
     "output_type": "stream",
     "text": [
      "[1] 0.4066604\n"
     ]
    }
   ],
   "source": [
    "fish = fisher.test(dazniu_lentele, alternative=\"greater\")$p.value\n",
    "P_sum(dazniu_lentele, maziau=F) == fish\n",
    "print(fish)"
   ]
  },
  {
   "cell_type": "markdown",
   "metadata": {},
   "source": [
    "Jeigu sudėtų tikimybių suma neviršija pusės pasirinkto reikšmingumo lygmens, tai nulinę hipotezę $H_0$ reikia atmesti."
   ]
  },
  {
   "cell_type": "code",
   "execution_count": 11,
   "metadata": {},
   "outputs": [
    {
     "name": "stdout",
     "output_type": "stream",
     "text": [
      "[1] \"Hipoteze H0 atmesti negalime.\"\n"
     ]
    }
   ],
   "source": [
    "alpha = 0.05\n",
    "\n",
    "if (P_sum(dazniu_lentele, maziau=F) <= alpha/2) {\n",
    "    print(\"Hipoteze H0 riekia atmesti.\")\n",
    "} else {\n",
    "    print(\"Hipoteze H0 atmesti negalime.\")\n",
    "}"
   ]
  },
  {
   "cell_type": "markdown",
   "metadata": {},
   "source": [
    "#### IŠVADOS:\n",
    "\n",
    "Hipotezė $H_0: p_{ij} = p_ip_j,\\quad \\text{su visais i=1,2;}\\; \\text{j=1,2}\\;$ **priimame**, o tai reiškia, kad požymiai yra nepriklausomi.\n",
    "***\n",
    "Pilna R programa:"
   ]
  },
  {
   "cell_type": "code",
   "execution_count": 12,
   "metadata": {},
   "outputs": [],
   "source": [
    "H0 = function(dazniu_lentele, alpha=0.05) {\n",
    "    \n",
    "    tmp_res = P_sum(dazniu_lentele)\n",
    "    \n",
    "    if (tmp_res <= alpha/2) {\n",
    "        cat(\"Hipoteze H0 riekia atmesti.\", '\\n','p1: \\t', tmp_res)\n",
    "    } else {\n",
    "        cat(\"Hipoteze H0 atmesti negalime. Tikriname toliau. \\n\")\n",
    "        \n",
    "        tmp_res2 = P_sum(dazniu_lentele, maziau=F)\n",
    "        if (P_sum(dazniu_lentele, maziau=F) <= alpha/2) {\n",
    "            cat(\"\\nHipoteze H0 riekia atmesti. pozymiai yra priklausomi.\", \n",
    "               '\\n','p1: \\t', tmp_res, '\\n','p2: \\t', tmp_res2)\n",
    "        } else {\n",
    "            cat(\"Hipoteze H0 atmesti negalime. Pozymiai yra nepriklausomi.\", \n",
    "                '\\n','p1: \\t', tmp_res, '\\n','p2: \\t', tmp_res2)\n",
    "        }\n",
    "\n",
    "        \n",
    "        \n",
    "    }\n",
    "    \n",
    "}"
   ]
  },
  {
   "cell_type": "code",
   "execution_count": 13,
   "metadata": {},
   "outputs": [
    {
     "name": "stdout",
     "output_type": "stream",
     "text": [
      "Hipoteze H0 atmesti negalime. Tikriname toliau. \n",
      "Hipoteze H0 atmesti negalime. Pozymiai yra nepriklausomi. \n",
      " p1: \t 0.8815331 \n",
      " p2: \t 0.4066604"
     ]
    }
   ],
   "source": [
    "H0(dazniu_lentele, alpha=0.05)"
   ]
  }
 ],
 "metadata": {
  "kernelspec": {
   "display_name": "R",
   "language": "R",
   "name": "ir"
  },
  "language_info": {
   "codemirror_mode": "r",
   "file_extension": ".r",
   "mimetype": "text/x-r-source",
   "name": "R",
   "pygments_lexer": "r",
   "version": "3.6.3"
  }
 },
 "nbformat": 4,
 "nbformat_minor": 4
}
