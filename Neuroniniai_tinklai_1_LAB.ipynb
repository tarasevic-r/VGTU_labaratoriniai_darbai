{
 "cells": [
  {
   "cell_type": "markdown",
   "metadata": {},
   "source": [
    "# Neuroniniai tinklai\n",
    "## 1 labaratorinis darbas, $\\:$Robert Tarasevič, tsf-17\n",
    "***"
   ]
  },
  {
   "attachments": {
    "nn.jpeg": {
     "image/jpeg": "[encoded data removed]"
    }
   },
   "cell_type": "markdown",
   "metadata": {},
   "source": [
    "![nn.jpeg](attachment:nn.jpeg)"
   ]
  },
  {
   "cell_type": "markdown",
   "metadata": {},
   "source": [
    "## TURINYS:\n",
    "1. [Uzduotis. Praleistu reiksmiu atstatymas](#pirma) <br>\n",
    "    1.1 [Praleista reiksme pakeiciame stulpelio vidurkiu](#1.1) <br>\n",
    "    1.2 [Praleista reiksme pakeiciame stulpelio mediana](#1.2) <br>\n",
    "    1.3 [Praleista reiksme pakeiciame vidurkiu atsizvelgiant i lyti](#1.3) <br>\n",
    "    1.4 [Praleista reiksme pakeiciame mediana atsizvelgiant i lyti](#1.4) <br>\n",
    "2. [Uzduotis. Praleistu reiksmiu atstatymas naudojant atstumo metrikas](#antra) <br>\n",
    "    2.1 [Sudarome funkcija duomenu atstatymui taikant skirtingu metriku skaiciavimus (Euklido, Manhattan ir Chebyshev)](#2.1) <br>\n",
    "3. [Uzduotis. Praleistos reiksmes atstatymas taikant koreliacijos koeficienta](#trecia) <br>\n",
    "4. [Uzduotis. Rekomendacinės sistemos kūrimas](#ketvirta)\n",
    "5. [Uzduotis. Rekomendacinės sistemos kūrimas, taikant koreliacijos koeficiento skaičiavimą](#penkta)\n",
    "6. [Uzduotis. Neatitikčių paieška, taikant Šovene kriterijų](#sesta)\n",
    "7. [Uzduotis. Neatitikčių paieška, taikant Kvartilių algoritmą](#septinta)"
   ]
  },
  {
   "cell_type": "code",
   "execution_count": 83,
   "metadata": {},
   "outputs": [],
   "source": [
    "import numpy as np\n",
    "import pandas as pd\n",
    "from scipy.spatial import distance\n",
    "from scipy.spatial.distance import euclidean, cityblock, chebyshev, squareform"
   ]
  },
  {
   "cell_type": "markdown",
   "metadata": {},
   "source": [
    "## 1 Uzduotis <a class=\"anchor\" id=\"pirma\"></a>\n",
    "Parašykite programą, kuri atstatytų ūgio reikšmę iš kitų Ūgio požymio reikšmių, atliekant vidurkio\n",
    "ir medianos skaičiavimą. Atstatant nežinomą reikšmę atsižvelkite į paciento lytį. Duomenis galite\n",
    "įvedinėti rankomis arba nuskaityti iš failo."
   ]
  },
  {
   "cell_type": "code",
   "execution_count": 84,
   "metadata": {},
   "outputs": [
    {
     "data": {
      "text/html": [
       "<div>\n",
       "<style scoped>\n",
       "    .dataframe tbody tr th:only-of-type {\n",
       "        vertical-align: middle;\n",
       "    }\n",
       "\n",
       "    .dataframe tbody tr th {\n",
       "        vertical-align: top;\n",
       "    }\n",
       "\n",
       "    .dataframe thead th {\n",
       "        text-align: right;\n",
       "    }\n",
       "</style>\n",
       "<table border=\"1\" class=\"dataframe\">\n",
       "  <thead>\n",
       "    <tr style=\"text-align: right;\">\n",
       "      <th></th>\n",
       "      <th>Pacientas</th>\n",
       "      <th>Lytis</th>\n",
       "      <th>Ugis</th>\n",
       "      <th>Svoris</th>\n",
       "    </tr>\n",
       "  </thead>\n",
       "  <tbody>\n",
       "    <tr>\n",
       "      <th>0</th>\n",
       "      <td>Vardas 1</td>\n",
       "      <td>0</td>\n",
       "      <td>165.0</td>\n",
       "      <td>55</td>\n",
       "    </tr>\n",
       "    <tr>\n",
       "      <th>1</th>\n",
       "      <td>Vardas 2</td>\n",
       "      <td>1</td>\n",
       "      <td>183.0</td>\n",
       "      <td>95</td>\n",
       "    </tr>\n",
       "    <tr>\n",
       "      <th>2</th>\n",
       "      <td>Vardas 3</td>\n",
       "      <td>0</td>\n",
       "      <td>171.0</td>\n",
       "      <td>60</td>\n",
       "    </tr>\n",
       "    <tr>\n",
       "      <th>3</th>\n",
       "      <td>Vardas 4</td>\n",
       "      <td>1</td>\n",
       "      <td>194.0</td>\n",
       "      <td>102</td>\n",
       "    </tr>\n",
       "    <tr>\n",
       "      <th>4</th>\n",
       "      <td>Vardas 5</td>\n",
       "      <td>1</td>\n",
       "      <td>NaN</td>\n",
       "      <td>80</td>\n",
       "    </tr>\n",
       "    <tr>\n",
       "      <th>5</th>\n",
       "      <td>Vardas 6</td>\n",
       "      <td>1</td>\n",
       "      <td>185.0</td>\n",
       "      <td>90</td>\n",
       "    </tr>\n",
       "  </tbody>\n",
       "</table>\n",
       "</div>"
      ],
      "text/plain": [
       "  Pacientas  Lytis   Ugis  Svoris\n",
       "0  Vardas 1      0  165.0      55\n",
       "1  Vardas 2      1  183.0      95\n",
       "2  Vardas 3      0  171.0      60\n",
       "3  Vardas 4      1  194.0     102\n",
       "4  Vardas 5      1    NaN      80\n",
       "5  Vardas 6      1  185.0      90"
      ]
     },
     "execution_count": 84,
     "metadata": {},
     "output_type": "execute_result"
    }
   ],
   "source": [
    "df = pd.DataFrame({\n",
    "    'Pacientas': ['Vardas 1', 'Vardas 2', 'Vardas 3', 'Vardas 4', 'Vardas 5', 'Vardas 6'], \n",
    "    'Lytis': [0, 1, 0, 1, 1, 1],\n",
    "    'Ugis': [165, 183, 171, 194, np.nan, 185],\n",
    "    'Svoris': [55, 95, 60, 102, 80, 90]})\n",
    "df"
   ]
  },
  {
   "cell_type": "markdown",
   "metadata": {},
   "source": [
    "### Praleista reiksme pakeiciame stulpelio vidurkiu <a class=\"anchor\" id=\"1.1\"></a>"
   ]
  },
  {
   "cell_type": "code",
   "execution_count": 85,
   "metadata": {},
   "outputs": [
    {
     "data": {
      "text/plain": [
       "0    165.0\n",
       "1    183.0\n",
       "2    171.0\n",
       "3    194.0\n",
       "4    179.6\n",
       "5    185.0\n",
       "Name: Ugis, dtype: float64"
      ]
     },
     "execution_count": 85,
     "metadata": {},
     "output_type": "execute_result"
    }
   ],
   "source": [
    "df_1 = df['Ugis'].fillna(np.mean(df['Ugis']), inplace = False)\n",
    "df_1"
   ]
  },
  {
   "cell_type": "markdown",
   "metadata": {},
   "source": [
    "### Praleista reiksme pakeiciame stulpelio mediana <a class=\"anchor\" id=\"1.2\"></a>"
   ]
  },
  {
   "cell_type": "code",
   "execution_count": 86,
   "metadata": {},
   "outputs": [
    {
     "data": {
      "text/plain": [
       "0    165.0\n",
       "1    183.0\n",
       "2    171.0\n",
       "3    194.0\n",
       "4    183.0\n",
       "5    185.0\n",
       "Name: Ugis, dtype: float64"
      ]
     },
     "execution_count": 86,
     "metadata": {},
     "output_type": "execute_result"
    }
   ],
   "source": [
    "df_2 = df['Ugis'].fillna(df['Ugis'].median(), inplace = False)\n",
    "df_2\n"
   ]
  },
  {
   "cell_type": "markdown",
   "metadata": {},
   "source": [
    "### Praleista reiksme pakeiciame vidurkiu atsizvelgiant i lyti <a class=\"anchor\" id=\"1.3\"></a>\n",
    "Pasižiūrime kokie yra skirtingų lyčių svorio ir ūgio vidurkiai"
   ]
  },
  {
   "cell_type": "code",
   "execution_count": 87,
   "metadata": {},
   "outputs": [
    {
     "data": {
      "text/html": [
       "<div>\n",
       "<style scoped>\n",
       "    .dataframe tbody tr th:only-of-type {\n",
       "        vertical-align: middle;\n",
       "    }\n",
       "\n",
       "    .dataframe tbody tr th {\n",
       "        vertical-align: top;\n",
       "    }\n",
       "\n",
       "    .dataframe thead th {\n",
       "        text-align: right;\n",
       "    }\n",
       "</style>\n",
       "<table border=\"1\" class=\"dataframe\">\n",
       "  <thead>\n",
       "    <tr style=\"text-align: right;\">\n",
       "      <th></th>\n",
       "      <th>Ugis</th>\n",
       "      <th>Svoris</th>\n",
       "    </tr>\n",
       "    <tr>\n",
       "      <th>Lytis</th>\n",
       "      <th></th>\n",
       "      <th></th>\n",
       "    </tr>\n",
       "  </thead>\n",
       "  <tbody>\n",
       "    <tr>\n",
       "      <th>0</th>\n",
       "      <td>168.00</td>\n",
       "      <td>57.50</td>\n",
       "    </tr>\n",
       "    <tr>\n",
       "      <th>1</th>\n",
       "      <td>187.33</td>\n",
       "      <td>91.75</td>\n",
       "    </tr>\n",
       "  </tbody>\n",
       "</table>\n",
       "</div>"
      ],
      "text/plain": [
       "         Ugis  Svoris\n",
       "Lytis                \n",
       "0      168.00   57.50\n",
       "1      187.33   91.75"
      ]
     },
     "execution_count": 87,
     "metadata": {},
     "output_type": "execute_result"
    }
   ],
   "source": [
    "lyciu_vid = round(df.groupby(['Lytis']).mean(),2)\n",
    "lyciu_vid"
   ]
  },
  {
   "cell_type": "markdown",
   "metadata": {},
   "source": [
    "Į praleistą reikšmę įrašome atitinkamos lyties vidurkį."
   ]
  },
  {
   "cell_type": "code",
   "execution_count": 88,
   "metadata": {},
   "outputs": [
    {
     "data": {
      "text/html": [
       "<div>\n",
       "<style scoped>\n",
       "    .dataframe tbody tr th:only-of-type {\n",
       "        vertical-align: middle;\n",
       "    }\n",
       "\n",
       "    .dataframe tbody tr th {\n",
       "        vertical-align: top;\n",
       "    }\n",
       "\n",
       "    .dataframe thead th {\n",
       "        text-align: right;\n",
       "    }\n",
       "</style>\n",
       "<table border=\"1\" class=\"dataframe\">\n",
       "  <thead>\n",
       "    <tr style=\"text-align: right;\">\n",
       "      <th></th>\n",
       "      <th>Pacientas</th>\n",
       "      <th>Lytis</th>\n",
       "      <th>Ugis</th>\n",
       "      <th>Svoris</th>\n",
       "    </tr>\n",
       "  </thead>\n",
       "  <tbody>\n",
       "    <tr>\n",
       "      <th>0</th>\n",
       "      <td>Vardas 1</td>\n",
       "      <td>0</td>\n",
       "      <td>165.00</td>\n",
       "      <td>55</td>\n",
       "    </tr>\n",
       "    <tr>\n",
       "      <th>1</th>\n",
       "      <td>Vardas 2</td>\n",
       "      <td>1</td>\n",
       "      <td>183.00</td>\n",
       "      <td>95</td>\n",
       "    </tr>\n",
       "    <tr>\n",
       "      <th>2</th>\n",
       "      <td>Vardas 3</td>\n",
       "      <td>0</td>\n",
       "      <td>171.00</td>\n",
       "      <td>60</td>\n",
       "    </tr>\n",
       "    <tr>\n",
       "      <th>3</th>\n",
       "      <td>Vardas 4</td>\n",
       "      <td>1</td>\n",
       "      <td>194.00</td>\n",
       "      <td>102</td>\n",
       "    </tr>\n",
       "    <tr>\n",
       "      <th>4</th>\n",
       "      <td>Vardas 5</td>\n",
       "      <td>1</td>\n",
       "      <td>187.33</td>\n",
       "      <td>80</td>\n",
       "    </tr>\n",
       "    <tr>\n",
       "      <th>5</th>\n",
       "      <td>Vardas 6</td>\n",
       "      <td>1</td>\n",
       "      <td>185.00</td>\n",
       "      <td>90</td>\n",
       "    </tr>\n",
       "  </tbody>\n",
       "</table>\n",
       "</div>"
      ],
      "text/plain": [
       "  Pacientas  Lytis    Ugis  Svoris\n",
       "0  Vardas 1      0  165.00      55\n",
       "1  Vardas 2      1  183.00      95\n",
       "2  Vardas 3      0  171.00      60\n",
       "3  Vardas 4      1  194.00     102\n",
       "4  Vardas 5      1  187.33      80\n",
       "5  Vardas 6      1  185.00      90"
      ]
     },
     "execution_count": 88,
     "metadata": {},
     "output_type": "execute_result"
    }
   ],
   "source": [
    "df_3 = round(df.fillna(df.groupby('Lytis').transform('mean')), 2)\n",
    "df_3"
   ]
  },
  {
   "cell_type": "markdown",
   "metadata": {},
   "source": [
    "### Praleista reiksme pakeiciame mediana atsizvelgiant i lyti <a class=\"anchor\" id=\"1.4\"></a>\n",
    "Pasižiūrime kokios yra skirtingų lyčių svorio ir ūgio medianos"
   ]
  },
  {
   "cell_type": "code",
   "execution_count": 89,
   "metadata": {},
   "outputs": [
    {
     "data": {
      "text/html": [
       "<div>\n",
       "<style scoped>\n",
       "    .dataframe tbody tr th:only-of-type {\n",
       "        vertical-align: middle;\n",
       "    }\n",
       "\n",
       "    .dataframe tbody tr th {\n",
       "        vertical-align: top;\n",
       "    }\n",
       "\n",
       "    .dataframe thead th {\n",
       "        text-align: right;\n",
       "    }\n",
       "</style>\n",
       "<table border=\"1\" class=\"dataframe\">\n",
       "  <thead>\n",
       "    <tr style=\"text-align: right;\">\n",
       "      <th></th>\n",
       "      <th>Ugis</th>\n",
       "      <th>Svoris</th>\n",
       "    </tr>\n",
       "    <tr>\n",
       "      <th>Lytis</th>\n",
       "      <th></th>\n",
       "      <th></th>\n",
       "    </tr>\n",
       "  </thead>\n",
       "  <tbody>\n",
       "    <tr>\n",
       "      <th>0</th>\n",
       "      <td>168.0</td>\n",
       "      <td>57.5</td>\n",
       "    </tr>\n",
       "    <tr>\n",
       "      <th>1</th>\n",
       "      <td>185.0</td>\n",
       "      <td>92.5</td>\n",
       "    </tr>\n",
       "  </tbody>\n",
       "</table>\n",
       "</div>"
      ],
      "text/plain": [
       "        Ugis  Svoris\n",
       "Lytis               \n",
       "0      168.0    57.5\n",
       "1      185.0    92.5"
      ]
     },
     "execution_count": 89,
     "metadata": {},
     "output_type": "execute_result"
    }
   ],
   "source": [
    "lyciu_mediana = df.groupby(['Lytis']).median()\n",
    "lyciu_mediana"
   ]
  },
  {
   "cell_type": "markdown",
   "metadata": {},
   "source": [
    "Į praleistą reikšmę įrašome atitinkamos lyties svorio medianą."
   ]
  },
  {
   "cell_type": "code",
   "execution_count": 90,
   "metadata": {},
   "outputs": [
    {
     "data": {
      "text/html": [
       "<div>\n",
       "<style scoped>\n",
       "    .dataframe tbody tr th:only-of-type {\n",
       "        vertical-align: middle;\n",
       "    }\n",
       "\n",
       "    .dataframe tbody tr th {\n",
       "        vertical-align: top;\n",
       "    }\n",
       "\n",
       "    .dataframe thead th {\n",
       "        text-align: right;\n",
       "    }\n",
       "</style>\n",
       "<table border=\"1\" class=\"dataframe\">\n",
       "  <thead>\n",
       "    <tr style=\"text-align: right;\">\n",
       "      <th></th>\n",
       "      <th>Pacientas</th>\n",
       "      <th>Lytis</th>\n",
       "      <th>Ugis</th>\n",
       "      <th>Svoris</th>\n",
       "    </tr>\n",
       "  </thead>\n",
       "  <tbody>\n",
       "    <tr>\n",
       "      <th>0</th>\n",
       "      <td>Vardas 1</td>\n",
       "      <td>0</td>\n",
       "      <td>165.0</td>\n",
       "      <td>55</td>\n",
       "    </tr>\n",
       "    <tr>\n",
       "      <th>1</th>\n",
       "      <td>Vardas 2</td>\n",
       "      <td>1</td>\n",
       "      <td>183.0</td>\n",
       "      <td>95</td>\n",
       "    </tr>\n",
       "    <tr>\n",
       "      <th>2</th>\n",
       "      <td>Vardas 3</td>\n",
       "      <td>0</td>\n",
       "      <td>171.0</td>\n",
       "      <td>60</td>\n",
       "    </tr>\n",
       "    <tr>\n",
       "      <th>3</th>\n",
       "      <td>Vardas 4</td>\n",
       "      <td>1</td>\n",
       "      <td>194.0</td>\n",
       "      <td>102</td>\n",
       "    </tr>\n",
       "    <tr>\n",
       "      <th>4</th>\n",
       "      <td>Vardas 5</td>\n",
       "      <td>1</td>\n",
       "      <td>185.0</td>\n",
       "      <td>80</td>\n",
       "    </tr>\n",
       "    <tr>\n",
       "      <th>5</th>\n",
       "      <td>Vardas 6</td>\n",
       "      <td>1</td>\n",
       "      <td>185.0</td>\n",
       "      <td>90</td>\n",
       "    </tr>\n",
       "  </tbody>\n",
       "</table>\n",
       "</div>"
      ],
      "text/plain": [
       "  Pacientas  Lytis   Ugis  Svoris\n",
       "0  Vardas 1      0  165.0      55\n",
       "1  Vardas 2      1  183.0      95\n",
       "2  Vardas 3      0  171.0      60\n",
       "3  Vardas 4      1  194.0     102\n",
       "4  Vardas 5      1  185.0      80\n",
       "5  Vardas 6      1  185.0      90"
      ]
     },
     "execution_count": 90,
     "metadata": {},
     "output_type": "execute_result"
    }
   ],
   "source": [
    "df_4 = round(df.fillna(df.groupby('Lytis').transform('median')), 2)\n",
    "df_4"
   ]
  },
  {
   "cell_type": "markdown",
   "metadata": {},
   "source": [
    "***"
   ]
  },
  {
   "cell_type": "markdown",
   "metadata": {},
   "source": [
    "## 2 Uzduotis <a class=\"anchor\" id=\"antra\"></a>\n",
    "Parašykite programą, kuri atstatytų (1 lentelės) praleistą reikšmę, taikant skirtingų metrikų\n",
    "skaičiavimą, t. y. Euklido, Manhattan ir Max-metriką. Atlikite duomenų normalizavimą, naudojant\n",
    "vidurkį ir vidutinį kvadratinį nuokrypį."
   ]
  },
  {
   "cell_type": "code",
   "execution_count": 91,
   "metadata": {},
   "outputs": [
    {
     "data": {
      "text/html": [
       "<div>\n",
       "<style scoped>\n",
       "    .dataframe tbody tr th:only-of-type {\n",
       "        vertical-align: middle;\n",
       "    }\n",
       "\n",
       "    .dataframe tbody tr th {\n",
       "        vertical-align: top;\n",
       "    }\n",
       "\n",
       "    .dataframe thead th {\n",
       "        text-align: right;\n",
       "    }\n",
       "</style>\n",
       "<table border=\"1\" class=\"dataframe\">\n",
       "  <thead>\n",
       "    <tr style=\"text-align: right;\">\n",
       "      <th></th>\n",
       "      <th>Pacientas</th>\n",
       "      <th>Lytis</th>\n",
       "      <th>Ugis</th>\n",
       "      <th>Svoris</th>\n",
       "    </tr>\n",
       "  </thead>\n",
       "  <tbody>\n",
       "    <tr>\n",
       "      <th>0</th>\n",
       "      <td>Vardas 1</td>\n",
       "      <td>0</td>\n",
       "      <td>165.0</td>\n",
       "      <td>55</td>\n",
       "    </tr>\n",
       "    <tr>\n",
       "      <th>1</th>\n",
       "      <td>Vardas 2</td>\n",
       "      <td>1</td>\n",
       "      <td>183.0</td>\n",
       "      <td>95</td>\n",
       "    </tr>\n",
       "    <tr>\n",
       "      <th>2</th>\n",
       "      <td>Vardas 3</td>\n",
       "      <td>0</td>\n",
       "      <td>171.0</td>\n",
       "      <td>60</td>\n",
       "    </tr>\n",
       "    <tr>\n",
       "      <th>3</th>\n",
       "      <td>Vardas 4</td>\n",
       "      <td>1</td>\n",
       "      <td>194.0</td>\n",
       "      <td>102</td>\n",
       "    </tr>\n",
       "    <tr>\n",
       "      <th>4</th>\n",
       "      <td>Vardas 5</td>\n",
       "      <td>1</td>\n",
       "      <td>NaN</td>\n",
       "      <td>80</td>\n",
       "    </tr>\n",
       "    <tr>\n",
       "      <th>5</th>\n",
       "      <td>Vardas 6</td>\n",
       "      <td>1</td>\n",
       "      <td>185.0</td>\n",
       "      <td>90</td>\n",
       "    </tr>\n",
       "  </tbody>\n",
       "</table>\n",
       "</div>"
      ],
      "text/plain": [
       "  Pacientas  Lytis   Ugis  Svoris\n",
       "0  Vardas 1      0  165.0      55\n",
       "1  Vardas 2      1  183.0      95\n",
       "2  Vardas 3      0  171.0      60\n",
       "3  Vardas 4      1  194.0     102\n",
       "4  Vardas 5      1    NaN      80\n",
       "5  Vardas 6      1  185.0      90"
      ]
     },
     "execution_count": 91,
     "metadata": {},
     "output_type": "execute_result"
    }
   ],
   "source": [
    "df"
   ]
  },
  {
   "cell_type": "code",
   "execution_count": 92,
   "metadata": {},
   "outputs": [],
   "source": [
    "ugis = df['Ugis'] # pasirenkame ugio stulpelį\n",
    "ugis_arr = (ugis - ugis.mean())/ugis.std() # normalizacija\n",
    "ugis_arr = ugis_arr[~np.isnan(ugis_arr)] # ismetame stulpelį su praleista reikšme\n",
    "#ugis_arr\n",
    "\n",
    "new_df = df.drop(['Ugis', 'Pacientas'], 1)\n",
    "new_normalized = (new_df - new_df.mean())/new_df.std() # normalizuojam\n",
    "\n",
    "A = new_normalized.iloc[4, :] # eilute su praleista reiksme\n",
    "new_normalized_without_A = new_normalized.drop(4) # panaikiname eilute su praleista reiksme\n"
   ]
  },
  {
   "cell_type": "code",
   "execution_count": 93,
   "metadata": {},
   "outputs": [
    {
     "data": {
      "text/plain": [
       "Lytis     0.645497\n",
       "Svoris   -0.017408\n",
       "Name: 4, dtype: float64"
      ]
     },
     "execution_count": 93,
     "metadata": {},
     "output_type": "execute_result"
    }
   ],
   "source": [
    "A"
   ]
  },
  {
   "cell_type": "markdown",
   "metadata": {},
   "source": [
    "Konvertuojame pandas data frame i numpy array"
   ]
  },
  {
   "cell_type": "code",
   "execution_count": 94,
   "metadata": {},
   "outputs": [],
   "source": [
    "X = new_normalized_without_A.to_numpy()\n",
    "A = A.to_numpy()"
   ]
  },
  {
   "cell_type": "markdown",
   "metadata": {},
   "source": [
    "# PATAISYTI !!!"
   ]
  },
  {
   "cell_type": "code",
   "execution_count": 95,
   "metadata": {},
   "outputs": [
    {
     "data": {
      "text/plain": [
       "0   -1.262190\n",
       "1    0.293935\n",
       "2   -0.743482\n",
       "3    1.244900\n",
       "5    0.466837\n",
       "Name: Ugis, dtype: float64"
      ]
     },
     "execution_count": 95,
     "metadata": {},
     "output_type": "execute_result"
    }
   ],
   "source": [
    "ugis_arr"
   ]
  },
  {
   "cell_type": "markdown",
   "metadata": {},
   "source": [
    "#### Sudarome funkcija duomenu atstatymui taikant skirtingu metriku skaiciavimus (Euklido, Manhattan ir Chebyshev) <a class=\"anchor\" id=\"2.1\"></a>"
   ]
  },
  {
   "cell_type": "code",
   "execution_count": 96,
   "metadata": {},
   "outputs": [],
   "source": [
    "def atstatymas(X, ugis_arr, A, ugis, metrika):\n",
    "    tmp_1 = 0\n",
    "    tmp_2 = 0\n",
    "    for x, u in zip(X, ugis_arr):\n",
    "        if metrika == 'Euklido':\n",
    "            #print(euclidean(A, x))\n",
    "            tmp = 1/euclidean(A, x)\n",
    "            tmp_1 += tmp\n",
    "\n",
    "            tmp_2 += u/tmp\n",
    "            \n",
    "        elif metrika == 'Manhattan':\n",
    "            tmp = 1/cityblock(A, x)\n",
    "            tmp_1 += tmp\n",
    "\n",
    "            tmp_2 += u/tmp\n",
    "            \n",
    "        elif metrika == 'Chebyshev':\n",
    "            tmp = 1/chebyshev(A, x)\n",
    "            tmp_1 += tmp\n",
    "\n",
    "            tmp_2 += u/tmp\n",
    "        \n",
    "    praleista_reiksme = round((1/tmp_1)*tmp_2 * ugis.std()  + ugis.mean(), 2) # graziname is normalizuotos i tikraja reiksme\n",
    "    \n",
    "    return print(\"Praleista reiksme pagal {} metrika yra: {} cm\".format(metrika, praleista_reiksme))"
   ]
  },
  {
   "cell_type": "code",
   "execution_count": 97,
   "metadata": {},
   "outputs": [
    {
     "name": "stdout",
     "output_type": "stream",
     "text": [
      "Praleista reiksme pagal Euklido metrika yra: 173.33 cm\n",
      "Praleista reiksme pagal Manhattan metrika yra: 168.77 cm\n",
      "Praleista reiksme pagal Chebyshev metrika yra: 175.11 cm\n"
     ]
    }
   ],
   "source": [
    "metrikos = ['Euklido', 'Manhattan', 'Chebyshev']\n",
    "for metrika in metrikos:\n",
    "    atstatymas(X, ugis_arr, A, ugis, metrika)"
   ]
  },
  {
   "cell_type": "markdown",
   "metadata": {},
   "source": [
    "***\n",
    "## 3 uzduotis <a class=\"anchor\" id=\"trecia\"></a>\n",
    "Parašykite programą, kuri atstatytų (1 lentelės) praleistą reikšmę, taikant koreliacijos koeficientą.\n",
    "Palyginkite gautus rezultatus 1-3 užduotyse. Parašykite savo komentarą, kuris būdas, tiksliausiai\n",
    "atstatė trūkstamą reikšmę."
   ]
  },
  {
   "cell_type": "code",
   "execution_count": 98,
   "metadata": {},
   "outputs": [
    {
     "data": {
      "text/html": [
       "<div>\n",
       "<style scoped>\n",
       "    .dataframe tbody tr th:only-of-type {\n",
       "        vertical-align: middle;\n",
       "    }\n",
       "\n",
       "    .dataframe tbody tr th {\n",
       "        vertical-align: top;\n",
       "    }\n",
       "\n",
       "    .dataframe thead th {\n",
       "        text-align: right;\n",
       "    }\n",
       "</style>\n",
       "<table border=\"1\" class=\"dataframe\">\n",
       "  <thead>\n",
       "    <tr style=\"text-align: right;\">\n",
       "      <th></th>\n",
       "      <th>Pacientas</th>\n",
       "      <th>Lytis</th>\n",
       "      <th>Ugis</th>\n",
       "      <th>Svoris</th>\n",
       "    </tr>\n",
       "  </thead>\n",
       "  <tbody>\n",
       "    <tr>\n",
       "      <th>0</th>\n",
       "      <td>Vardas 1</td>\n",
       "      <td>0</td>\n",
       "      <td>165.0</td>\n",
       "      <td>55</td>\n",
       "    </tr>\n",
       "    <tr>\n",
       "      <th>1</th>\n",
       "      <td>Vardas 2</td>\n",
       "      <td>1</td>\n",
       "      <td>183.0</td>\n",
       "      <td>95</td>\n",
       "    </tr>\n",
       "    <tr>\n",
       "      <th>2</th>\n",
       "      <td>Vardas 3</td>\n",
       "      <td>0</td>\n",
       "      <td>171.0</td>\n",
       "      <td>60</td>\n",
       "    </tr>\n",
       "    <tr>\n",
       "      <th>3</th>\n",
       "      <td>Vardas 4</td>\n",
       "      <td>1</td>\n",
       "      <td>194.0</td>\n",
       "      <td>102</td>\n",
       "    </tr>\n",
       "    <tr>\n",
       "      <th>4</th>\n",
       "      <td>Vardas 5</td>\n",
       "      <td>1</td>\n",
       "      <td>NaN</td>\n",
       "      <td>80</td>\n",
       "    </tr>\n",
       "    <tr>\n",
       "      <th>5</th>\n",
       "      <td>Vardas 6</td>\n",
       "      <td>1</td>\n",
       "      <td>185.0</td>\n",
       "      <td>90</td>\n",
       "    </tr>\n",
       "  </tbody>\n",
       "</table>\n",
       "</div>"
      ],
      "text/plain": [
       "  Pacientas  Lytis   Ugis  Svoris\n",
       "0  Vardas 1      0  165.0      55\n",
       "1  Vardas 2      1  183.0      95\n",
       "2  Vardas 3      0  171.0      60\n",
       "3  Vardas 4      1  194.0     102\n",
       "4  Vardas 5      1    NaN      80\n",
       "5  Vardas 6      1  185.0      90"
      ]
     },
     "execution_count": 98,
     "metadata": {},
     "output_type": "execute_result"
    }
   ],
   "source": [
    "df"
   ]
  },
  {
   "cell_type": "markdown",
   "metadata": {},
   "source": [
    "Nustatome kurioje eiluteje yra praleista reiksme"
   ]
  },
  {
   "cell_type": "code",
   "execution_count": 99,
   "metadata": {},
   "outputs": [
    {
     "data": {
      "text/plain": [
       "4"
      ]
     },
     "execution_count": 99,
     "metadata": {},
     "output_type": "execute_result"
    }
   ],
   "source": [
    "row_n = df.loc[pd.isna(df['Ugis']), :].index[0]\n",
    "row_n"
   ]
  },
  {
   "cell_type": "code",
   "execution_count": 100,
   "metadata": {},
   "outputs": [],
   "source": [
    "P_ugis = np.mean(df['Ugis']) # Ugio pozymio vidurkis\n",
    "\n",
    "P_j = df[['Lytis', 'Svoris']] # objektu pozymiai isskyrus pozymi su praleista reiksme"
   ]
  },
  {
   "cell_type": "markdown",
   "metadata": {},
   "source": [
    "Pilna koreliaciju matrica"
   ]
  },
  {
   "cell_type": "code",
   "execution_count": 101,
   "metadata": {},
   "outputs": [
    {
     "data": {
      "text/html": [
       "<div>\n",
       "<style scoped>\n",
       "    .dataframe tbody tr th:only-of-type {\n",
       "        vertical-align: middle;\n",
       "    }\n",
       "\n",
       "    .dataframe tbody tr th {\n",
       "        vertical-align: top;\n",
       "    }\n",
       "\n",
       "    .dataframe thead th {\n",
       "        text-align: right;\n",
       "    }\n",
       "</style>\n",
       "<table border=\"1\" class=\"dataframe\">\n",
       "  <thead>\n",
       "    <tr style=\"text-align: right;\">\n",
       "      <th></th>\n",
       "      <th>Lytis</th>\n",
       "      <th>Ugis</th>\n",
       "      <th>Svoris</th>\n",
       "    </tr>\n",
       "  </thead>\n",
       "  <tbody>\n",
       "    <tr>\n",
       "      <th>Lytis</th>\n",
       "      <td>1.000000</td>\n",
       "      <td>0.915460</td>\n",
       "      <td>0.923654</td>\n",
       "    </tr>\n",
       "    <tr>\n",
       "      <th>Ugis</th>\n",
       "      <td>0.915460</td>\n",
       "      <td>1.000000</td>\n",
       "      <td>0.967977</td>\n",
       "    </tr>\n",
       "    <tr>\n",
       "      <th>Svoris</th>\n",
       "      <td>0.923654</td>\n",
       "      <td>0.967977</td>\n",
       "      <td>1.000000</td>\n",
       "    </tr>\n",
       "  </tbody>\n",
       "</table>\n",
       "</div>"
      ],
      "text/plain": [
       "           Lytis      Ugis    Svoris\n",
       "Lytis   1.000000  0.915460  0.923654\n",
       "Ugis    0.915460  1.000000  0.967977\n",
       "Svoris  0.923654  0.967977  1.000000"
      ]
     },
     "execution_count": 101,
     "metadata": {},
     "output_type": "execute_result"
    }
   ],
   "source": [
    "rho = df.corr()\n",
    "rho"
   ]
  },
  {
   "cell_type": "code",
   "execution_count": 102,
   "metadata": {},
   "outputs": [
    {
     "data": {
      "text/html": [
       "<div>\n",
       "<style scoped>\n",
       "    .dataframe tbody tr th:only-of-type {\n",
       "        vertical-align: middle;\n",
       "    }\n",
       "\n",
       "    .dataframe tbody tr th {\n",
       "        vertical-align: top;\n",
       "    }\n",
       "\n",
       "    .dataframe thead th {\n",
       "        text-align: right;\n",
       "    }\n",
       "</style>\n",
       "<table border=\"1\" class=\"dataframe\">\n",
       "  <thead>\n",
       "    <tr style=\"text-align: right;\">\n",
       "      <th></th>\n",
       "      <th>Ugis</th>\n",
       "    </tr>\n",
       "  </thead>\n",
       "  <tbody>\n",
       "    <tr>\n",
       "      <th>Lytis</th>\n",
       "      <td>0.915460</td>\n",
       "    </tr>\n",
       "    <tr>\n",
       "      <th>Svoris</th>\n",
       "      <td>0.967977</td>\n",
       "    </tr>\n",
       "  </tbody>\n",
       "</table>\n",
       "</div>"
      ],
      "text/plain": [
       "            Ugis\n",
       "Lytis   0.915460\n",
       "Svoris  0.967977"
      ]
     },
     "execution_count": 102,
     "metadata": {},
     "output_type": "execute_result"
    }
   ],
   "source": [
    "rho = rho.drop(['Lytis', 'Svoris'], 1) # pasaliname lyties ir svorio stulpelius\n",
    "rho = rho.drop(rho.index[[1]]) # pasaliname eilute, kuri rodo ugio koreliacija su paciu savimi\n",
    "rho"
   ]
  },
  {
   "cell_type": "code",
   "execution_count": 103,
   "metadata": {},
   "outputs": [
    {
     "data": {
      "text/plain": [
       "179.6"
      ]
     },
     "execution_count": 103,
     "metadata": {},
     "output_type": "execute_result"
    }
   ],
   "source": [
    "P_praleista = P_ugis\n",
    "skaitiklis = 0\n",
    "vardiklis = 0\n",
    "\n",
    "for i, (col,cor) in enumerate(zip(rho.axes[0], rho.to_numpy())):\n",
    "    skaitiklis += cor*(df[col][row_n]-np.mean(df[col]))\n",
    "    vardiklis += np.abs(cor)\n",
    "    if i == len(rho.axes[0]):\n",
    "        P_praleista += skaitiklis/vardiklis # skaiciuojam objektui A P_r reiksme\n",
    "    \n",
    "P_praleista"
   ]
  },
  {
   "cell_type": "markdown",
   "metadata": {},
   "source": [
    "### Išvados"
   ]
  },
  {
   "cell_type": "markdown",
   "metadata": {},
   "source": [
    "Skirtingų algoritmų rezultatai labai panašūs, intuityviai atrodo, kad praleistą reikšmę pakeičiant vidurkių arba medianą (atsižvelgiant į lytį) gavome geriausius rezultatus, tačiau dabar mūsų turimas duomenų kiekis yra labai mažas, tad ne aišku kaip būtų buvę esant didesniam duomenų kiekiui, taip pat gerus rezultatus užpildant praleistą reikšmę parodė taikant koreliacijos koeficientą."
   ]
  },
  {
   "cell_type": "markdown",
   "metadata": {},
   "source": [
    "***\n",
    "## 4 uždavinys „Rekomendacinės sistemos kūrimas, turint anoniminių naudotojų duomenis“. <a class=\"anchor\" id=\"ketvirta\"></a>\n",
    "Lentelėje pateikti anoniminių naudotojų duomenys, kurie apsipirkinėjo moterų drabužių\n",
    "internetinėje parduotuvėje. Sistema nefiksuoja vartotojų asmeninių duomenų, todėl nežino jų\n",
    "skonio. Ši rekomendacinė sistema, pirkimo eigoje (vartotojui pasirenkant vieną iš prekių į pirkimo\n",
    "krepšelį) turi pasiūlyti sekančią prekę, kuri turėtų sudominti pirkėją. Prekių panašumo laipsnį,\n",
    "nustatykite skaičiuojant Euklido metriką."
   ]
  },
  {
   "cell_type": "code",
   "execution_count": 104,
   "metadata": {},
   "outputs": [
    {
     "data": {
      "text/html": [
       "<div>\n",
       "<style scoped>\n",
       "    .dataframe tbody tr th:only-of-type {\n",
       "        vertical-align: middle;\n",
       "    }\n",
       "\n",
       "    .dataframe tbody tr th {\n",
       "        vertical-align: top;\n",
       "    }\n",
       "\n",
       "    .dataframe thead th {\n",
       "        text-align: right;\n",
       "    }\n",
       "</style>\n",
       "<table border=\"1\" class=\"dataframe\">\n",
       "  <thead>\n",
       "    <tr style=\"text-align: right;\">\n",
       "      <th></th>\n",
       "      <th>0</th>\n",
       "      <th>1</th>\n",
       "      <th>2</th>\n",
       "      <th>3</th>\n",
       "      <th>4</th>\n",
       "      <th>5</th>\n",
       "      <th>6</th>\n",
       "    </tr>\n",
       "  </thead>\n",
       "  <tbody>\n",
       "    <tr>\n",
       "      <th>Klasikine suknele</th>\n",
       "      <td>1</td>\n",
       "      <td>1</td>\n",
       "      <td>1</td>\n",
       "      <td>0</td>\n",
       "      <td>0</td>\n",
       "      <td>0</td>\n",
       "      <td>1</td>\n",
       "    </tr>\n",
       "    <tr>\n",
       "      <th>Retro suknele</th>\n",
       "      <td>0</td>\n",
       "      <td>1</td>\n",
       "      <td>0</td>\n",
       "      <td>0</td>\n",
       "      <td>1</td>\n",
       "      <td>0</td>\n",
       "      <td>0</td>\n",
       "    </tr>\n",
       "    <tr>\n",
       "      <th>Klasikinis kostiumas su kelnemis</th>\n",
       "      <td>0</td>\n",
       "      <td>0</td>\n",
       "      <td>0</td>\n",
       "      <td>1</td>\n",
       "      <td>0</td>\n",
       "      <td>1</td>\n",
       "      <td>1</td>\n",
       "    </tr>\n",
       "    <tr>\n",
       "      <th>Klasikinis kostiumas su sijonu</th>\n",
       "      <td>0</td>\n",
       "      <td>0</td>\n",
       "      <td>1</td>\n",
       "      <td>0</td>\n",
       "      <td>0</td>\n",
       "      <td>0</td>\n",
       "      <td>0</td>\n",
       "    </tr>\n",
       "    <tr>\n",
       "      <th>Kelnes</th>\n",
       "      <td>0</td>\n",
       "      <td>1</td>\n",
       "      <td>0</td>\n",
       "      <td>1</td>\n",
       "      <td>0</td>\n",
       "      <td>0</td>\n",
       "      <td>0</td>\n",
       "    </tr>\n",
       "    <tr>\n",
       "      <th>Sijonas</th>\n",
       "      <td>1</td>\n",
       "      <td>0</td>\n",
       "      <td>0</td>\n",
       "      <td>0</td>\n",
       "      <td>1</td>\n",
       "      <td>1</td>\n",
       "      <td>0</td>\n",
       "    </tr>\n",
       "  </tbody>\n",
       "</table>\n",
       "</div>"
      ],
      "text/plain": [
       "                                  0  1  2  3  4  5  6\n",
       "Klasikine suknele                 1  1  1  0  0  0  1\n",
       "Retro suknele                     0  1  0  0  1  0  0\n",
       "Klasikinis kostiumas su kelnemis  0  0  0  1  0  1  1\n",
       "Klasikinis kostiumas su sijonu    0  0  1  0  0  0  0\n",
       "Kelnes                            0  1  0  1  0  0  0\n",
       "Sijonas                           1  0  0  0  1  1  0"
      ]
     },
     "execution_count": 104,
     "metadata": {},
     "output_type": "execute_result"
    }
   ],
   "source": [
    "prekes_df = pd.DataFrame({\n",
    "    'Klasikine suknele' : [1,1,1,0,0,0,1],\n",
    "    'Retro suknele' : [0,1,0,0,1,0,0],\n",
    "    'Klasikinis kostiumas su kelnemis' : [0,0,0,1,0,1,1],\n",
    "    'Klasikinis kostiumas su sijonu' : [0,0,1,0,0,0,0],\n",
    "    'Kelnes' : [0,1,0,1,0,0,0],\n",
    "    'Sijonas' : [1,0,0,0,1,1,0]\n",
    "})\n",
    "prekes_df = prekes_df.transpose()\n",
    "prekes_df"
   ]
  },
  {
   "cell_type": "markdown",
   "metadata": {},
   "source": [
    "Atstumu matrica"
   ]
  },
  {
   "cell_type": "code",
   "execution_count": 105,
   "metadata": {},
   "outputs": [
    {
     "data": {
      "text/html": [
       "<div>\n",
       "<style scoped>\n",
       "    .dataframe tbody tr th:only-of-type {\n",
       "        vertical-align: middle;\n",
       "    }\n",
       "\n",
       "    .dataframe tbody tr th {\n",
       "        vertical-align: top;\n",
       "    }\n",
       "\n",
       "    .dataframe thead th {\n",
       "        text-align: right;\n",
       "    }\n",
       "</style>\n",
       "<table border=\"1\" class=\"dataframe\">\n",
       "  <thead>\n",
       "    <tr style=\"text-align: right;\">\n",
       "      <th></th>\n",
       "      <th>Klasikine suknele</th>\n",
       "      <th>Retro suknele</th>\n",
       "      <th>Klasikinis kostiumas su kelnemis</th>\n",
       "      <th>Klasikinis kostiumas su sijonu</th>\n",
       "      <th>Kelnes</th>\n",
       "      <th>Sijonas</th>\n",
       "    </tr>\n",
       "  </thead>\n",
       "  <tbody>\n",
       "    <tr>\n",
       "      <th>Klasikine suknele</th>\n",
       "      <td>0.000000</td>\n",
       "      <td>2.000000</td>\n",
       "      <td>2.236068</td>\n",
       "      <td>1.732051</td>\n",
       "      <td>2.000000</td>\n",
       "      <td>2.236068</td>\n",
       "    </tr>\n",
       "    <tr>\n",
       "      <th>Retro suknele</th>\n",
       "      <td>2.000000</td>\n",
       "      <td>0.000000</td>\n",
       "      <td>2.236068</td>\n",
       "      <td>1.732051</td>\n",
       "      <td>1.414214</td>\n",
       "      <td>1.732051</td>\n",
       "    </tr>\n",
       "    <tr>\n",
       "      <th>Klasikinis kostiumas su kelnemis</th>\n",
       "      <td>2.236068</td>\n",
       "      <td>2.236068</td>\n",
       "      <td>0.000000</td>\n",
       "      <td>2.000000</td>\n",
       "      <td>1.732051</td>\n",
       "      <td>2.000000</td>\n",
       "    </tr>\n",
       "    <tr>\n",
       "      <th>Klasikinis kostiumas su sijonu</th>\n",
       "      <td>1.732051</td>\n",
       "      <td>1.732051</td>\n",
       "      <td>2.000000</td>\n",
       "      <td>0.000000</td>\n",
       "      <td>1.732051</td>\n",
       "      <td>2.000000</td>\n",
       "    </tr>\n",
       "    <tr>\n",
       "      <th>Kelnes</th>\n",
       "      <td>2.000000</td>\n",
       "      <td>1.414214</td>\n",
       "      <td>1.732051</td>\n",
       "      <td>1.732051</td>\n",
       "      <td>0.000000</td>\n",
       "      <td>2.236068</td>\n",
       "    </tr>\n",
       "    <tr>\n",
       "      <th>Sijonas</th>\n",
       "      <td>2.236068</td>\n",
       "      <td>1.732051</td>\n",
       "      <td>2.000000</td>\n",
       "      <td>2.000000</td>\n",
       "      <td>2.236068</td>\n",
       "      <td>0.000000</td>\n",
       "    </tr>\n",
       "  </tbody>\n",
       "</table>\n",
       "</div>"
      ],
      "text/plain": [
       "                                  Klasikine suknele  Retro suknele  \\\n",
       "Klasikine suknele                          0.000000       2.000000   \n",
       "Retro suknele                              2.000000       0.000000   \n",
       "Klasikinis kostiumas su kelnemis           2.236068       2.236068   \n",
       "Klasikinis kostiumas su sijonu             1.732051       1.732051   \n",
       "Kelnes                                     2.000000       1.414214   \n",
       "Sijonas                                    2.236068       1.732051   \n",
       "\n",
       "                                  Klasikinis kostiumas su kelnemis  \\\n",
       "Klasikine suknele                                         2.236068   \n",
       "Retro suknele                                             2.236068   \n",
       "Klasikinis kostiumas su kelnemis                          0.000000   \n",
       "Klasikinis kostiumas su sijonu                            2.000000   \n",
       "Kelnes                                                    1.732051   \n",
       "Sijonas                                                   2.000000   \n",
       "\n",
       "                                  Klasikinis kostiumas su sijonu    Kelnes  \\\n",
       "Klasikine suknele                                       1.732051  2.000000   \n",
       "Retro suknele                                           1.732051  1.414214   \n",
       "Klasikinis kostiumas su kelnemis                        2.000000  1.732051   \n",
       "Klasikinis kostiumas su sijonu                          0.000000  1.732051   \n",
       "Kelnes                                                  1.732051  0.000000   \n",
       "Sijonas                                                 2.000000  2.236068   \n",
       "\n",
       "                                   Sijonas  \n",
       "Klasikine suknele                 2.236068  \n",
       "Retro suknele                     1.732051  \n",
       "Klasikinis kostiumas su kelnemis  2.000000  \n",
       "Klasikinis kostiumas su sijonu    2.000000  \n",
       "Kelnes                            2.236068  \n",
       "Sijonas                           0.000000  "
      ]
     },
     "execution_count": 105,
     "metadata": {},
     "output_type": "execute_result"
    }
   ],
   "source": [
    "from scipy.spatial import distance_matrix\n",
    "\n",
    "atstumu_matrica = pd.DataFrame(distance_matrix(prekes_df.values, prekes_df.values), index=prekes_df.index, columns=prekes_df.index)\n",
    "atstumu_matrica"
   ]
  },
  {
   "cell_type": "code",
   "execution_count": 106,
   "metadata": {},
   "outputs": [
    {
     "ename": "SyntaxError",
     "evalue": "invalid syntax (<ipython-input-106-6ed87c8d46f1>, line 1)",
     "output_type": "error",
     "traceback": [
      "\u001b[0;36m  File \u001b[0;32m\"<ipython-input-106-6ed87c8d46f1>\"\u001b[0;36m, line \u001b[0;32m1\u001b[0m\n\u001b[0;31m    1.732051print(\"REKOMENDACINE SISTEMA\\n\\n\")\u001b[0m\n\u001b[0m                ^\u001b[0m\n\u001b[0;31mSyntaxError\u001b[0m\u001b[0;31m:\u001b[0m invalid syntax\n"
     ]
    }
   ],
   "source": [
    "1.732051print(\"REKOMENDACINE SISTEMA\\n\\n\")\n",
    "for rubas in atstumu_matrica:\n",
    "    tmp = atstumu_matrica[rubas].sort_values()[:4]\n",
    "    print(\"Prie\", tmp.index[0], \"siulome:\\n\") # pasirinkta preke\n",
    "    print(\"\\t{},\\n\\t{}\\n\\t{}\".format(tmp.index[1], tmp.index[2], tmp.index[3]))\n",
    "    print(\"__________________________________\")\n",
    "    print('\\n')\n"
   ]
  },
  {
   "cell_type": "markdown",
   "metadata": {},
   "source": [
    "# PATAISYTI !!!"
   ]
  },
  {
   "cell_type": "markdown",
   "metadata": {},
   "source": [
    "## 5 uždavinys „Rekomendacinės sistemos kūrimas, taikant koreliacijos koeficiento skaičiavimą “. <a class=\"anchor\" id=\"penkta\"></a>\n",
    "Sukurkite savo rekomendacinę sistemą, pvz. kito filmų peržiūros portalui. Filmai vertinami penkių\n",
    "balų sistemoje. Lentelėje numatykite 7 požymius (filmus) ir 5 objektus (vartotojus).\n",
    "Rekomendaciją pasiūlykite 6-am vartotojui, kuris iš 5 filmų įvertino 3. Parašykite programą."
   ]
  },
  {
   "cell_type": "code",
   "execution_count": 108,
   "metadata": {},
   "outputs": [
    {
     "data": {
      "text/html": [
       "<div>\n",
       "<style scoped>\n",
       "    .dataframe tbody tr th:only-of-type {\n",
       "        vertical-align: middle;\n",
       "    }\n",
       "\n",
       "    .dataframe tbody tr th {\n",
       "        vertical-align: top;\n",
       "    }\n",
       "\n",
       "    .dataframe thead th {\n",
       "        text-align: right;\n",
       "    }\n",
       "</style>\n",
       "<table border=\"1\" class=\"dataframe\">\n",
       "  <thead>\n",
       "    <tr style=\"text-align: right;\">\n",
       "      <th></th>\n",
       "      <th>Zvaigzdziu karai</th>\n",
       "      <th>Titanikas</th>\n",
       "      <th>Haris Poteris</th>\n",
       "      <th>Greiti ir isiute I</th>\n",
       "      <th>Ziedu valdovas</th>\n",
       "      <th>Greiti ir isiute II</th>\n",
       "      <th>Greiti ir isiute III</th>\n",
       "    </tr>\n",
       "  </thead>\n",
       "  <tbody>\n",
       "    <tr>\n",
       "      <th>0</th>\n",
       "      <td>4.0</td>\n",
       "      <td>0.0</td>\n",
       "      <td>4.0</td>\n",
       "      <td>5</td>\n",
       "      <td>5.0</td>\n",
       "      <td>5</td>\n",
       "      <td>5</td>\n",
       "    </tr>\n",
       "    <tr>\n",
       "      <th>1</th>\n",
       "      <td>3.0</td>\n",
       "      <td>1.0</td>\n",
       "      <td>5.0</td>\n",
       "      <td>4</td>\n",
       "      <td>4.0</td>\n",
       "      <td>4</td>\n",
       "      <td>4</td>\n",
       "    </tr>\n",
       "    <tr>\n",
       "      <th>2</th>\n",
       "      <td>2.0</td>\n",
       "      <td>5.0</td>\n",
       "      <td>4.0</td>\n",
       "      <td>1</td>\n",
       "      <td>0.0</td>\n",
       "      <td>2</td>\n",
       "      <td>1</td>\n",
       "    </tr>\n",
       "    <tr>\n",
       "      <th>3</th>\n",
       "      <td>1.0</td>\n",
       "      <td>1.0</td>\n",
       "      <td>5.0</td>\n",
       "      <td>0</td>\n",
       "      <td>2.0</td>\n",
       "      <td>1</td>\n",
       "      <td>1</td>\n",
       "    </tr>\n",
       "    <tr>\n",
       "      <th>4</th>\n",
       "      <td>5.0</td>\n",
       "      <td>3.0</td>\n",
       "      <td>2.0</td>\n",
       "      <td>4</td>\n",
       "      <td>3.0</td>\n",
       "      <td>4</td>\n",
       "      <td>5</td>\n",
       "    </tr>\n",
       "    <tr>\n",
       "      <th>5</th>\n",
       "      <td>NaN</td>\n",
       "      <td>NaN</td>\n",
       "      <td>NaN</td>\n",
       "      <td>5</td>\n",
       "      <td>NaN</td>\n",
       "      <td>5</td>\n",
       "      <td>5</td>\n",
       "    </tr>\n",
       "  </tbody>\n",
       "</table>\n",
       "</div>"
      ],
      "text/plain": [
       "   Zvaigzdziu karai  Titanikas  Haris Poteris  Greiti ir isiute I  \\\n",
       "0               4.0        0.0            4.0                   5   \n",
       "1               3.0        1.0            5.0                   4   \n",
       "2               2.0        5.0            4.0                   1   \n",
       "3               1.0        1.0            5.0                   0   \n",
       "4               5.0        3.0            2.0                   4   \n",
       "5               NaN        NaN            NaN                   5   \n",
       "\n",
       "   Ziedu valdovas  Greiti ir isiute II  Greiti ir isiute III  \n",
       "0             5.0                    5                     5  \n",
       "1             4.0                    4                     4  \n",
       "2             0.0                    2                     1  \n",
       "3             2.0                    1                     1  \n",
       "4             3.0                    4                     5  \n",
       "5             NaN                    5                     5  "
      ]
     },
     "execution_count": 108,
     "metadata": {},
     "output_type": "execute_result"
    }
   ],
   "source": [
    "filmai_df = pd.DataFrame({\n",
    "    'Zvaigzdziu karai' : [4,3,2,1,5,np.nan],\n",
    "    'Titanikas' : [0,1,5,1,3,np.nan],\n",
    "    'Haris Poteris' : [4,5,4,5,2,np.nan],\n",
    "    'Greiti ir isiute I' : [5,4,1,0,4,5],\n",
    "    'Ziedu valdovas' : [5,4,0,2,3,np.nan],\n",
    "    'Greiti ir isiute II' : [5,4,2,1,4,5],\n",
    "    'Greiti ir isiute III' : [5,4,1,1,5,5]\n",
    "})\n",
    "#filmai_df = filmai_df.transpose()\n",
    "filmai_df"
   ]
  },
  {
   "cell_type": "code",
   "execution_count": 109,
   "metadata": {},
   "outputs": [
    {
     "data": {
      "text/plain": [
       "Zvaigzdziu karai        NaN\n",
       "Titanikas               NaN\n",
       "Haris Poteris           NaN\n",
       "Greiti ir isiute I      5.0\n",
       "Ziedu valdovas          NaN\n",
       "Greiti ir isiute II     5.0\n",
       "Greiti ir isiute III    5.0\n",
       "Name: 5, dtype: float64"
      ]
     },
     "execution_count": 109,
     "metadata": {},
     "output_type": "execute_result"
    }
   ],
   "source": [
    "filmai_df.loc[5,:]"
   ]
  },
  {
   "cell_type": "markdown",
   "metadata": {},
   "source": [
    "Randame vartotojus, kurie 3 filmus įvertino panašiausiai kaip mūsų 6-asis vartotojas"
   ]
  },
  {
   "cell_type": "code",
   "execution_count": 110,
   "metadata": {
    "scrolled": true
   },
   "outputs": [
    {
     "data": {
      "text/plain": [
       "[0.0,\n",
       " 1.7320508075688772,\n",
       " 6.4031242374328485,\n",
       " 7.54983443527075,\n",
       " 1.4142135623730951]"
      ]
     },
     "execution_count": 110,
     "metadata": {},
     "output_type": "execute_result"
    }
   ],
   "source": [
    "a = filmai_df.loc[5,:] # vartotojas kuriam norime rekomenduoti filma\n",
    "atstumai = [] # atstumai tarp vartotoju filmu pomegiu\n",
    "for i in range(len(filmai_df)-1):\n",
    "    b = filmai_df.loc[i,:]\n",
    "    atstumai.append(np.sqrt(np.nansum((a-b)**2)))\n",
    "    \n",
    "atstumai"
   ]
  },
  {
   "cell_type": "code",
   "execution_count": 111,
   "metadata": {},
   "outputs": [
    {
     "name": "stdout",
     "output_type": "stream",
     "text": [
      "Vartotojas numeris: 0, filmus vertina panasiausiai\n"
     ]
    }
   ],
   "source": [
    "kandidato_nr = np.argmin(atstumai) # vartotojas su maziausiu atstumu i musu stebima vartotoja\n",
    "print(\"Vartotojas numeris: {}, filmus vertina panasiausiai\".format(kandidato_nr))"
   ]
  },
  {
   "cell_type": "markdown",
   "metadata": {},
   "source": [
    "Rekomendacine programa:"
   ]
  },
  {
   "cell_type": "code",
   "execution_count": 112,
   "metadata": {},
   "outputs": [
    {
     "name": "stdout",
     "output_type": "stream",
     "text": [
      "Rekomenduojame pasiziureti filma: Haris Poteris, sio filmo vidutinis ivertinimas yra 4.0 balai\n"
     ]
    }
   ],
   "source": [
    "ivertinimas = 5\n",
    "siulomas_filmas = []\n",
    "\n",
    "for flag, balas, filmas  in zip(pd.isnull(filmai_df).sum()>0, filmai_df.loc[kandidato_nr,:], filmai_df.loc[kandidato_nr,:].index):\n",
    "    if flag:\n",
    "        if balas < ivertinimas:\n",
    "            siulomas_filmas = filmas\n",
    "\n",
    "print(\"Rekomenduojame pasiziureti filma: {}, sio filmo vidutinis ivertinimas yra {} balai\".format(siulomas_filmas, filmai_df[siulomas_filmas].mean()))"
   ]
  },
  {
   "cell_type": "markdown",
   "metadata": {},
   "source": [
    "***\n",
    "## Neatitikčių (anomalijų) paieška\n",
    "Duotas duomenų masyvas: A=[15, 16000, 20000, 550, 22000, 24000, 15000, 18000, 373]\n",
    "## 6 uždavinys „Neatitikčių paieška, taikant Šovene kriterijų“. <a class=\"anchor\" id=\"sesta\"></a>\n",
    "Duotajame A masyve raskite neatitikčių (anomalijų), taikant Šovene kriterijų.\n",
    "$erfc\\Big(\\frac{|p_i- \\bar{p_i}}{S_p}\\Big) < \\frac{1}{2n}$"
   ]
  },
  {
   "cell_type": "markdown",
   "metadata": {},
   "source": [
    "# +PATAISYTAS !!!"
   ]
  },
  {
   "cell_type": "code",
   "execution_count": 63,
   "metadata": {},
   "outputs": [],
   "source": [
    "from matplotlib import pyplot as plt\n",
    "from scipy import special"
   ]
  },
  {
   "cell_type": "code",
   "execution_count": 79,
   "metadata": {},
   "outputs": [
    {
     "data": {
      "text/plain": [
       "[<matplotlib.lines.Line2D at 0x7f82958d21d0>]"
      ]
     },
     "execution_count": 79,
     "metadata": {},
     "output_type": "execute_result"
    },
    {
     "data": {
      "image/png": "[encoded data removed]",
      "text/plain": [
       "<Figure size 432x288 with 1 Axes>"
      ]
     },
     "metadata": {
      "needs_background": "light"
     },
     "output_type": "display_data"
    }
   ],
   "source": [
    "A=[15, 16000, 20000, 550, 22000, 24000, 15000, 18000, 373]\n",
    "plt.plot(A)"
   ]
  },
  {
   "cell_type": "code",
   "execution_count": 80,
   "metadata": {},
   "outputs": [],
   "source": [
    "def nustatyti_id(A):\n",
    "    X = np.abs(A - np.mean(A))/np.std(A)\n",
    "    n = len(X)\n",
    "    C = 1/(2*n)\n",
    "    return np.where(special.erfc(X) < C)[0][0]"
   ]
  },
  {
   "cell_type": "code",
   "execution_count": 81,
   "metadata": {
    "scrolled": true
   },
   "outputs": [
    {
     "name": "stdout",
     "output_type": "stream",
     "text": [
      "15 yra anomalija\n",
      "550 yra anomalija\n",
      "373 yra anomalija\n",
      "24000 yra anomalija\n",
      "[16000 20000 22000 15000 18000]\n"
     ]
    }
   ],
   "source": [
    "iteracijos = 4 # iteraciju skaicius\n",
    "\n",
    "if iteracijos > len(A):\n",
    "    iteracijos = len(A)\n",
    "for j in range(iteracijos):\n",
    "    idx = nustatyti_id(A)\n",
    "    print(A[idx], \"yra anomalija\")\n",
    "    A = np.delete(A, idx)\n",
    "print(A)\n",
    "    #n = len(X)\n",
    "    #C = 1/(2*n)\n",
    "    #for i, x in enumerate(X):\n",
    "    #    if special.erfc(x) < C:\n",
    "    #        print(A[i], \"yra anomalija\")\n",
    "    #        break\n",
    "    #X = np.delete(X, i)"
   ]
  },
  {
   "cell_type": "markdown",
   "metadata": {},
   "source": [
    "## 7 uždavinys „Neatitikčių paieška, taikant Kvartilių algoritmą“. <a class=\"anchor\" id=\"septinta\"></a>\n",
    "Duotajame A masyve raskite neatitikčių (anomalijų), taikant Kvartilių algoritmą."
   ]
  },
  {
   "cell_type": "code",
   "execution_count": 30,
   "metadata": {},
   "outputs": [
    {
     "name": "stdout",
     "output_type": "stream",
     "text": [
      "Apatinis rezis: -28625.0 \n",
      "Virsutinis rezis: 49175.0\n"
     ]
    }
   ],
   "source": [
    "q75, q25 = np.percentile(A, [75 ,25])\n",
    "IQR = q75 - q25\n",
    "\n",
    "apatinis = q25 - 1.5*IQR\n",
    "virsutinis = q75 + 1.5*IQR\n",
    "\n",
    "print(\"Apatinis rezis: {} \\nVirsutinis rezis: {}\".format(apatinis, virsutinis))"
   ]
  },
  {
   "cell_type": "markdown",
   "metadata": {},
   "source": [
    "Tikriname ar yra elementu, kurie iseina uz musu nustatytu reziu"
   ]
  },
  {
   "cell_type": "code",
   "execution_count": 31,
   "metadata": {},
   "outputs": [
    {
     "name": "stdout",
     "output_type": "stream",
     "text": [
      "Pagal interkvartiliu metoda, anomaliju neaptikta!\n"
     ]
    }
   ],
   "source": [
    "X = np.delete(X, i)flag = 0\n",
    "for i,x in enumerate(A):\n",
    "    if (apatinis>x or x>virsutinis):\n",
    "        print(x, \"Yra anomalija\")\n",
    "        flag+=1\n",
    "    if i == len(A)-1:\n",
    "        if flag==0:\n",
    "            print(\"Pagal interkvartiliu metoda, anomaliju neaptikta!\")"
   ]
  }
 ],
 "metadata": {
  "kernelspec": {
   "display_name": "Python 3",
   "language": "python",
   "name": "python3"
  },
  "language_info": {
   "codemirror_mode": {
    "name": "ipython",
    "version": 3
   },
   "file_extension": ".py",
   "mimetype": "text/x-python",
   "name": "python",
   "nbconvert_exporter": "python",
   "pygments_lexer": "ipython3",
   "version": "3.7.3"
  }
 },
 "nbformat": 4,
 "nbformat_minor": 2
}
