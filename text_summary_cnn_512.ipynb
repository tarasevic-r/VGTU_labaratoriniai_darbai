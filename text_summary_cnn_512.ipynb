{
  "nbformat": 4,
  "nbformat_minor": 0,
  "metadata": {
    "colab": {
      "name": "Copy of Increase RAM Reference Notes By Techhawa .ipynb",
      "provenance": [],
      "collapsed_sections": [],
      "toc_visible": true,
      "machine_shape": "hm"
    },
    "kernelspec": {
      "name": "python3",
      "display_name": "Python 3"
    },
    "accelerator": "GPU"
  },
  "cells": [
    {
      "cell_type": "code",
      "metadata": {
        "id": "uFv9AL8Mg7Jz"
      },
      "source": [
        "# only run this cell if you are in collab\n",
        "!pip install ohmeow-blurr -q\n",
        "!pip install datasets -q\n",
        "!pip install bert-score -q\n",
        "import datasets\n",
        "import pandas as pd\n",
        "\n",
        "#!pip install fastai==2.1.8\n",
        "#!pip install fastcore==1.3.1\n",
        "from fastai import *\n",
        "from fastcore import *\n",
        "from fastai.text.all import *\n",
        "\n",
        "from transformers import *\n",
        "\n",
        "from blurr.data.all import *\n",
        "from blurr.modeling.all import *"
      ],
      "execution_count": 46,
      "outputs": []
    },
    {
      "cell_type": "markdown",
      "metadata": {
        "id": "qO7HWpr3g_VT"
      },
      "source": [
        "# Data Preparation\n",
        "We're going to use to use the datasets library from huggingface to grab your raw data. This package gives you access to all kinds of NLP related datasets, explanations of each, and various task specific metrics to use in evaluating your model. The best part being everything comes down to you in JSON! This makes it a breeze to get up and running quickly!\n",
        "\n",
        "We'll just use a subset of the training set to build both our training and validation DataLoaders"
      ]
    },
    {
      "cell_type": "code",
      "metadata": {
        "colab": {
          "resources": {
            "http://localhost:8080/nbextensions/google.colab/files.js": {
              "data": "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",
              "ok": true,
              "headers": [
                [
                  "content-type",
                  "application/javascript"
                ]
              ],
              "status": 200,
              "status_text": ""
            }
          },
          "base_uri": "https://localhost:8080/",
          "height": 854
        },
        "id": "flhuiDnPg9Z9",
        "outputId": "3ed141c4-2fdd-4b0b-fe78-707d2d8def3f"
      },
      "source": [
        "import os\n",
        "from google.colab import files\n",
        "\n",
        "uploaded = files.upload()\n",
        "\n",
        "import io\n",
        "\n",
        "  \n",
        "df = pd.read_csv(io.BytesIO(uploaded['15min_tekstai.csv']), sep='\\t')\n",
        "#df = pd.read_csv('/content/15min_tekstai.csv', sep='\\t')\n",
        "\n",
        "df.head()"
      ],
      "execution_count": 6,
      "outputs": [
        {
          "output_type": "display_data",
          "data": {
            "text/html": [
              "\n",
              "     <input type=\"file\" id=\"files-c35f630b-df3c-47a0-8c78-4e5608ee84e5\" name=\"files[]\" multiple disabled\n",
              "        style=\"border:none\" />\n",
              "     <output id=\"result-c35f630b-df3c-47a0-8c78-4e5608ee84e5\">\n",
              "      Upload widget is only available when the cell has been executed in the\n",
              "      current browser session. Please rerun this cell to enable.\n",
              "      </output>\n",
              "      <script src=\"/nbextensions/google.colab/files.js\"></script> "
            ],
            "text/plain": [
              "<IPython.core.display.HTML object>"
            ]
          },
          "metadata": {
            "tags": []
          }
        },
        {
          "output_type": "stream",
          "text": [
            "Saving 15min_tekstai.csv to 15min_tekstai.csv\n"
          ],
          "name": "stdout"
        },
        {
          "output_type": "execute_result",
          "data": {
            "text/html": [
              "<div>\n",
              "<style scoped>\n",
              "    .dataframe tbody tr th:only-of-type {\n",
              "        vertical-align: middle;\n",
              "    }\n",
              "\n",
              "    .dataframe tbody tr th {\n",
              "        vertical-align: top;\n",
              "    }\n",
              "\n",
              "    .dataframe thead th {\n",
              "        text-align: right;\n",
              "    }\n",
              "</style>\n",
              "<table border=\"1\" class=\"dataframe\">\n",
              "  <thead>\n",
              "    <tr style=\"text-align: right;\">\n",
              "      <th></th>\n",
              "      <th>Unnamed: 0</th>\n",
              "      <th>title</th>\n",
              "      <th>text</th>\n",
              "      <th>summary</th>\n",
              "      <th>author</th>\n",
              "      <th>Unnamed: 0.1</th>\n",
              "    </tr>\n",
              "  </thead>\n",
              "  <tbody>\n",
              "    <tr>\n",
              "      <th>0</th>\n",
              "      <td>0</td>\n",
              "      <td>M.Zingeris: nepasinaudojus žydų bendruomenės potencialu, valstybę atkurti būtų buvę daug sunkiau</td>\n",
              "      <td>Visų pirma verta prisiminti tuos, kurie prie valstybės atkūrimo, o vėliau ir išsaugojimo, prisidėjo tiesiogiai. Tai 1918–1920 metais Nepriklausomybės kovose dalyvavę Lietuvos žydai. Manoma, kad jų buvo apie 3 tūkstančiai, apie 500 — savanoriai. Pasak 15min pašnekovo, šimtai jų, kai kurie jau po mirties, pagerbti ordinais ir medaliais. Kelios dešimtys Lietuvos patriotų žydų apdovanoti Vyčio kryžiaus ordinais.„Prisiminkime Libą Mednikienę iš Širvintų, apdovanotą, kaip tada sakydavo, Vyties (dabar — Vyčio) kryžiaus ordinu už pagalbą Lietuvos kariuomenei ir žvalgybai“, — kalbėjo M.Zingeris.15m...</td>\n",
              "      <td>Valstybę kūrė ne tik etniniai lietuviai, bet ir amžių amžius čia gyvenę žydai litvakai. Anot rašytojo, publicisto Marko Zingerio, to nežinant prieš akis iškyla vienpusis, primityvus, ryškias spalvas praradęs ano meto paveikslas. Vasario 16-oji – puiki proga nuspalvinti tą gerokai išblukusį supratimą.</td>\n",
              "      <td>Aleknavičė Karolina</td>\n",
              "      <td>0.0</td>\n",
              "    </tr>\n",
              "    <tr>\n",
              "      <th>1</th>\n",
              "      <td>1</td>\n",
              "      <td>G.Mažeikis apie tai, kodėl tikime sąmokslo teorijomis ir kaip su jomis kovoti: vos tik uždrausi, iškart išvešės</td>\n",
              "      <td>Sąmokslo teorijos, paaiškino 15min pašnekovas, tai įsivaizdavimas, kad už mūsų nugarų stovi „lėlininkai“, kurie gyvenimus reguliuoja nematomais įrankiais, slaptais susitarimais.„Šios teorijos remiasi priežastiniu mąstymu, įsitikinimu, kad bet kuris įvykis turi konkrečią priežastį ir niekas nekyla spontaniškai. Iš esmės tai neigia laisvės teoriją ir kūrybingumą. Sąmokslo teorijos labai patinka tiems, kurie mėgsta skaičiuoti priežastis“, — svarstė jis ir pridūrė dar vieną įdomų pastebėjimą: sąmokslo teorijos neigia stebuklus, nes stebuklas priklauso spontaniškumo, vadinasi, laisvės sferai. T...</td>\n",
              "      <td>Nors gali atrodyti, kad į baimių pilną sąmokslo teorijų pasaulį pakliūva tik neišsilavinę žmonės, taip nėra. Pasak Vytauto Didžiojo universiteto profesoriaus, Filosofijos ir socialinės kritikos katedros vedėjo Gintauto Mažeikio, tai priklauso nuo to, kiek konkretus asmuo yra linkęs į determinizmą, todėl bet kuris, nepriklausomai nuo išsilavinimo ar politinių pažiūrų, gali įkliūti. O įveikti tai galima ugdant kūrybiškumą ir spontaniškumą – savybes, prieš kurias neatsilaiko jokie sąmokslai.</td>\n",
              "      <td>Aleknavičė Karolina</td>\n",
              "      <td>1.0</td>\n",
              "    </tr>\n",
              "    <tr>\n",
              "      <th>2</th>\n",
              "      <td>2</td>\n",
              "      <td>Istorikas A.Jakubčionis: Lietuva vis tiek būtų tapusi laisva, Sovietų Sąjunga griuvo iš vidaus</td>\n",
              "      <td>Prisimindamas Sausio 13-osios aplinkybes, 15min kalbintas istorikas pabrėžė, kad 1990-ieji buvo laikas, kai laisvės siekiu gyvuojančią Lietuvą Sovietų Sąjunga bandė paveikti įvairiais būdais. Visų pirma, anot jo, visuomenę bandyta įbauginti. Vos paskelbus nepriklausomybę, pasipylė reikalavimai visus aktus nutraukti ir planų atsisakyti, grasinant ekonomine blokada. Griebtasi ir kitų priemonių — pranešta apie karinę prievolę. Galiausiai prasidėjo ekonominė blokada.Pasak A.Jakubčionio, ji išryškino kad Lietuva dar pernelyg integruota į Sovietų Sąjungą ir kad abi yra priklausomos nuo viena kit...</td>\n",
              "      <td>O kas, jeigu ne Sausio 13-oji? Istorikas, Vilniaus universiteto (VU) docentas dr. Algirdas Jakubčionis pastebi, kad net jeigu lemtingą naktį gatvės taip ir būtų likusios tuščios – Lietuva vis tiek būtų tapusi laisva, nes iš vidaus supuvusi Sovietų Sąjunga neturėjo šansų išlikti. Vis dėlto, ne nesuvaldoma istorijos tėkmė, o sąmoningas tautos apsisprendimas atvedė į Sausio 13-ąją. Nors laisvę bandyta slopinti ne tik brutalia jėga, bet ir ekonominėmis priemonėmis bei grasinimais, visuomenė aiškiai parodė — norime gyventi savarankiškoje valstybėje.</td>\n",
              "      <td>Aleknavičė Karolina</td>\n",
              "      <td>2.0</td>\n",
              "    </tr>\n",
              "    <tr>\n",
              "      <th>3</th>\n",
              "      <td>3</td>\n",
              "      <td>Dziudo sportininkės mama ir dukra – prieš socialinę atskirtį: ne visi gali sumokėti už vaiko būrelį</td>\n",
              "      <td>Pasak 15min kalbintos L.Dudėnienės, idėja kovai su socialine atskirtimi pasitelkti dziudo kovos meną subrendo natūraliai.„Mūsų klubą, — prisiminė ji, — dažnai rinkdavosi tie sportininkai ar mažųjų sportininkų tėveliai, kurie neturėjo galimybių mokėti arba jiems kitų klubų siūlomi dziudo treniruočių mokesčiai buvo per dideli. Mes visada stengdavomės rasti galimybių silpniau finansiškai gyvenančių šeimų vaikams lankyti treniruotes nemokamai.“Anot trenerės, dažnai valstybės nustatytas minimalus pragyvenimo lygis nepritaikomas nepilnoms šeimoms, pavyzdžiui, vienišoms mamoms, auginančioms vieną...</td>\n",
              "      <td>Dziudo prieš socialinę atskirtį“, – tokią iniciatyvą neseniai pristatė šios sporto šakos trenerė Lolita Dudėnienė. Ne kiekviena šeima gali sumokėti už neformalų vaiko ugdymą, todėl šios iniciatyvos tikslas – Kauno ir Kauno rajono vaikams suteikti šansą nemokamai visapusiškai tobulėti. Būtent visapusiškai, nes dziudo – ne tik sportas, o filosofija, pagarba ir pagalba kitiems paremtas gyvenimo būdas. Įgyvendinti idėją padeda pašnekovės pėdomis sėkmingai žengianti dukra, žinias Japonijoje gilinusi profesionali sportininkė bei būsima trenerė Miglė Julija Dudėnaitė.</td>\n",
              "      <td>Aleknavičė Karolina</td>\n",
              "      <td>3.0</td>\n",
              "    </tr>\n",
              "    <tr>\n",
              "      <th>4</th>\n",
              "      <td>4</td>\n",
              "      <td>VU prof. N.Fatkulina: skepticizmas baigiasi tą akimirką, kai žmogus išgirsta diagnozę – koronavirusas</td>\n",
              "      <td>Nors užsikrėtusiųjų koronavirusu skaičiai auga, prof. N.Fatkulina ramina — lyginant su kitomis šalimis, situacija Lietuvoje nėra tokia bloga. Šį teiginį iliustruoja į Lietuvą gyventojų skaičiumi panašios Armėnijos pavyzdys. Joje iš viso nustatytas 71 tūkst. ligos atvejų, o Lietuvoje šis skaičius siekia kiek daugiau kaip 8,6 tūkst. Mirtingumas ten milijonui gyventojų yra 381, o mūsų šalyje gerokai mažesnis — 46. Pašnekovė atkreipė dėmesį, kad ir atliktų testų skaičius akivaizdžiai skiriasi. Lietuvoje jų atlikta 925 tūkst., o Armėnijoje vos kiek daugiau kaip 360 tūkst.„Žvelgdami į skaičius, ...</td>\n",
              "      <td>Vilniaus universiteto (VU) Medicinos fakulteto Sveikatos mokslų instituto direktorė prof. dr. Natalja Fatkulina pastebėjo, kad netinkamas apsauginių veido kaukių dėvėjimas gali brangiai kainuoti, o jų atsisakius mirčių nuo koronaviruso skaičius išaugtų. Vis dėlto, nors sergančiųjų skaičius Lietuvoje auga, situacija nėra tokia bloga kaip, pavyzdžiui, Švedijoje, kuriai tariamų laisvių ne vienas taip pavydėjome.</td>\n",
              "      <td>Aleknavičė Karolina</td>\n",
              "      <td>4.0</td>\n",
              "    </tr>\n",
              "  </tbody>\n",
              "</table>\n",
              "</div>"
            ],
            "text/plain": [
              "   Unnamed: 0  ... Unnamed: 0.1\n",
              "0           0  ...          0.0\n",
              "1           1  ...          1.0\n",
              "2           2  ...          2.0\n",
              "3           3  ...          3.0\n",
              "4           4  ...          4.0\n",
              "\n",
              "[5 rows x 6 columns]"
            ]
          },
          "metadata": {
            "tags": []
          },
          "execution_count": 6
        }
      ]
    },
    {
      "cell_type": "code",
      "metadata": {
        "colab": {
          "base_uri": "https://localhost:8080/"
        },
        "id": "ZOLRKdnrjJ4_",
        "outputId": "36e97e63-86fc-4e40-d367-2d1b9d4a2258"
      },
      "source": [
        "raw_data = datasets.load_dataset('csv', data_files='/content/15min_tekstai.csv', delimiter = '\\t', split='train[:80%]')\r\n"
      ],
      "execution_count": 47,
      "outputs": [
        {
          "output_type": "stream",
          "text": [
            "Using custom data configuration default-369287341699e138\n",
            "Reusing dataset csv (/root/.cache/huggingface/datasets/csv/default-369287341699e138/0.0.0/965b6429be0fc05f975b608ce64e1fa941cc8fb4f30629b523d2390f3c0e1a93)\n"
          ],
          "name": "stderr"
        }
      ]
    },
    {
      "cell_type": "code",
      "metadata": {
        "colab": {
          "base_uri": "https://localhost:8080/",
          "height": 799
        },
        "id": "Tm2mXHY0sFNP",
        "outputId": "0fe9b46e-a405-4449-a685-bdd74f9cb5f4"
      },
      "source": [
        "df = pd.DataFrame(raw_data)\r\n",
        "df.head()"
      ],
      "execution_count": 48,
      "outputs": [
        {
          "output_type": "execute_result",
          "data": {
            "text/html": [
              "<div>\n",
              "<style scoped>\n",
              "    .dataframe tbody tr th:only-of-type {\n",
              "        vertical-align: middle;\n",
              "    }\n",
              "\n",
              "    .dataframe tbody tr th {\n",
              "        vertical-align: top;\n",
              "    }\n",
              "\n",
              "    .dataframe thead th {\n",
              "        text-align: right;\n",
              "    }\n",
              "</style>\n",
              "<table border=\"1\" class=\"dataframe\">\n",
              "  <thead>\n",
              "    <tr style=\"text-align: right;\">\n",
              "      <th></th>\n",
              "      <th>Unnamed: 0</th>\n",
              "      <th>title</th>\n",
              "      <th>text</th>\n",
              "      <th>summary</th>\n",
              "      <th>author</th>\n",
              "      <th>Unnamed: 0.1</th>\n",
              "    </tr>\n",
              "  </thead>\n",
              "  <tbody>\n",
              "    <tr>\n",
              "      <th>0</th>\n",
              "      <td>0</td>\n",
              "      <td>M.Zingeris: nepasinaudojus žydų bendruomenės potencialu, valstybę atkurti būtų buvę daug sunkiau</td>\n",
              "      <td>Visų pirma verta prisiminti tuos, kurie prie valstybės atkūrimo, o vėliau ir išsaugojimo, prisidėjo tiesiogiai. Tai 1918–1920 metais Nepriklausomybės kovose dalyvavę Lietuvos žydai. Manoma, kad jų buvo apie 3 tūkstančiai, apie 500 — savanoriai. Pasak 15min pašnekovo, šimtai jų, kai kurie jau po mirties, pagerbti ordinais ir medaliais. Kelios dešimtys Lietuvos patriotų žydų apdovanoti Vyčio kryžiaus ordinais.„Prisiminkime Libą Mednikienę iš Širvintų, apdovanotą, kaip tada sakydavo, Vyties (dabar — Vyčio) kryžiaus ordinu už pagalbą Lietuvos kariuomenei ir žvalgybai“, — kalbėjo M.Zingeris.15m...</td>\n",
              "      <td>Valstybę kūrė ne tik etniniai lietuviai, bet ir amžių amžius čia gyvenę žydai litvakai. Anot rašytojo, publicisto Marko Zingerio, to nežinant prieš akis iškyla vienpusis, primityvus, ryškias spalvas praradęs ano meto paveikslas. Vasario 16-oji – puiki proga nuspalvinti tą gerokai išblukusį supratimą.</td>\n",
              "      <td>Aleknavičė Karolina</td>\n",
              "      <td>0.0</td>\n",
              "    </tr>\n",
              "    <tr>\n",
              "      <th>1</th>\n",
              "      <td>1</td>\n",
              "      <td>G.Mažeikis apie tai, kodėl tikime sąmokslo teorijomis ir kaip su jomis kovoti: vos tik uždrausi, iškart išvešės</td>\n",
              "      <td>Sąmokslo teorijos, paaiškino 15min pašnekovas, tai įsivaizdavimas, kad už mūsų nugarų stovi „lėlininkai“, kurie gyvenimus reguliuoja nematomais įrankiais, slaptais susitarimais.„Šios teorijos remiasi priežastiniu mąstymu, įsitikinimu, kad bet kuris įvykis turi konkrečią priežastį ir niekas nekyla spontaniškai. Iš esmės tai neigia laisvės teoriją ir kūrybingumą. Sąmokslo teorijos labai patinka tiems, kurie mėgsta skaičiuoti priežastis“, — svarstė jis ir pridūrė dar vieną įdomų pastebėjimą: sąmokslo teorijos neigia stebuklus, nes stebuklas priklauso spontaniškumo, vadinasi, laisvės sferai. T...</td>\n",
              "      <td>Nors gali atrodyti, kad į baimių pilną sąmokslo teorijų pasaulį pakliūva tik neišsilavinę žmonės, taip nėra. Pasak Vytauto Didžiojo universiteto profesoriaus, Filosofijos ir socialinės kritikos katedros vedėjo Gintauto Mažeikio, tai priklauso nuo to, kiek konkretus asmuo yra linkęs į determinizmą, todėl bet kuris, nepriklausomai nuo išsilavinimo ar politinių pažiūrų, gali įkliūti. O įveikti tai galima ugdant kūrybiškumą ir spontaniškumą – savybes, prieš kurias neatsilaiko jokie sąmokslai.</td>\n",
              "      <td>Aleknavičė Karolina</td>\n",
              "      <td>1.0</td>\n",
              "    </tr>\n",
              "    <tr>\n",
              "      <th>2</th>\n",
              "      <td>2</td>\n",
              "      <td>Istorikas A.Jakubčionis: Lietuva vis tiek būtų tapusi laisva, Sovietų Sąjunga griuvo iš vidaus</td>\n",
              "      <td>Prisimindamas Sausio 13-osios aplinkybes, 15min kalbintas istorikas pabrėžė, kad 1990-ieji buvo laikas, kai laisvės siekiu gyvuojančią Lietuvą Sovietų Sąjunga bandė paveikti įvairiais būdais. Visų pirma, anot jo, visuomenę bandyta įbauginti. Vos paskelbus nepriklausomybę, pasipylė reikalavimai visus aktus nutraukti ir planų atsisakyti, grasinant ekonomine blokada. Griebtasi ir kitų priemonių — pranešta apie karinę prievolę. Galiausiai prasidėjo ekonominė blokada.Pasak A.Jakubčionio, ji išryškino kad Lietuva dar pernelyg integruota į Sovietų Sąjungą ir kad abi yra priklausomos nuo viena kit...</td>\n",
              "      <td>O kas, jeigu ne Sausio 13-oji? Istorikas, Vilniaus universiteto (VU) docentas dr. Algirdas Jakubčionis pastebi, kad net jeigu lemtingą naktį gatvės taip ir būtų likusios tuščios – Lietuva vis tiek būtų tapusi laisva, nes iš vidaus supuvusi Sovietų Sąjunga neturėjo šansų išlikti. Vis dėlto, ne nesuvaldoma istorijos tėkmė, o sąmoningas tautos apsisprendimas atvedė į Sausio 13-ąją. Nors laisvę bandyta slopinti ne tik brutalia jėga, bet ir ekonominėmis priemonėmis bei grasinimais, visuomenė aiškiai parodė — norime gyventi savarankiškoje valstybėje.</td>\n",
              "      <td>Aleknavičė Karolina</td>\n",
              "      <td>2.0</td>\n",
              "    </tr>\n",
              "    <tr>\n",
              "      <th>3</th>\n",
              "      <td>3</td>\n",
              "      <td>Dziudo sportininkės mama ir dukra – prieš socialinę atskirtį: ne visi gali sumokėti už vaiko būrelį</td>\n",
              "      <td>Pasak 15min kalbintos L.Dudėnienės, idėja kovai su socialine atskirtimi pasitelkti dziudo kovos meną subrendo natūraliai.„Mūsų klubą, — prisiminė ji, — dažnai rinkdavosi tie sportininkai ar mažųjų sportininkų tėveliai, kurie neturėjo galimybių mokėti arba jiems kitų klubų siūlomi dziudo treniruočių mokesčiai buvo per dideli. Mes visada stengdavomės rasti galimybių silpniau finansiškai gyvenančių šeimų vaikams lankyti treniruotes nemokamai.“Anot trenerės, dažnai valstybės nustatytas minimalus pragyvenimo lygis nepritaikomas nepilnoms šeimoms, pavyzdžiui, vienišoms mamoms, auginančioms vieną...</td>\n",
              "      <td>Dziudo prieš socialinę atskirtį“, – tokią iniciatyvą neseniai pristatė šios sporto šakos trenerė Lolita Dudėnienė. Ne kiekviena šeima gali sumokėti už neformalų vaiko ugdymą, todėl šios iniciatyvos tikslas – Kauno ir Kauno rajono vaikams suteikti šansą nemokamai visapusiškai tobulėti. Būtent visapusiškai, nes dziudo – ne tik sportas, o filosofija, pagarba ir pagalba kitiems paremtas gyvenimo būdas. Įgyvendinti idėją padeda pašnekovės pėdomis sėkmingai žengianti dukra, žinias Japonijoje gilinusi profesionali sportininkė bei būsima trenerė Miglė Julija Dudėnaitė.</td>\n",
              "      <td>Aleknavičė Karolina</td>\n",
              "      <td>3.0</td>\n",
              "    </tr>\n",
              "    <tr>\n",
              "      <th>4</th>\n",
              "      <td>4</td>\n",
              "      <td>VU prof. N.Fatkulina: skepticizmas baigiasi tą akimirką, kai žmogus išgirsta diagnozę – koronavirusas</td>\n",
              "      <td>Nors užsikrėtusiųjų koronavirusu skaičiai auga, prof. N.Fatkulina ramina — lyginant su kitomis šalimis, situacija Lietuvoje nėra tokia bloga. Šį teiginį iliustruoja į Lietuvą gyventojų skaičiumi panašios Armėnijos pavyzdys. Joje iš viso nustatytas 71 tūkst. ligos atvejų, o Lietuvoje šis skaičius siekia kiek daugiau kaip 8,6 tūkst. Mirtingumas ten milijonui gyventojų yra 381, o mūsų šalyje gerokai mažesnis — 46. Pašnekovė atkreipė dėmesį, kad ir atliktų testų skaičius akivaizdžiai skiriasi. Lietuvoje jų atlikta 925 tūkst., o Armėnijoje vos kiek daugiau kaip 360 tūkst.„Žvelgdami į skaičius, ...</td>\n",
              "      <td>Vilniaus universiteto (VU) Medicinos fakulteto Sveikatos mokslų instituto direktorė prof. dr. Natalja Fatkulina pastebėjo, kad netinkamas apsauginių veido kaukių dėvėjimas gali brangiai kainuoti, o jų atsisakius mirčių nuo koronaviruso skaičius išaugtų. Vis dėlto, nors sergančiųjų skaičius Lietuvoje auga, situacija nėra tokia bloga kaip, pavyzdžiui, Švedijoje, kuriai tariamų laisvių ne vienas taip pavydėjome.</td>\n",
              "      <td>Aleknavičė Karolina</td>\n",
              "      <td>4.0</td>\n",
              "    </tr>\n",
              "  </tbody>\n",
              "</table>\n",
              "</div>"
            ],
            "text/plain": [
              "   Unnamed: 0  ... Unnamed: 0.1\n",
              "0           0  ...          0.0\n",
              "1           1  ...          1.0\n",
              "2           2  ...          2.0\n",
              "3           3  ...          3.0\n",
              "4           4  ...          4.0\n",
              "\n",
              "[5 rows x 6 columns]"
            ]
          },
          "metadata": {
            "tags": []
          },
          "execution_count": 48
        }
      ]
    },
    {
      "cell_type": "code",
      "metadata": {
        "id": "ID23JQRIhMrS",
        "colab": {
          "base_uri": "https://localhost:8080/"
        },
        "outputId": "ae1b359e-d273-49cb-969a-876ca6ab0ca2"
      },
      "source": [
        "df = df[[(len(x) > 30) for x in df.summary]]\r\n",
        "len(df)"
      ],
      "execution_count": 49,
      "outputs": [
        {
          "output_type": "execute_result",
          "data": {
            "text/plain": [
              "24945"
            ]
          },
          "metadata": {
            "tags": []
          },
          "execution_count": 49
        }
      ]
    },
    {
      "cell_type": "markdown",
      "metadata": {
        "id": "WoYSth6-hNXu"
      },
      "source": [
        "\n",
        "\n",
        "We begin by getting our hugginface objects needed for this task (e.g., the architecture, tokenizer, config, and model). We'll use blurr's get_hf_objects helper method here.\n"
      ]
    },
    {
      "cell_type": "code",
      "metadata": {
        "colab": {
          "base_uri": "https://localhost:8080/"
        },
        "id": "9P2R5ekkhapD",
        "outputId": "36fdb746-c49f-48d1-a4af-9ef3f4197bf0"
      },
      "source": [
        "#pretrained_model_name = \"facebook/bart-large-xsum\"\n",
        "pretrained_model_name = \"facebook/bart-large-cnn\"\n",
        "\n",
        "hf_arch, hf_config, hf_tokenizer, hf_model = BLURR_MODEL_HELPER.get_hf_objects(pretrained_model_name, \n",
        "                                                                               model_cls=BartForConditionalGeneration)\n",
        "\n",
        "hf_arch, type(hf_config), type(hf_tokenizer), type(hf_model)"
      ],
      "execution_count": 50,
      "outputs": [
        {
          "output_type": "execute_result",
          "data": {
            "text/plain": [
              "('bart',\n",
              " transformers.models.bart.configuration_bart.BartConfig,\n",
              " transformers.models.bart.tokenization_bart_fast.BartTokenizerFast,\n",
              " transformers.models.bart.modeling_bart.BartForConditionalGeneration)"
            ]
          },
          "metadata": {
            "tags": []
          },
          "execution_count": 50
        }
      ]
    },
    {
      "cell_type": "markdown",
      "metadata": {
        "id": "8GL_kIJnhly1"
      },
      "source": [
        "\n",
        "\n",
        "Next we need to build out our DataBlock. Remember tha a DataBlock is a blueprint describing how to move your raw data into something modelable. That blueprint is executed when we pass it a data source, which in our case, will be the DataFrame we created above. We'll use a random subset to get things moving along a bit faster for the demo as well.\n",
        "\n",
        "Notice that the blurr DataBlock as been dramatically simplified given the shift to on-the-fly batch-time tokenization. All we need is to define a single HF_Seq2SeqBeforeBatchTransform instance, optionally passing a list to any of the tokenization arguments to differentiate the values for the input and summary sequences. In addition to specifying a custom max length for the inputs, we can also do the same for the output sequences ... and with the latest release of blurr, we can even customize the text generation by passing in text_gen_kwargs.\n",
        "\n",
        "We pass noop as a type transform for our targets because everything is already handled by the batch transform now.\n"
      ]
    },
    {
      "cell_type": "code",
      "metadata": {
        "colab": {
          "base_uri": "https://localhost:8080/"
        },
        "id": "8ovMNr24hn56",
        "outputId": "16f0440a-c39f-48dc-9436-6af0a0e09dd6"
      },
      "source": [
        "text_gen_kwargs = default_text_gen_kwargs(hf_config, hf_model, task='summarization'); text_gen_kwargs"
      ],
      "execution_count": 51,
      "outputs": [
        {
          "output_type": "execute_result",
          "data": {
            "text/plain": [
              "{'bad_words_ids': None,\n",
              " 'bos_token_id': 0,\n",
              " 'decoder_start_token_id': 2,\n",
              " 'diversity_penalty': 0.0,\n",
              " 'do_sample': False,\n",
              " 'early_stopping': True,\n",
              " 'encoder_no_repeat_ngram_size': 0,\n",
              " 'eos_token_id': 2,\n",
              " 'length_penalty': 2.0,\n",
              " 'max_length': 142,\n",
              " 'min_length': 56,\n",
              " 'no_repeat_ngram_size': 3,\n",
              " 'num_beam_groups': 1,\n",
              " 'num_beams': 4,\n",
              " 'num_return_sequences': 1,\n",
              " 'output_attentions': False,\n",
              " 'output_hidden_states': False,\n",
              " 'output_scores': False,\n",
              " 'pad_token_id': 1,\n",
              " 'repetition_penalty': 1.0,\n",
              " 'return_dict_in_generate': False,\n",
              " 'temperature': 1.0,\n",
              " 'top_k': 50,\n",
              " 'top_p': 1.0,\n",
              " 'use_cache': True}"
            ]
          },
          "metadata": {
            "tags": []
          },
          "execution_count": 51
        }
      ]
    },
    {
      "cell_type": "code",
      "metadata": {
        "id": "T5kee0mAhv--"
      },
      "source": [
        "hf_batch_tfm = HF_Seq2SeqBeforeBatchTransform(hf_arch, hf_config, hf_tokenizer, hf_model, \n",
        "                                              max_length=512, max_tgt_length=128, text_gen_kwargs=text_gen_kwargs) # reiktu pabandyti pakeisti max_length = 512 ir max_tgt_length = 128\n",
        "\n",
        "blocks = (HF_Seq2SeqBlock(before_batch_tfm=hf_batch_tfm), noop)\n",
        "\n",
        "dblock = DataBlock(blocks=blocks, get_x=ColReader('text'), get_y=ColReader('summary'), splitter=RandomSplitter())\n",
        "\n"
      ],
      "execution_count": 52,
      "outputs": []
    },
    {
      "cell_type": "code",
      "metadata": {
        "colab": {
          "base_uri": "https://localhost:8080/"
        },
        "id": "dz9LqhJkhyPp",
        "outputId": "b6091d66-94e5-4da6-8363-903e1ae3d4f3"
      },
      "source": [
        "dls = dblock.dataloaders(df, bs=2)\n",
        "len(dls.train.items), len(dls.valid.items)"
      ],
      "execution_count": 53,
      "outputs": [
        {
          "output_type": "execute_result",
          "data": {
            "text/plain": [
              "(19956, 4989)"
            ]
          },
          "metadata": {
            "tags": []
          },
          "execution_count": 53
        }
      ]
    },
    {
      "cell_type": "markdown",
      "metadata": {
        "id": "Jne4tZnyh5QR"
      },
      "source": [
        "It's always a good idea to check out a batch of data and make sure the shapes look right."
      ]
    },
    {
      "cell_type": "code",
      "metadata": {
        "colab": {
          "base_uri": "https://localhost:8080/"
        },
        "id": "2vFBgkwIh7NW",
        "outputId": "994c3dbe-7d6f-4ecf-b231-08b257cde06a"
      },
      "source": [
        "b = dls.one_batch()\n",
        "len(b), b[0]['input_ids'].shape, b[1].shape"
      ],
      "execution_count": 54,
      "outputs": [
        {
          "output_type": "execute_result",
          "data": {
            "text/plain": [
              "(2, torch.Size([2, 512]), torch.Size([2, 229]))"
            ]
          },
          "metadata": {
            "tags": []
          },
          "execution_count": 54
        }
      ]
    },
    {
      "cell_type": "markdown",
      "metadata": {
        "id": "8-xKQzgIiEHS"
      },
      "source": [
        "Even better, we can take advantage of blurr's TypeDispatched version of show_batch to look at things a bit more intuitively. We pass in the dls via the dataloaders argument so we can access all tokenization/modeling configuration stored in our batch transform above."
      ]
    },
    {
      "cell_type": "code",
      "metadata": {
        "colab": {
          "base_uri": "https://localhost:8080/",
          "height": 315
        },
        "id": "zZvrtEfjh_Z1",
        "outputId": "8cefa3b9-9e71-4ba7-f6d8-93773982987c"
      },
      "source": [
        "dls.show_batch(dataloaders=dls, max_n=2)"
      ],
      "execution_count": 55,
      "outputs": [
        {
          "output_type": "display_data",
          "data": {
            "text/html": [
              "<table border=\"1\" class=\"dataframe\">\n",
              "  <thead>\n",
              "    <tr style=\"text-align: right;\">\n",
              "      <th></th>\n",
              "      <th>text</th>\n",
              "      <th>target</th>\n",
              "    </tr>\n",
              "  </thead>\n",
              "  <tbody>\n",
              "    <tr>\n",
              "      <th>0</th>\n",
              "      <td>Muzikos mokykla „Varpelis“ įsikūrusi Kauno centre, D.Poškos gatvėje. Dalyje pastato ilgą laiką veikė „Kraujo donorystės centro“ laboratorija. Vėliau patalpos buvo parduotos kitam savininkui, kuris ėmėsi remonto darbų ir kūrė planus įrengti jose svečių namus. Tačiau apie tai sužinoję, mokyklos mokinių tėveliai sukilo: kur matyta, kad švietimo įstaigos pastate veiktų viešbutis?„Mano sūnus lanko šią mokyklą. Joje ir taip trūksta vietos koncertinei veiklai. Tų patalpų būtų prireikę mokyklai, bet įsigijo kažkoks verslininkas. Ėmė daryti remontą. Be jokių sutikimų ir leidimų. Patalpos skirtingos, bet pastatas tai juk tas pats. Mokyklai panaudos pagrindais priklauso didžioji jo dalis. Tas verslininkas ruošiasi pakeisti savo dalyje paskirtį. O tai neatitinka žemės naudojimo visuomeninės paskirties teritorijos. Jame negali būti viešbučių, nes tokie pastatai gali būti tik komercinės paskirties objektų teritorijoje.Niekur Lietuvoje nėra taip, kad tame pačiame pastate veiktų ir mokykla, ir sveči�</td>\n",
              "      <td>Kauno berniukų chorinio dainavimo mokyklos „Varpelis“ mokinių tėvai sunerimę: dalyje švietimo įstaigos ruošiamasi įkurdinti svečių namus. „Viešbutis ugdymo įstaigoje, kur tai matyta?“ – piktinasi protestuojantys. Būsimų svečių namų savininkas Rimas Tunyla juos ramina, juk patalpos – atskirtos. Verslininkui nesuvokiama, kodėl Lietuvoje taip žlugdomas verslas. Teisybės jis žada ieškoti teismuose.</td>\n",
              "    </tr>\n",
              "    <tr>\n",
              "      <th>1</th>\n",
              "      <td>Taigi, kuo geri ir kuo blogi naujieji „Huawei“ superflagmanai? Beje, superflagmanai – dėl to, kad šiek tiek išsiskiria iš „standartinių flagmanų“ P40 serijos. Panašiai, kaip ir, tarkime, „iPhone Pro“ ar „Samsung Ultra“ serijos aparatai. Panašūs į flagmanus, bet su tokiais privalumais į kuriuos negalima atkreipti dėmesio.Naujųjų telefonų „kūnai“ nuo įprastinės P40 serijos nutolo labai nedaug. Netgi įvertinus tai, kad esu didžiulis užlankstytų ekrano šonų kritikas, o P40 serijos aparatų užlenktos ne tik šoninės, bet ir viršutinė bei apatinė stiklo briaunos, privalau pripažinti, kad rankoje šie telefonai guli pasiutusiai gerai. Vargu, ar kokį malonesnį telefoną apskritai rinkoje rastumėte. Didžiulę to malonumo dalį sudaro už įprastą šiek tiek didesnis telefono svoris (226 g) ir storis (9 mm).Pastaba: įprastai šiuolaikiški flagmanai sveria maždaug nuo 180 iki 200 gramų. O 20 procentų svorio skirtumas – tai jau velniškai daug.Aišku, skamba keistai. Nuo kada storesnis ir sunkesnis telefonas yra privalumas? Ir net pats to paaiškinti dorai</td>\n",
              "      <td>Apie įmonės „Huawei“ telefonus kelis pastaruosius metus buvo galima atsiliepti tik iš geriausios pusės. Visa techninė šių aparatų pusė buvo nė kiek ne prastesnė, nei gana dažnai brangesnių konkurentų telefonų, o fotoaparatai... fotoaparatai buvo tiesiog nepralenkiami. Lygiai tą patį galima pasakyti ir apie pačius naujausius, karščiausius ir kiečiausius „Huawei P40 Pro+“ aparatus, kurie kai kuriais atžvilgiais iškyla visa galva aukščiau konkurentų. Ir net ne „kai kurių konkurentų“, o „visų konkurentų“.</td>\n",
              "    </tr>\n",
              "  </tbody>\n",
              "</table>"
            ],
            "text/plain": [
              "<IPython.core.display.HTML object>"
            ]
          },
          "metadata": {
            "tags": []
          }
        }
      ]
    },
    {
      "cell_type": "markdown",
      "metadata": {
        "id": "5M6OWEmhiLiW"
      },
      "source": [
        "# **Training**\n",
        "We'll prepare our BART model for training by wrapping it in blurr's HF_BaseModelWrapper object and using the callback, HF_BaseModelCallback, as usual. A new HF_Seq2SeqMetricsCallback object allows us to specify Seq2Seq metrics we want to use, things like rouge and bertscore for tasks like summarization as well as metrics such as meteor, bleu, and sacrebleu for translations tasks. Using huggingface's metrics library is as easy as specifying a metrics configuration such as below.\n",
        "\n",
        "Once we have everything in place, we'll freeze our model so that only the last layer group's parameters of trainable. See here for our discriminitative learning rates work in fastai.\n",
        "\n",
        "**Note**: This has been tested with ALOT of other Seq2Seq models; see the docs for more information."
      ]
    },
    {
      "cell_type": "code",
      "metadata": {
        "id": "sEgP6ybPiJPI"
      },
      "source": [
        "seq2seq_metrics = {\n",
        "        'rouge': {\n",
        "            'compute_kwargs': { 'rouge_types': [\"rouge1\", \"rouge2\", \"rougeL\"], 'use_stemmer': True },\n",
        "            'returns': [\"rouge1\", \"rouge2\", \"rougeL\"]\n",
        "        },\n",
        "        'bertscore': {\n",
        "            'compute_kwargs': { 'lang': 'lt' },\n",
        "            'returns': [\"precision\", \"recall\", \"f1\"]\n",
        "        }\n",
        "    }"
      ],
      "execution_count": 56,
      "outputs": []
    },
    {
      "cell_type": "code",
      "metadata": {
        "id": "TviCLj5ZiRCH"
      },
      "source": [
        "model = HF_BaseModelWrapper(hf_model)\n",
        "learn_cbs = [HF_BaseModelCallback]\n",
        "fit_cbs = [HF_Seq2SeqMetricsCallback(custom_metrics=seq2seq_metrics)]\n",
        "\n",
        "learn = Learner(dls, \n",
        "                model,\n",
        "                opt_func=ranger,\n",
        "                loss_func=CrossEntropyLossFlat(),\n",
        "                cbs=learn_cbs,\n",
        "                splitter=partial(seq2seq_splitter, arch=hf_arch)).to_fp16()\n",
        "\n",
        "learn.create_opt() \n",
        "learn.freeze()"
      ],
      "execution_count": 57,
      "outputs": []
    },
    {
      "cell_type": "markdown",
      "metadata": {
        "id": "1F-_j2TuiVEe"
      },
      "source": [
        "Still experimenting with how to use fastai's learning rate finder for these kinds of models. If you all have any suggestions or interesting insights to share, please let me know. We're only going to train the frozen model for one epoch for this demo, but feel free to progressively unfreeze the model and train the other layers to see if you can best my results below.\n"
      ]
    },
    {
      "cell_type": "code",
      "metadata": {
        "colab": {
          "base_uri": "https://localhost:8080/",
          "height": 300
        },
        "id": "omwGYrRxqgkI",
        "outputId": "87c96aee-5bb2-4d48-c13c-34a6ae34cb0f"
      },
      "source": [
        "learn.lr_find(suggestions=True)"
      ],
      "execution_count": 22,
      "outputs": [
        {
          "output_type": "display_data",
          "data": {
            "text/html": [
              ""
            ],
            "text/plain": [
              "<IPython.core.display.HTML object>"
            ]
          },
          "metadata": {
            "tags": []
          }
        },
        {
          "output_type": "execute_result",
          "data": {
            "text/plain": [
              "SuggestedLRs(lr_min=0.09120108485221863, lr_steep=0.7585775852203369)"
            ]
          },
          "metadata": {
            "tags": []
          },
          "execution_count": 22
        },
        {
          "output_type": "display_data",
          "data": {
            "image/png": "[encoded data removed]",
            "text/plain": [
              "<Figure size 432x288 with 1 Axes>"
            ]
          },
          "metadata": {
            "tags": [],
            "needs_background": "light"
          }
        }
      ]
    },
    {
      "cell_type": "code",
      "metadata": {
        "colab": {
          "base_uri": "https://localhost:8080/"
        },
        "id": "H8ZRTUq3iSpw",
        "outputId": "a0107799-e512-45d7-de2e-07868a89644e"
      },
      "source": [
        "b = dls.one_batch()\n",
        "preds = learn.model(b[0])\n",
        "len(preds),preds[0], preds[1].shape"
      ],
      "execution_count": 58,
      "outputs": [
        {
          "output_type": "execute_result",
          "data": {
            "text/plain": [
              "(4,\n",
              " tensor(5.1710, device='cuda:0', grad_fn=<NllLossBackward>),\n",
              " torch.Size([2, 210, 50264]))"
            ]
          },
          "metadata": {
            "tags": []
          },
          "execution_count": 58
        }
      ]
    },
    {
      "cell_type": "code",
      "metadata": {
        "colab": {
          "base_uri": "https://localhost:8080/",
          "height": 80
        },
        "id": "sAwpeN0C3Ocs",
        "outputId": "0cd922f9-58c0-420a-95e7-6225e511f343"
      },
      "source": [
        "learn.fit_one_cycle(1, lr_max=3e-5, cbs=fit_cbs)"
      ],
      "execution_count": 59,
      "outputs": [
        {
          "output_type": "display_data",
          "data": {
            "text/html": [
              "<table border=\"1\" class=\"dataframe\">\n",
              "  <thead>\n",
              "    <tr style=\"text-align: left;\">\n",
              "      <th>epoch</th>\n",
              "      <th>train_loss</th>\n",
              "      <th>valid_loss</th>\n",
              "      <th>rouge1</th>\n",
              "      <th>rouge2</th>\n",
              "      <th>rougeL</th>\n",
              "      <th>bertscore_precision</th>\n",
              "      <th>bertscore_recall</th>\n",
              "      <th>bertscore_f1</th>\n",
              "      <th>time</th>\n",
              "    </tr>\n",
              "  </thead>\n",
              "  <tbody>\n",
              "    <tr>\n",
              "      <td>0</td>\n",
              "      <td>2.121053</td>\n",
              "      <td>2.010698</td>\n",
              "      <td>0.169062</td>\n",
              "      <td>0.045667</td>\n",
              "      <td>0.119263</td>\n",
              "      <td>0.682374</td>\n",
              "      <td>0.659969</td>\n",
              "      <td>0.670709</td>\n",
              "      <td>2:36:34</td>\n",
              "    </tr>\n",
              "  </tbody>\n",
              "</table>"
            ],
            "text/plain": [
              "<IPython.core.display.HTML object>"
            ]
          },
          "metadata": {
            "tags": []
          }
        }
      ]
    },
    {
      "cell_type": "code",
      "metadata": {
        "colab": {
          "base_uri": "https://localhost:8080/",
          "height": 417
        },
        "id": "_hhvKQoliZrm",
        "outputId": "a11a2f03-19a0-4016-911c-c4796ebd2e75"
      },
      "source": [
        "learn.show_results(learner=learn, max_n=2)"
      ],
      "execution_count": 60,
      "outputs": [
        {
          "output_type": "display_data",
          "data": {
            "text/html": [
              ""
            ],
            "text/plain": [
              "<IPython.core.display.HTML object>"
            ]
          },
          "metadata": {
            "tags": []
          }
        },
        {
          "output_type": "display_data",
          "data": {
            "text/html": [
              "<table border=\"1\" class=\"dataframe\">\n",
              "  <thead>\n",
              "    <tr style=\"text-align: right;\">\n",
              "      <th></th>\n",
              "      <th>text</th>\n",
              "      <th>target</th>\n",
              "      <th>prediction</th>\n",
              "    </tr>\n",
              "  </thead>\n",
              "  <tbody>\n",
              "    <tr>\n",
              "      <th>0</th>\n",
              "      <td>Jau rudenį vyresnių klasių mokiniams teko pereiti prie nuotolinio ugdymo.Taip mokytis, pasak Lietuvos moksleivių sąjungos prezidentės Saros Aškinytės, sunkiau, o stengtis dėl gero pažymio esą reikia daugiau.„Bet tie, kurie ir anksčiau turėjo gerus pažymius, kurie buvo linkę gerai mokytis, investuoja laiką, stengiasi ir jiems didelės bėdos nėra. Bet kam sunkiau, mokymasis dar labiau pasunkėja ir geresni rezultatai tampa dar sunkiau pasiekiami“, – 15min komentavo ji.Su tuo sutiko ir KTU Inžinerijos licėjaus direktorius Dainius Žvirdauskas.„Labiau motyvuoti kažkokio ypatingo pokyčio mokymuisi neatranda, bet tiems, kur trūko motyvacijos dėl įvairiausių priežasčių, jie dar labiau klimpsta į nenuoseklų mokymąsi, praradimų jie turi žymiai daugiau“, – tikino įstaigos vadovas.Praradimų jau yra ir bus ateityje.Mokymasis technologijų pagalba, jo teigimu, tikrai geriau negu nieko, bet įprastoms pamokoms tai esą niekada neprilygs:„Nereikia turėti iliuzijų, kad čia nebus praradimų. Praradim�</td>\n",
              "      <td>Kai kurios mokyklos jau nuo pat rugsėjo pakaitomis organizavo kontaktinį ir nuotolinį mokymą. Ilgainiui, prastėjant COVID-19 situacijai, liko tik nuotolinis, prie kurio pritaikyti teko net pradinukams. Kaip tai pakeikė mokinių pasiekimus? 15min kalbinti pašnekovai sako, kad tie, kurie stengėsi, stengiasi ir dabar, o nemotyvuotieji priešingai – dar sunkiau susikaupia ir nusiteikia mokymuisi. Taip esą elgiasi ir abiturientai, kuriems sąlygos laikyti egzaminus šįmet bus kiek kitokios.</td>\n",
              "      <td>Lietuvos moksleivių sąjungos prezidentės Saros Aškinytėje vyresnių klasių mokiniams teko pereiti prie nuotolinio ugdymo. Tačiau mokymasis dar labiau pasunkėja ir geresni rezultatai tampa dar sunkiau.</td>\n",
              "    </tr>\n",
              "    <tr>\n",
              "      <th>1</th>\n",
              "      <td>Penkmečio raidos planą aukštosios mokyklos sudarė kovo 12-ąją. Pagal jį, Šiaulių akademijos vykdomos studijos bus grindžiamos „šiaurės Lietuvos regiono poreikiais, Šiaulių miesto ekonominės plėtros ir investicijų pritraukimo strategija“ bei Vyriausybės nutarimu, numatančiu įsteigti pedagogų rengimo centrą.2021-aisiais į Šiaulių akademiją planuojama priimti bent 319 studentų, daugiausia – į profesines pedagogikos studijas.Studijų programų, lyginant su tuo, ką dabar siūlo Šiaulių universitetas (ŠU), bus mažiau.„Noriu pabrėžti, kad programų atsisakome iš esmės ne todėl, kad jungiamės prie VU. Kai kurių programų būtina atsisakyti dėl anksčiau buvusių programų gausybės, neleidusios užtikrinti jų tvarumo (studijuodavo per mažas skaičius studentų panašiose programose, todėl nuspręsta palikti pačias kokybiškiausias ir turinio nedubliuojančias programas) arba kai kurių programų jau kelis metus ar net daugiau nesirinko studentai (pavyzdžiui, istorija, lietuvių kalba, ekologija, kai kurios inžinerinės programos).Netikslinga pri�</td>\n",
              "      <td>Vilniaus universitetas (VU) ir prie jo jungiamas Šiaulių universitetas (ŠU) sutarė dėl Šiaulių akademijos 2020–2024 metų raidos plano. Planuojama, kad šis VU padalinys ateityje vykdys mažiau studijų programų, orientuosis į pedagogines studijas. Raidos plano įgyvendinimui aukštosios mokyklos prašo skirti apie 11 mln. eurų, iš kurių dalis tektų darbuotojų algų suvienodinimui. Jei tam lėšų neatsiras, „akademijai bus taikomos atskiros personalo darbo užmokesčio tvarkos“, kas greičiausiai reiškia, jog Šiaulių akademijos personalas gaus mažesnį darbo užmokestį nei VU.</td>\n",
              "      <td>Šiaulių akademijos vykdomos studijos bus grindžiamos „šiaurės Lietuvos regiono poreikiais“. Penktadienio vakarą pranešė, kad planuojama priimti bent 319 studentų, daugiausia – į profesines pedagogikos studija.</td>\n",
              "    </tr>\n",
              "  </tbody>\n",
              "</table>"
            ],
            "text/plain": [
              "<IPython.core.display.HTML object>"
            ]
          },
          "metadata": {
            "tags": []
          }
        }
      ]
    },
    {
      "cell_type": "code",
      "metadata": {
        "id": "01U2CLpyibkj"
      },
      "source": [
        "test_article = \"\"\"Susitelkti teko visiems Praeitos savaitės pabaigoje progimnazijos Tėvų tarybos pirmininkas Arūnas Penkaitis sakė, kad grįžimo į mokyklą laukiama kaip šventės, kaip gimtadienio: „Anksčiau, kai išties turėjome tam tikrą informacijos trūkumą, nuotaikų buvo įvairių. Šiuo metu, gavus atsakymus į visus kilusius klausimus, didžioji dauguma bendruomenės nusiteikusi labai pozityviai.“ Mokyklos direktorius R.Remeika praėjusią savaitę 15min teigė, kad nuotolinis ugdymas nėra toks efektyvus, todėl siekiama kuo greičiau pereiti į kontaktinį mokymą. Pirmadienio rytą jis feisbuke džiaugėsi, kad bendruomenė susitelkė ir atsakingai dirbdama parodė, kiek daug vaikų labui gali padaryti. O ši savaitė taip pat būsianti susitelkimo metas, kai teks griežtai laikytis visų saugumo taisyklių tiek mokykloje, tiek namuose, tiek viešoje erdvėje, nes esą nėra „prabangos“ susirgti ir taip rizikuoti aplinkinių sveikata. Rezultatus vertins po dar vienų testų Anot Vilniaus mero Remigijaus Šimašiaus, prieš grįžtant į klases buvo testuojami ir darbuotojai, ir mokiniai, ir jų šeimų nariai, tad iššūkių netrūko. „Savaitės pabaigoje vėl bus atliekami testai, žiūrėsime, kokie rezultatai. Nes patys suprantame, kad švietimas yra ta sritis, kur labai norisi grįžti į normalias vėžes ir dar geresnes – per pandemiją išmoko naujų dalykų ir mokytojai, ir mokiniai. Kartu suprantame tą riziką – iš Estijos gavome ataskaitą, kad mokyklose didelė rizika, vaikai vieni kitiems perneša. Mūsų tą eksperimentą Lietuvos mastu traktuoju kaip labai svarbų – kaip organizuoti ir kaip paskui viskas vyks“, – kalbėjo R.Šimašius. Mero teigimu, jeigu reikėtų pagal tokią pačią procedūrą atidaryti visas Lietuvos ar Vilniaus mokyklas, tai greičiausia nebūtų įmanoma – resursų niekam ir niekada neužtektų. Todėl reikia apibendrinti išvadas, kaip tai galima padaryti paprasčiau. Apie tai ketinama diskutuoti ir su Vyriausybe. Atsidarytų nors rytoj Paklaustas, kada galėtų visos mokyklos atsidaryti, meras sakė, kad jeigu virusas iš Lietuvos išeitų, tai galima būtų ir rytoj padaryti. „Bet kada jis išeis, kokiu tempu, kokios variacijos, kiti dalykai, negaliu pasakyti. Bet jeigu epidemiologinė situacija leistų, sugrįžti į mokyklas mums nebūtų problemų. Nebent kiltų vienai kitai šeimai, nes ne paslaptis, kad ne vienas moksleivis, kartais ir mokytojai pamokose dalyvauja ne iš Vilniaus, kartais net ir į užsienį išvažiavę“, – sakė R.Šimašius. Jis įsitikinęs, kad tokių ar panašių eksperimentų turėtų būti ir daugiau, tai leistų lengviau grįžti visiems, kai epidemiologinė situacija leis. Vilnius rengė konferenciją su mokytojais, svarstė nuotolinio mokymosi sąlygas ir būdus, tai joje paaiškėjo, kad tiek abiturientai, tiek mokytojai vieningai sako, kad egzaminų vėlinti negalima ir nereikia, yra pasiūlymų, kaip organizuoti juos tinkamai įprastu metu. Buvo teigiamų testų Vilniaus visuomenės sveikatos biuro vadovė Guoda Ropaitė-Beigė teigė, kad viso šio proceso metu mokyklos bendruomenė buvo itin aktyvi: „Ketvirtadienį startavome su pedagogų testavimu kaupinių principu, tai 93 asmenys, sudarėme 39 kaupinius, visi buvo neigiami. Tai tikrai mokytojai saugūs ir sveiki grįžo į šitą įstaigą. O kalbant apie namų ūkius – t. y. vaikus ir jų tėvelius, testavimas vyko penktadienį, šeštadienį ir dar sudarėme galimybę ir sekmadienį testuotis. Buvo per 500 kaupinių, daugiau nei 2 tūkst. asmenų atvyko testuotis į testavimo punktą, keturi kaupiniai buvo teigiami, dabar vykdomi tyrimai PGR tyrimai.“ Šis testavimo būdas skiriasi nuo PGR tuo, kad pastarojo atveju imamas mėginys iš nosiaryklės ir ryklės, o kaupinio – iš nosies landų ir tie ėminiai grupuojami: vienoje virusologinėje terpėje grupuojami ir dedami kelių asmenų ėminius ir jie tiriami. Jeigu gaunamas teigiamas rezultatas, tuomet jau tiems asmenims atliekami PGR testai. Bandomojo projekto laikas – dvi savaitės, pirmoji jau praėjo, antroji yra ši, tad jai baigiantis, penktadienį, planuojamas vizitas į mokyklą, ten bus tiriamos klasės, mėginama pasižiūrėti, kokia situacija savaitę pasimokius kontaktiniu būdu. Jeigu Vyriausybė priims sprendimus, tada bus mokomasi ir kitą savaitę. Šią savaitę Vilnius turėtų gauti 11 tūkst. vakcinų nuo COVID-19, tai džiugina, anot mero, tačiau kiekis vis dar yra per mažas, kad galima būtų sakyti, jog vakcina buvo įveikta pandemija.\"\"\""
      ],
      "execution_count": 61,
      "outputs": []
    },
    {
      "cell_type": "code",
      "metadata": {
        "colab": {
          "base_uri": "https://localhost:8080/"
        },
        "id": "76Ds2fCiidEA",
        "outputId": "24c14c2d-7ef1-49c6-9267-e0d59c40a90b"
      },
      "source": [
        "outputs = learn.blurr_generate(test_article, \n",
        "                               early_stopping=True, num_beams=5, do_sample=True, \n",
        "                               max_length=130, \n",
        "                               top_k=50, \n",
        "                               top_p=0.95,\n",
        "                               num_return_sequences=3)\n",
        "\n",
        "for idx, o in enumerate(outputs):\n",
        "    print(f'=== Prediction {idx+1} ===\\n{o}\\n')"
      ],
      "execution_count": 62,
      "outputs": [
        {
          "output_type": "stream",
          "text": [
            "=== Prediction 1 ===\n",
            " Antradienio vakarą Vilniaus savivaldybės mokyklą susitelkė nuotolinis nuotaikų buvęs Arūnas Penkaitis sako, kad daugiabučių mokykloje dėl Lietuvos mokytojų ir mokinų sveikatos ir mokymo (LMŽS) gyventojų gimtadienio rytą Lietuvoje\n",
            "\n",
            "=== Prediction 2 ===\n",
            " Trečiadienio vakarą Panevėžyje, Tėvų tarybos pirmininkas Arūnas Penkaitis sako, kad mokyklą nuotaikų buvo įvairių, gavus atsakymus į visus kilusius klausimus, didžioji dauguma bendruomenės nusiteikusi labai pozityviai. Praėjusią savaitę\n",
            "\n",
            "=== Prediction 3 ===\n",
            " Trečiadienio vakarą Panevėžio rajone, Praeitos savaitės pabaigoje, Tėvų tarybos pirmininkas Arūnas Penkaitis sako, kad nuotolinis ugdymas nėra toks efektyvus, kuo greičiau pereiti į kontaktinį mokymą. Praėjusią 15min teigė kalb\n",
            "\n"
          ],
          "name": "stdout"
        }
      ]
    },
    {
      "cell_type": "code",
      "metadata": {
        "colab": {
          "base_uri": "https://localhost:8080/"
        },
        "id": "DVYYfqhXiogO",
        "outputId": "6d8b1116-44ea-46e5-f826-6921cd249a9e"
      },
      "source": [
        "learn.blurr_generate(test_article)"
      ],
      "execution_count": 63,
      "outputs": [
        {
          "output_type": "execute_result",
          "data": {
            "text/plain": [
              "[' Antradienio vakarą Panevėžio rajone, Praeitos savaitės pabaigoje progimnazijos „Anksčiau, kai išties turėjome tam tikrą informacijos trūkumą, nuotaikų buvo įvairių. Šiuo metu, gavus atsakymus į visus kilusius klausimus, didžiausia dauguma bendruomenęs nusiteikus']"
            ]
          },
          "metadata": {
            "tags": []
          },
          "execution_count": 63
        }
      ]
    },
    {
      "cell_type": "markdown",
      "metadata": {
        "id": "5c7T1l5siegZ"
      },
      "source": [
        "# SAVE"
      ]
    },
    {
      "cell_type": "code",
      "metadata": {
        "id": "pzlQ4jtvifVn"
      },
      "source": [
        "learn.metrics = None\n",
        "learn.export(fname='ft_CNN_512_export.pkl')"
      ],
      "execution_count": 64,
      "outputs": []
    },
    {
      "cell_type": "code",
      "metadata": {
        "id": "bsIszElJjM-4"
      },
      "source": [
        ""
      ],
      "execution_count": null,
      "outputs": []
    }
  ]
}