{
 "cells": [
  {
   "cell_type": "markdown",
   "metadata": {},
   "source": [
    "## 1 uždavinys „Objektų klasterizacija, taikant k-means algoritmą“\n",
    "### Lentelėje pateikti pacientų duomenys, kurie serga tam tikra liga. Ligos simptomai aprašyti požymiais, nuo 1 iki 10. Reikšmė 1 reiškia, kad pacientas turi atitinkamą simptomą, 0 –simptomas nepasireiškė. Pritaikius k-mean metodą suskaidykite lentelėje 1 esančius duomenis į 3 klasterius. Žinoma, kad pacientui „Vardas1“ nustatyta COVID liga. Kokie pacientai pataikė į rizikos grupę, tai yra į vieną klasterį su sergančiu pacientu „Vardas1“? Parašykite programą Atlikite duomenų esančių lentelėje 1 išskaidymą į 3 klasterius. Pritaikykite k-mean algoritmą."
   ]
  },
  {
   "cell_type": "markdown",
   "metadata": {},
   "source": [
    "Užkrauname reikiamas bibliotekas"
   ]
  },
  {
   "cell_type": "code",
   "execution_count": 1,
   "metadata": {},
   "outputs": [
    {
     "name": "stderr",
     "output_type": "stream",
     "text": [
      "/home/robert/snap/jupyter/common/lib/python3.7/site-packages/joblib/_multiprocessing_helpers.py:45: UserWarning: [Errno 13] Permission denied.  joblib will operate in serial mode\n",
      "  warnings.warn('%s.  joblib will operate in serial mode' % (e,))\n"
     ]
    }
   ],
   "source": [
    "import pandas as pd\n",
    "import numpy as np\n",
    "from sklearn.cluster import KMeans\n",
    "import matplotlib.pyplot as plt"
   ]
  },
  {
   "cell_type": "markdown",
   "metadata": {},
   "source": [
    "Nuskaitome duomenys"
   ]
  },
  {
   "cell_type": "code",
   "execution_count": 2,
   "metadata": {},
   "outputs": [],
   "source": [
    "d = pd.read_csv(\"/home/robert/Desktop/Laborai/nn/2lab/pacientai.csv\", header=1, index_col=False)\n",
    "\n",
    "del d['Pacientai']"
   ]
  },
  {
   "cell_type": "markdown",
   "metadata": {},
   "source": [
    "#### 1. K-Means, kai K yra žinomas"
   ]
  },
  {
   "cell_type": "code",
   "execution_count": 3,
   "metadata": {},
   "outputs": [
    {
     "name": "stdout",
     "output_type": "stream",
     "text": [
      "Pacientas Vardas 1 yra patekes i rizikos grupe\n",
      "Pacientas Vardas 2 yra patekes i rizikos grupe\n",
      "Pacientas Vardas 4 yra patekes i rizikos grupe\n",
      "Pacientas Vardas 6 yra patekes i rizikos grupe\n",
      "Pacientas Vardas 8 yra patekes i rizikos grupe\n",
      "Pacientas Vardas 11 yra patekes i rizikos grupe\n",
      "Pacientas Vardas 12 yra patekes i rizikos grupe\n",
      "Pacientas Vardas 13 yra patekes i rizikos grupe\n",
      "Pacientas Vardas 14 yra patekes i rizikos grupe\n"
     ]
    }
   ],
   "source": [
    "k=3 # pagal salyga\n",
    "\n",
    "km = KMeans(n_clusters=k, random_state=2021)\n",
    "km.fit(d)\n",
    "y_km = km.predict(d)  # priskiriame klasterius atitinkamiem pacientam.\n",
    "\n",
    "# Kurie pacientai pateko i rizikos grupe (klasteri) kartu su pirmuoju pacientu?\n",
    "covid_klasteris = y_km[0]\n",
    "rizikos_pacientai = np.where(y_km==covid_klasteris)[0]+1\n",
    "\n",
    "for x in rizikos_pacientai:\n",
    "    print(\"Pacientas Vardas {} yra patekes i rizikos grupe\".format(x))"
   ]
  },
  {
   "cell_type": "markdown",
   "metadata": {},
   "source": [
    "#### 2. K-Means, kai K yra nežinomas, reikia nustatyti K"
   ]
  },
  {
   "cell_type": "code",
   "execution_count": 4,
   "metadata": {},
   "outputs": [
    {
     "data": {
      "text/plain": [
       "array([-11.85555556,  -3.91666667,  -3.34444444,  -1.85      ,\n",
       "        -1.91666667,  -1.41666667,  -1.5       ,  -1.33333333,\n",
       "        -0.83333333])"
      ]
     },
     "execution_count": 4,
     "metadata": {},
     "output_type": "execute_result"
    },
    {
     "data": {
      "image/png": "[encoded data removed]",
      "text/plain": [
       "<Figure size 432x288 with 1 Axes>"
      ]
     },
     "metadata": {
      "needs_background": "light"
     },
     "output_type": "display_data"
    }
   ],
   "source": [
    "val = []\n",
    "# iterauojam per skirtingus k\n",
    "for i in range(1,11):\n",
    "    km = KMeans(n_clusters=i, random_state=2021)\n",
    "    km.fit(d)\n",
    "    val.append(km.inertia_)\n",
    "    \n",
    "plt.plot(range(1,11), val)\n",
    "plt.title(\"Alkunes metodas\")\n",
    "plt.xlabel(\"Klasteriu skaicius\")\n",
    "plt.ylabel(\"Bendras atstumu skaiciaus kvadratas\")\n",
    "\n",
    "np.diff(val) # paskaiciavus skirtumus, matome, kad 5 klasteriai butu optimalu, nes tarp ju pokytis labai mazas"
   ]
  },
  {
   "cell_type": "markdown",
   "metadata": {},
   "source": [
    "Galėtume sakyti, kad pagal šį kriteirjų galime nustatyti k=5."
   ]
  },
  {
   "cell_type": "code",
   "execution_count": null,
   "metadata": {},
   "outputs": [],
   "source": []
  }
 ],
 "metadata": {
  "kernelspec": {
   "display_name": "Python 3",
   "language": "python",
   "name": "python3"
  },
  "language_info": {
   "codemirror_mode": {
    "name": "ipython",
    "version": 3
   },
   "file_extension": ".py",
   "mimetype": "text/x-python",
   "name": "python",
   "nbconvert_exporter": "python",
   "pygments_lexer": "ipython3",
   "version": "3.7.3"
  }
 },
 "nbformat": 4,
 "nbformat_minor": 2
}
