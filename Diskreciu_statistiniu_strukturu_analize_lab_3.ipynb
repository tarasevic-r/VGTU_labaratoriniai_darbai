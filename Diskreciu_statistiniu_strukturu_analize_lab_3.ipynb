{
 "cells": [
  {
   "cell_type": "markdown",
   "metadata": {},
   "source": [
    "# DSSA \n",
    "## Robert Tarasevič TSF–17\n",
    "\n",
    "## 3. lab. darbas | Logtiesiniai modeliai su R                                  \n",
    "\n",
    "\n",
    "Duomenų faile ksimpah.csv yra realaus medicininio tyrimo duomenys apie paauglių\n",
    "susirgimą pirminę arterinę hipertenziją. Kategoriniai dvireikšmiai kintamieji:\n",
    "\n",
    "- H Hipertenzija -- ar pacientas serga pirmine arterine hipertenzija;\n",
    "- L Lytis -- paciento lytis;\n",
    "- T Tabakas -- nurodo, ar pacientas rūko;\n",
    "- A Alkoholis -- nurodo, ar pacientas vartoja alkoholį;\n",
    "- S Antsvoris -- nurodo, ar pacientas turi antsvorį.\n",
    "\n",
    "\n",
    "Sudarykite įvairias dažnių lenteles ir, naudojant logistinės regresijos \n",
    "modelius, atlikite užduotis.\n",
    "\n",
    "1.  Sudarykite trijų kintamųjų T, A ir S kryžminę dažnių lentelę. Sudarykite \n",
    "    tokį logtiesinį modelį, kad, naudojant logtikėtinumo santykio testą, būtų \n",
    "    galima patikrinti hipotezę, kad šie kintamieji yra nepriklausomi.<br>\n",
    "\n",
    "2. Sudarykite tokį logtiesinį modelį, kad būtų galima patikrinti hipotezę,\n",
    "    jog kintamųjų T ir S sąveika T:S yra reikšminga, o kitos dvi sąveikos\n",
    "    nereikšmingos. <br>\n",
    "\n",
    "3. Sudarykite tokį logtiesinį modelį, kad būtų galima patikrinti hipotezę,\n",
    "    kad T ir A yra sąlyginai nepriklausomi, kai žinomas S. Tai reiškia, kad\n",
    "    T ir A galbūt yra priklausomi, bet atskirai turinčių antsvorį grupėje\n",
    "    nepriklausomi ir atskirai neturinčių antsvorio grupėje taip pat yra\n",
    "    nepriklausomi.\n",
    "    Čia naudingas skyrelis 5.2.5 Partial Independence iš konspekto c5.pdf <br>\n",
    "\n",
    "4. Apskaičiuokite dažnių prognozes, kai modelyje yra nėra visų trijų T, A \n",
    "    ir S porų sąveikų ir kai jos yra. Nustatykite, kokiu atveju prognozė \n",
    "    geresnė: kai modelyje yra sąveika T su A ar kai modelyje yra sąveika \n",
    "    T su S? Dažnių prognozei naudojama ta pati standartinė funkcija <code>fitted</code> \n",
    "    arba <code>predict.glm</code>.\n",
    "\n",
    "\n",
    "Nuskaitome duomenis."
   ]
  },
  {
   "cell_type": "code",
   "execution_count": 1,
   "metadata": {},
   "outputs": [
    {
     "data": {
      "text/html": [
       "<table>\n",
       "<caption>A data.frame: 6 × 12</caption>\n",
       "<thead>\n",
       "\t<tr><th></th><th scope=col>Lytis</th><th scope=col>Hipertenzija</th><th scope=col>Tabakas</th><th scope=col>Alkoholis</th><th scope=col>Ūgis</th><th scope=col>Svoris</th><th scope=col>KMI</th><th scope=col>Antsvoris</th><th scope=col>EQ</th><th scope=col>EZ</th><th scope=col>FC</th><th scope=col>FE</th></tr>\n",
       "\t<tr><th></th><th scope=col>&lt;fct&gt;</th><th scope=col>&lt;fct&gt;</th><th scope=col>&lt;fct&gt;</th><th scope=col>&lt;fct&gt;</th><th scope=col>&lt;dbl&gt;</th><th scope=col>&lt;dbl&gt;</th><th scope=col>&lt;dbl&gt;</th><th scope=col>&lt;fct&gt;</th><th scope=col>&lt;dbl&gt;</th><th scope=col>&lt;dbl&gt;</th><th scope=col>&lt;dbl&gt;</th><th scope=col>&lt;dbl&gt;</th></tr>\n",
       "</thead>\n",
       "<tbody>\n",
       "\t<tr><th scope=row>1</th><td>Vyras  </td><td>Sveikas</td><td>Nerūko</td><td>Geria  </td><td>181.0</td><td> 77.0</td><td>23.50</td><td>Ne </td><td>519.5</td><td>803.0</td><td>1.20</td><td>4.62</td></tr>\n",
       "\t<tr><th scope=row>2</th><td>Vyras  </td><td>Sveikas</td><td>Nerūko</td><td>Geria  </td><td>182.0</td><td>108.0</td><td>32.60</td><td>Yra</td><td>517.5</td><td>797.0</td><td>2.15</td><td>5.22</td></tr>\n",
       "\t<tr><th scope=row>3</th><td>Vyras  </td><td>Serga  </td><td>Nerūko</td><td>Negeria</td><td>187.0</td><td>122.0</td><td>34.89</td><td>Yra</td><td>654.0</td><td>554.5</td><td>2.85</td><td>4.89</td></tr>\n",
       "\t<tr><th scope=row>4</th><td>Vyras  </td><td>Sveikas</td><td>Nerūko</td><td>Geria  </td><td>178.5</td><td> 64.0</td><td>20.09</td><td>Ne </td><td>518.5</td><td>727.5</td><td>1.40</td><td>4.56</td></tr>\n",
       "\t<tr><th scope=row>5</th><td>Moteris</td><td>Sveikas</td><td>Rūko  </td><td>Geria  </td><td>170.0</td><td> 57.5</td><td>19.90</td><td>Ne </td><td>472.5</td><td>662.5</td><td>1.80</td><td>4.01</td></tr>\n",
       "\t<tr><th scope=row>6</th><td>Vyras  </td><td>Sveikas</td><td>Nerūko</td><td>Geria  </td><td>187.5</td><td> 70.0</td><td>19.91</td><td>Ne </td><td>516.0</td><td>680.5</td><td>1.55</td><td>4.73</td></tr>\n",
       "</tbody>\n",
       "</table>\n"
      ],
      "text/latex": [
       "A data.frame: 6 × 12\n",
       "\\begin{tabular}{r|llllllllllll}\n",
       "  & Lytis & Hipertenzija & Tabakas & Alkoholis & Ūgis & Svoris & KMI & Antsvoris & EQ & EZ & FC & FE\\\\\n",
       "  & <fct> & <fct> & <fct> & <fct> & <dbl> & <dbl> & <dbl> & <fct> & <dbl> & <dbl> & <dbl> & <dbl>\\\\\n",
       "\\hline\n",
       "\t1 & Vyras   & Sveikas & Nerūko & Geria   & 181.0 &  77.0 & 23.50 & Ne  & 519.5 & 803.0 & 1.20 & 4.62\\\\\n",
       "\t2 & Vyras   & Sveikas & Nerūko & Geria   & 182.0 & 108.0 & 32.60 & Yra & 517.5 & 797.0 & 2.15 & 5.22\\\\\n",
       "\t3 & Vyras   & Serga   & Nerūko & Negeria & 187.0 & 122.0 & 34.89 & Yra & 654.0 & 554.5 & 2.85 & 4.89\\\\\n",
       "\t4 & Vyras   & Sveikas & Nerūko & Geria   & 178.5 &  64.0 & 20.09 & Ne  & 518.5 & 727.5 & 1.40 & 4.56\\\\\n",
       "\t5 & Moteris & Sveikas & Rūko   & Geria   & 170.0 &  57.5 & 19.90 & Ne  & 472.5 & 662.5 & 1.80 & 4.01\\\\\n",
       "\t6 & Vyras   & Sveikas & Nerūko & Geria   & 187.5 &  70.0 & 19.91 & Ne  & 516.0 & 680.5 & 1.55 & 4.73\\\\\n",
       "\\end{tabular}\n"
      ],
      "text/markdown": [
       "\n",
       "A data.frame: 6 × 12\n",
       "\n",
       "| <!--/--> | Lytis &lt;fct&gt; | Hipertenzija &lt;fct&gt; | Tabakas &lt;fct&gt; | Alkoholis &lt;fct&gt; | Ūgis &lt;dbl&gt; | Svoris &lt;dbl&gt; | KMI &lt;dbl&gt; | Antsvoris &lt;fct&gt; | EQ &lt;dbl&gt; | EZ &lt;dbl&gt; | FC &lt;dbl&gt; | FE &lt;dbl&gt; |\n",
       "|---|---|---|---|---|---|---|---|---|---|---|---|---|\n",
       "| 1 | Vyras   | Sveikas | Nerūko | Geria   | 181.0 |  77.0 | 23.50 | Ne  | 519.5 | 803.0 | 1.20 | 4.62 |\n",
       "| 2 | Vyras   | Sveikas | Nerūko | Geria   | 182.0 | 108.0 | 32.60 | Yra | 517.5 | 797.0 | 2.15 | 5.22 |\n",
       "| 3 | Vyras   | Serga   | Nerūko | Negeria | 187.0 | 122.0 | 34.89 | Yra | 654.0 | 554.5 | 2.85 | 4.89 |\n",
       "| 4 | Vyras   | Sveikas | Nerūko | Geria   | 178.5 |  64.0 | 20.09 | Ne  | 518.5 | 727.5 | 1.40 | 4.56 |\n",
       "| 5 | Moteris | Sveikas | Rūko   | Geria   | 170.0 |  57.5 | 19.90 | Ne  | 472.5 | 662.5 | 1.80 | 4.01 |\n",
       "| 6 | Vyras   | Sveikas | Nerūko | Geria   | 187.5 |  70.0 | 19.91 | Ne  | 516.0 | 680.5 | 1.55 | 4.73 |\n",
       "\n"
      ],
      "text/plain": [
       "  Lytis   Hipertenzija Tabakas Alkoholis Ūgis  Svoris KMI   Antsvoris EQ   \n",
       "1 Vyras   Sveikas      Nerūko  Geria     181.0  77.0  23.50 Ne        519.5\n",
       "2 Vyras   Sveikas      Nerūko  Geria     182.0 108.0  32.60 Yra       517.5\n",
       "3 Vyras   Serga        Nerūko  Negeria   187.0 122.0  34.89 Yra       654.0\n",
       "4 Vyras   Sveikas      Nerūko  Geria     178.5  64.0  20.09 Ne        518.5\n",
       "5 Moteris Sveikas      Rūko    Geria     170.0  57.5  19.90 Ne        472.5\n",
       "6 Vyras   Sveikas      Nerūko  Geria     187.5  70.0  19.91 Ne        516.0\n",
       "  EZ    FC   FE  \n",
       "1 803.0 1.20 4.62\n",
       "2 797.0 2.15 5.22\n",
       "3 554.5 2.85 4.89\n",
       "4 727.5 1.40 4.56\n",
       "5 662.5 1.80 4.01\n",
       "6 680.5 1.55 4.73"
      ]
     },
     "metadata": {},
     "output_type": "display_data"
    }
   ],
   "source": [
    "d = read.csv2(\"ksimpah.csv\", encoding = 'UTF-8')\n",
    "head(d)"
   ]
  },
  {
   "cell_type": "markdown",
   "metadata": {},
   "source": [
    "### 1. Sudarykite trijų kintamųjų T, A ir S kryžminę dažnių lentelę. Sudarykite tokį logtiesinį modelį, kad, naudojant logtikėtinumo santykio testą, būtų galima patikrinti hipotezę, kad šie kintamieji yra nepriklausomi.\n",
    "***\n",
    "\n",
    "Kryžminei lentelei sudaryti naudosime <code>xtabs</code> funkciją, toliau mums reikės sudaryti tokius du *glm* modelius, kad viename būtų kintamųjų sąveika, o kitame ne. Toliau taikysime *anova* funkciją santykiniam testui atlikti, kad patikrinti kintamūju nepriklausomumą.\n",
    "\n",
    "#### T -- tabakas\n",
    "#### S -- antsvoris\n",
    "#### A -- alkoholio vartojimas\n",
    "#### F -- dažniai\n"
   ]
  },
  {
   "cell_type": "code",
   "execution_count": 2,
   "metadata": {
    "scrolled": true
   },
   "outputs": [
    {
     "data": {
      "text/html": [
       "<table>\n",
       "<caption>A data.frame: 8 × 4</caption>\n",
       "<thead>\n",
       "\t<tr><th scope=col>T</th><th scope=col>A</th><th scope=col>S</th><th scope=col>F</th></tr>\n",
       "\t<tr><th scope=col>&lt;fct&gt;</th><th scope=col>&lt;fct&gt;</th><th scope=col>&lt;fct&gt;</th><th scope=col>&lt;int&gt;</th></tr>\n",
       "</thead>\n",
       "<tbody>\n",
       "\t<tr><td>Nerūko</td><td>Geria  </td><td>Ne </td><td>39</td></tr>\n",
       "\t<tr><td>Rūko  </td><td>Geria  </td><td>Ne </td><td>54</td></tr>\n",
       "\t<tr><td>Nerūko</td><td>Negeria</td><td>Ne </td><td>23</td></tr>\n",
       "\t<tr><td>Rūko  </td><td>Negeria</td><td>Ne </td><td> 1</td></tr>\n",
       "\t<tr><td>Nerūko</td><td>Geria  </td><td>Yra</td><td> 7</td></tr>\n",
       "\t<tr><td>Rūko  </td><td>Geria  </td><td>Yra</td><td>17</td></tr>\n",
       "\t<tr><td>Nerūko</td><td>Negeria</td><td>Yra</td><td>11</td></tr>\n",
       "\t<tr><td>Rūko  </td><td>Negeria</td><td>Yra</td><td> 1</td></tr>\n",
       "</tbody>\n",
       "</table>\n"
      ],
      "text/latex": [
       "A data.frame: 8 × 4\n",
       "\\begin{tabular}{llll}\n",
       " T & A & S & F\\\\\n",
       " <fct> & <fct> & <fct> & <int>\\\\\n",
       "\\hline\n",
       "\t Nerūko & Geria   & Ne  & 39\\\\\n",
       "\t Rūko   & Geria   & Ne  & 54\\\\\n",
       "\t Nerūko & Negeria & Ne  & 23\\\\\n",
       "\t Rūko   & Negeria & Ne  &  1\\\\\n",
       "\t Nerūko & Geria   & Yra &  7\\\\\n",
       "\t Rūko   & Geria   & Yra & 17\\\\\n",
       "\t Nerūko & Negeria & Yra & 11\\\\\n",
       "\t Rūko   & Negeria & Yra &  1\\\\\n",
       "\\end{tabular}\n"
      ],
      "text/markdown": [
       "\n",
       "A data.frame: 8 × 4\n",
       "\n",
       "| T &lt;fct&gt; | A &lt;fct&gt; | S &lt;fct&gt; | F &lt;int&gt; |\n",
       "|---|---|---|---|\n",
       "| Nerūko | Geria   | Ne  | 39 |\n",
       "| Rūko   | Geria   | Ne  | 54 |\n",
       "| Nerūko | Negeria | Ne  | 23 |\n",
       "| Rūko   | Negeria | Ne  |  1 |\n",
       "| Nerūko | Geria   | Yra |  7 |\n",
       "| Rūko   | Geria   | Yra | 17 |\n",
       "| Nerūko | Negeria | Yra | 11 |\n",
       "| Rūko   | Negeria | Yra |  1 |\n",
       "\n"
      ],
      "text/plain": [
       "  T      A       S   F \n",
       "1 Nerūko Geria   Ne  39\n",
       "2 Rūko   Geria   Ne  54\n",
       "3 Nerūko Negeria Ne  23\n",
       "4 Rūko   Negeria Ne   1\n",
       "5 Nerūko Geria   Yra  7\n",
       "6 Rūko   Geria   Yra 17\n",
       "7 Nerūko Negeria Yra 11\n",
       "8 Rūko   Negeria Yra  1"
      ]
     },
     "metadata": {},
     "output_type": "display_data"
    }
   ],
   "source": [
    "l = xtabs( ~ 1 + Tabakas + Alkoholis + Antsvoris, data=d)\n",
    "l = ftable(l)\n",
    "N = as.data.frame(l)\n",
    "names(N) <- c(\"T\", \"A\", \"S\", \"F\")\n",
    "N"
   ]
  },
  {
   "cell_type": "code",
   "execution_count": 3,
   "metadata": {
    "scrolled": true
   },
   "outputs": [
    {
     "data": {
      "text/html": [
       "<table>\n",
       "<caption>A anova: 2 × 5</caption>\n",
       "<thead>\n",
       "\t<tr><th></th><th scope=col>Resid. Df</th><th scope=col>Resid. Dev</th><th scope=col>Df</th><th scope=col>Deviance</th><th scope=col>Pr(&gt;Chi)</th></tr>\n",
       "\t<tr><th></th><th scope=col>&lt;dbl&gt;</th><th scope=col>&lt;dbl&gt;</th><th scope=col>&lt;dbl&gt;</th><th scope=col>&lt;dbl&gt;</th><th scope=col>&lt;dbl&gt;</th></tr>\n",
       "</thead>\n",
       "<tbody>\n",
       "\t<tr><th scope=row>1</th><td>4</td><td>43.49905</td><td>NA</td><td>      NA</td><td>          NA</td></tr>\n",
       "\t<tr><th scope=row>2</th><td>5</td><td>88.65015</td><td>-1</td><td>-45.1511</td><td>1.824034e-11</td></tr>\n",
       "</tbody>\n",
       "</table>\n"
      ],
      "text/latex": [
       "A anova: 2 × 5\n",
       "\\begin{tabular}{r|lllll}\n",
       "  & Resid. Df & Resid. Dev & Df & Deviance & Pr(>Chi)\\\\\n",
       "  & <dbl> & <dbl> & <dbl> & <dbl> & <dbl>\\\\\n",
       "\\hline\n",
       "\t1 & 4 & 43.49905 & NA &       NA &           NA\\\\\n",
       "\t2 & 5 & 88.65015 & -1 & -45.1511 & 1.824034e-11\\\\\n",
       "\\end{tabular}\n"
      ],
      "text/markdown": [
       "\n",
       "A anova: 2 × 5\n",
       "\n",
       "| <!--/--> | Resid. Df &lt;dbl&gt; | Resid. Dev &lt;dbl&gt; | Df &lt;dbl&gt; | Deviance &lt;dbl&gt; | Pr(&gt;Chi) &lt;dbl&gt; |\n",
       "|---|---|---|---|---|---|\n",
       "| 1 | 4 | 43.49905 | NA |       NA |           NA |\n",
       "| 2 | 5 | 88.65015 | -1 | -45.1511 | 1.824034e-11 |\n",
       "\n"
      ],
      "text/plain": [
       "  Resid. Df Resid. Dev Df Deviance Pr(>Chi)    \n",
       "1 4         43.49905   NA       NA           NA\n",
       "2 5         88.65015   -1 -45.1511 1.824034e-11"
      ]
     },
     "metadata": {},
     "output_type": "display_data"
    }
   ],
   "source": [
    "mod1 = glm(F ~ 1 + T + A + S, N, family = poisson)\n",
    "mod2 = glm(F ~ 1 + T + A, N, family = poisson)\n",
    "\n",
    "anova(mod1, mod2, test=\"Chisq\")"
   ]
  },
  {
   "cell_type": "markdown",
   "metadata": {},
   "source": [
    "Pagal p reikšmę = 1.82e-11 matome, kad hipotezė $H_0$ apie parametrų nereikšmingumą yra atmetamą, *Antsvorio* parametras yra reikšmingas."
   ]
  },
  {
   "cell_type": "markdown",
   "metadata": {},
   "source": [
    "### 2. Sudarykite tokį logtiesinį modelį, kad būtų galima patikrinti hipotezę, jog kintamųjų T ir S sąveika T:S yra reikšminga, o kitos dvi sąveikos nereikšmingos. \n",
    "\n",
    "Sudarome tokie modelį, kuriame būtų visos 3 sąveikos:\n",
    "- T:S\n",
    "- T:A\n",
    "- S:A"
   ]
  },
  {
   "cell_type": "code",
   "execution_count": 4,
   "metadata": {},
   "outputs": [
    {
     "data": {
      "text/plain": [
       "\n",
       "Call:\n",
       "glm(formula = F ~ 1 + T + A + S + T:A + T:S + S:A, family = poisson, \n",
       "    data = N)\n",
       "\n",
       "Deviance Residuals: \n",
       "       1         2         3         4         5         6         7         8  \n",
       "-0.01179   0.01003   0.01538  -0.07196   0.02795  -0.01785  -0.02217   0.07559  \n",
       "\n",
       "Coefficients:\n",
       "               Estimate Std. Error z value Pr(>|z|)    \n",
       "(Intercept)      3.6654     0.1591  23.036  < 2e-16 ***\n",
       "TRūko            0.3222     0.2081   1.548   0.1217    \n",
       "ANegeria        -0.5332     0.2592  -2.057   0.0397 *  \n",
       "SYra            -1.7301     0.3974  -4.354 1.34e-05 ***\n",
       "TRūko:ANegeria  -3.3833     0.7648  -4.424 9.69e-06 ***\n",
       "TRūko:SYra       0.5800     0.4707   1.232   0.2178    \n",
       "ANegeria:SYra    1.0024     0.5151   1.946   0.0516 .  \n",
       "---\n",
       "Signif. codes:  0 ‘***’ 0.001 ‘**’ 0.01 ‘*’ 0.05 ‘.’ 0.1 ‘ ’ 1\n",
       "\n",
       "(Dispersion parameter for poisson family taken to be 1)\n",
       "\n",
       "    Null deviance: 134.121619  on 7  degrees of freedom\n",
       "Residual deviance:   0.012961  on 1  degrees of freedom\n",
       "AIC: 47.069\n",
       "\n",
       "Number of Fisher Scoring iterations: 4\n"
      ]
     },
     "metadata": {},
     "output_type": "display_data"
    }
   ],
   "source": [
    "mod3 = glm(F ~ 1 + T + A + S + T:A + T:S + S:A, data = N, family=poisson)\n",
    "summary(mod3)"
   ]
  },
  {
   "cell_type": "markdown",
   "metadata": {},
   "source": [
    "Pagal sudaryti modelio <code>summary</code> matome:\n",
    "\n",
    "* T:A sąveika yra labai reikšminga (p=9,69e-6)\n",
    "* T:S sąveika nereikšminga (p=0,2178)\n",
    "* S:A sąveika yra nereikšminga bet ir tuo pačiu \"ant ribos\" (p=0.0516), tad su atitinkamu reikšmingumo lygmeniu ši sąveika galėtų būti reikšminga."
   ]
  },
  {
   "cell_type": "markdown",
   "metadata": {},
   "source": [
    "### 3. Sudarykite tokį logtiesinį modelį, kad būtų galima patikrinti hipotezę, kad T ir A yra sąlyginai nepriklausomi, kai žinomas S. Tai reiškia, kad T ir A galbūt yra priklausomi, bet atskirai turinčių antsvorį grupėje nepriklausomi ir atskirai neturinčių antsvorio grupėje taip pat yra nepriklausomi. Čia naudingas skyrelis 5.2.5 Partial Independence iš konspekto c5.pdf \n",
    "\n",
    "Sudarome du modelius:\n",
    "\n",
    "* sat: 1 + S:T + S:A\n",
    "* mod: 1 + S"
   ]
  },
  {
   "cell_type": "code",
   "execution_count": 5,
   "metadata": {},
   "outputs": [],
   "source": [
    "sat = glm(F ~ 1 + S:T + S:A, N, family=poisson)\n",
    "mod = glm(F ~ 1 + S, N, family=poisson)"
   ]
  },
  {
   "cell_type": "markdown",
   "metadata": {},
   "source": [
    "Pasinaudoję <code>anova</code> funkcija atliksime tikėtinumo santykio testą"
   ]
  },
  {
   "cell_type": "code",
   "execution_count": 6,
   "metadata": {},
   "outputs": [
    {
     "data": {
      "text/html": [
       "<table>\n",
       "<caption>A anova: 2 × 5</caption>\n",
       "<thead>\n",
       "\t<tr><th></th><th scope=col>Resid. Df</th><th scope=col>Resid. Dev</th><th scope=col>Df</th><th scope=col>Deviance</th><th scope=col>Pr(&gt;Chi)</th></tr>\n",
       "\t<tr><th></th><th scope=col>&lt;dbl&gt;</th><th scope=col>&lt;dbl&gt;</th><th scope=col>&lt;dbl&gt;</th><th scope=col>&lt;dbl&gt;</th><th scope=col>&lt;dbl&gt;</th></tr>\n",
       "</thead>\n",
       "<tbody>\n",
       "\t<tr><th scope=row>1</th><td>6</td><td>88.97052</td><td>NA</td><td>      NA</td><td>          NA</td></tr>\n",
       "\t<tr><th scope=row>2</th><td>2</td><td>41.01606</td><td> 4</td><td>47.95446</td><td>9.646409e-10</td></tr>\n",
       "</tbody>\n",
       "</table>\n"
      ],
      "text/latex": [
       "A anova: 2 × 5\n",
       "\\begin{tabular}{r|lllll}\n",
       "  & Resid. Df & Resid. Dev & Df & Deviance & Pr(>Chi)\\\\\n",
       "  & <dbl> & <dbl> & <dbl> & <dbl> & <dbl>\\\\\n",
       "\\hline\n",
       "\t1 & 6 & 88.97052 & NA &       NA &           NA\\\\\n",
       "\t2 & 2 & 41.01606 &  4 & 47.95446 & 9.646409e-10\\\\\n",
       "\\end{tabular}\n"
      ],
      "text/markdown": [
       "\n",
       "A anova: 2 × 5\n",
       "\n",
       "| <!--/--> | Resid. Df &lt;dbl&gt; | Resid. Dev &lt;dbl&gt; | Df &lt;dbl&gt; | Deviance &lt;dbl&gt; | Pr(&gt;Chi) &lt;dbl&gt; |\n",
       "|---|---|---|---|---|---|\n",
       "| 1 | 6 | 88.97052 | NA |       NA |           NA |\n",
       "| 2 | 2 | 41.01606 |  4 | 47.95446 | 9.646409e-10 |\n",
       "\n"
      ],
      "text/plain": [
       "  Resid. Df Resid. Dev Df Deviance Pr(>Chi)    \n",
       "1 6         88.97052   NA       NA           NA\n",
       "2 2         41.01606    4 47.95446 9.646409e-10"
      ]
     },
     "metadata": {},
     "output_type": "display_data"
    }
   ],
   "source": [
    "anova(mod, sat, test = \"Chisq\")"
   ]
  },
  {
   "cell_type": "markdown",
   "metadata": {},
   "source": [
    "Iš testo rezultatų lentelės matome, kad S:T ir S:A sankirtos yra statistiškai reikšmingos."
   ]
  },
  {
   "cell_type": "markdown",
   "metadata": {},
   "source": [
    "#### 4. Apskaičiuokite dažnių prognozes, kai modelyje yra nėra visų trijų T, A ir S porų sąveikų ir kai jos yra. Nustatykite, kokiu atveju prognozė geresnė: kai modelyje yra sąveika T su A ar kai modelyje yra sąveika T su S? \n",
    "#### Dažnių prognozei naudojama ta pati standartinė funkcija <code>fitted</code>  arba <code>predict.glm</code>.\n",
    "\n",
    "Kaip sąlyga ir prašo, sudarome du modelius:\n",
    "\n",
    "1. modelis turintis visų trijų **T,A** ir **S** porų sąveikas;\n",
    "2. modelis neturintis kintamųjų sąveikų.\n",
    "\n",
    "Sudarę šiuos modelius, palyginsime jų prognozes ir nustatysime kuriuo atvėju prognozė yra geresnė. Dažnių prognozei atlikti naudosime <code>fitted</code> funkciją."
   ]
  },
  {
   "cell_type": "code",
   "execution_count": 7,
   "metadata": {},
   "outputs": [
    {
     "data": {
      "text/html": [
       "<table>\n",
       "<caption>A data.frame: 8 × 3</caption>\n",
       "<thead>\n",
       "\t<tr><th scope=col>Modelis su sąveikom</th><th scope=col>Modelis neturintis sąveikų</th><th scope=col>Tikrosios reikšmės</th></tr>\n",
       "\t<tr><th scope=col>&lt;dbl&gt;</th><th scope=col>&lt;dbl&gt;</th><th scope=col>&lt;dbl&gt;</th></tr>\n",
       "</thead>\n",
       "<tbody>\n",
       "\t<tr><td>39.0736997</td><td>46.782007</td><td>39</td></tr>\n",
       "\t<tr><td>53.9263003</td><td>42.688581</td><td>54</td></tr>\n",
       "\t<tr><td>22.9263003</td><td>14.394464</td><td>23</td></tr>\n",
       "\t<tr><td> 1.0736997</td><td>13.134948</td><td> 1</td></tr>\n",
       "\t<tr><td> 6.9263003</td><td>14.394464</td><td> 7</td></tr>\n",
       "\t<tr><td>17.0736997</td><td>13.134948</td><td>17</td></tr>\n",
       "\t<tr><td>11.0736997</td><td> 4.429066</td><td>11</td></tr>\n",
       "\t<tr><td> 0.9263003</td><td> 4.041522</td><td> 1</td></tr>\n",
       "</tbody>\n",
       "</table>\n"
      ],
      "text/latex": [
       "A data.frame: 8 × 3\n",
       "\\begin{tabular}{lll}\n",
       " Modelis su sąveikom & Modelis neturintis sąveikų & Tikrosios reikšmės\\\\\n",
       " <dbl> & <dbl> & <dbl>\\\\\n",
       "\\hline\n",
       "\t 39.0736997 & 46.782007 & 39\\\\\n",
       "\t 53.9263003 & 42.688581 & 54\\\\\n",
       "\t 22.9263003 & 14.394464 & 23\\\\\n",
       "\t  1.0736997 & 13.134948 &  1\\\\\n",
       "\t  6.9263003 & 14.394464 &  7\\\\\n",
       "\t 17.0736997 & 13.134948 & 17\\\\\n",
       "\t 11.0736997 &  4.429066 & 11\\\\\n",
       "\t  0.9263003 &  4.041522 &  1\\\\\n",
       "\\end{tabular}\n"
      ],
      "text/markdown": [
       "\n",
       "A data.frame: 8 × 3\n",
       "\n",
       "| Modelis su sąveikom &lt;dbl&gt; | Modelis neturintis sąveikų &lt;dbl&gt; | Tikrosios reikšmės &lt;dbl&gt; |\n",
       "|---|---|---|\n",
       "| 39.0736997 | 46.782007 | 39 |\n",
       "| 53.9263003 | 42.688581 | 54 |\n",
       "| 22.9263003 | 14.394464 | 23 |\n",
       "|  1.0736997 | 13.134948 |  1 |\n",
       "|  6.9263003 | 14.394464 |  7 |\n",
       "| 17.0736997 | 13.134948 | 17 |\n",
       "| 11.0736997 |  4.429066 | 11 |\n",
       "|  0.9263003 |  4.041522 |  1 |\n",
       "\n"
      ],
      "text/plain": [
       "  Modelis su sąveikom Modelis neturintis sąveikų Tikrosios reikšmės\n",
       "1 39.0736997          46.782007                  39                \n",
       "2 53.9263003          42.688581                  54                \n",
       "3 22.9263003          14.394464                  23                \n",
       "4  1.0736997          13.134948                   1                \n",
       "5  6.9263003          14.394464                   7                \n",
       "6 17.0736997          13.134948                  17                \n",
       "7 11.0736997           4.429066                  11                \n",
       "8  0.9263003           4.041522                   1                "
      ]
     },
     "metadata": {},
     "output_type": "display_data"
    }
   ],
   "source": [
    "mod1 = glm(F ~ 1 + T + A + S + T:A + T:S + S:A, data = N, family = poisson)\n",
    "mod2 = glm(F ~ 1 + T + A + S, data = N, family = poisson)\n",
    "\n",
    "pred_1 = matrix(fitted(mod1))\n",
    "pred_2 = matrix(fitted(mod2))\n",
    "\n",
    "pred = as.data.frame(cbind(pred_1, pred_2, N$F))\n",
    "names(pred) <- c(\"Modelis su sąveikom\", \"Modelis neturintis sąveikų\", \"Tikrosios reikšmės\")\n",
    "\n",
    "pred\n"
   ]
  },
  {
   "cell_type": "markdown",
   "metadata": {},
   "source": [
    "Pasižiūrėjus į dažnių lentelę, nesunku pastebėti, kad pirmasis modelis (turintis kintamųjų sąveikas) prognozuoja gerokai tiksliau nei modelis neturintis kintamųjų sąveikas."
   ]
  }
 ],
 "metadata": {
  "kernelspec": {
   "display_name": "R",
   "language": "R",
   "name": "ir"
  },
  "language_info": {
   "codemirror_mode": "r",
   "file_extension": ".r",
   "mimetype": "text/x-r-source",
   "name": "R",
   "pygments_lexer": "r",
   "version": "3.6.3"
  }
 },
 "nbformat": 4,
 "nbformat_minor": 2
}
