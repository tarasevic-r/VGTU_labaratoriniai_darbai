{
 "cells": [
  {
   "cell_type": "markdown",
   "metadata": {},
   "source": [
    "## 3 labaratorinis darbas "
   ]
  },
  {
   "cell_type": "code",
   "execution_count": 1,
   "metadata": {},
   "outputs": [],
   "source": [
    "from IPython.display import Image\n",
    "from IPython.core.display import HTML "
   ]
  },
  {
   "cell_type": "markdown",
   "metadata": {},
   "source": [
    "Feedforward tinklui mum reikės apsibrėžti tam tikras funkcijas:\n",
    "\n",
    "* Apsibrėžti aktyvavimo funkciją, šiuo atvėju panaudosime sigmoid $f(x) = \\frac{1}{1-e^{-x}}$\n",
    "* Apskaičiuoti aktyvavimo funkcijos išvestinę $f'(x)$\n",
    "* Apsibrėžti savo klaidos/nuokrypio funkciją (loss function), panaudosime vidutinio kvadratinio nuokrypio $MSE =\\sum_{i}^{n}\\frac{(\\hat{y}_i - y_i)^2}{n}$\n",
    "\n",
    "Toliau galime pereiti prie **feedforward** tinklo konstravimo, jo struktūra galime matyti paveikslėlyje žemiau. Struktūra sudaro:\n",
    "\n",
    "* Input layer, kurį sudaro du elementai, mūsų atvėju tai būtų **ūgis** ir **svoris** (jie turi būti normalizuoti)\n",
    "* Hidden layer, kurį sudaro 2 neuronai\n",
    "* Output, mūsų atvėju tai būtų lytis (moteris arba vyras)\n",
    "\n",
    "Jeigu su input sluoksniu viskas kaip ir aišku, tai stabtelkim prie antrojo (hidden layer), apžvelkime detaliau kas ten vyksta.\n",
    "\n",
    "1. Šiame sluoksnyje yra mūsų aukščiau apibrėžta aktyvavimo funkcija. $sigmoid$\n",
    "2. Kiekvienas input'o elementas yra dauginamas iš atitinkamo svorio\n",
    "3. Šios sandaugos yra sudedamos ir pridedamas **bias** (b)\n",
    "4. Tokia suma yra \"paduodama\" į aktyvavimo funkcija (mūsų atvėju tai būtų sigmoid)\n",
    "\n",
    "visa tai atrodo taip: $sigmoid\\Big(x_1\\cdot w_1 + x_2 \\cdot w_2 + b\\Big)$\n"
   ]
  },
  {
   "cell_type": "code",
   "execution_count": 8,
   "metadata": {},
   "outputs": [
    {
     "data": {
      "text/html": [
       "<img src=\"https://www.researchgate.net/publication/332932489/figure/fig1/AS:756125788020736@1557285844270/Example-of-simple-neural-network-defined-by-E-x-1-x-2-y.ppm\"/>"
      ],
      "text/plain": [
       "<IPython.core.display.Image object>"
      ]
     },
     "execution_count": 8,
     "metadata": {},
     "output_type": "execute_result"
    }
   ],
   "source": [
    "Image(url= \"https://www.researchgate.net/publication/332932489/figure/fig1/AS:756125788020736@1557285844270/Example-of-simple-neural-network-defined-by-E-x-1-x-2-y.ppm\")"
   ]
  },
  {
   "cell_type": "markdown",
   "metadata": {},
   "source": [
    "Kyla klausimas, kas gi ta sigmoid aktyvavimo funkcija?? (atvaizduota grafike žemiau).\n",
    "Kaip matome iš grafiko, sigmoid funkcija įgyja reikšmes iš intervalo $[0; 1]$, galėtume sakyti, kad ši funkcija konvertuoja reikšmes nuo $-\\infty$ iki $+\\infty$ į atitinkamas iš rėžio $[0; 1]$"
   ]
  },
  {
   "cell_type": "code",
   "execution_count": 9,
   "metadata": {},
   "outputs": [
    {
     "data": {
      "text/html": [
       "<img src=\"https://victorzhou.com/static/dd5a39500acbef371d8d791d2cd381e0/fa73e/sigmoid.webp\"/>"
      ],
      "text/plain": [
       "<IPython.core.display.Image object>"
      ]
     },
     "execution_count": 9,
     "metadata": {},
     "output_type": "execute_result"
    }
   ],
   "source": [
    "Image(url= \"https://victorzhou.com/static/dd5a39500acbef371d8d791d2cd381e0/fa73e/sigmoid.webp\")"
   ]
  },
  {
   "cell_type": "markdown",
   "metadata": {},
   "source": [
    "Toliau pereiname prie Output sluoksnio. Čia analogiškai kaip ir praeitame sluoksnyje:\n",
    "\n",
    "1. Kiekvienas elementas gautas iš praeito sluoksnio yra dauginamas iš atitinkamo svorio ir pridedamas bias\n",
    "2. Šios sandaugos yra sumuojamos ir taip pat paduodamos į aktyvavimo funkciją.\n",
    "3. Gautas rezultatas iš aktyvavimo funkcijos ir yra mūsų rezultatas, šiuo atvėju prognoze ar tai moteris ar vyras\n",
    "\n",
    "visa tai atrodo taip: $sigmoid\\Big(h_1\\cdot w_5 + h_2 \\cdot w_6 + b\\Big)$\n",
    "Gautas rezultatas yra iš režio $[0;1]$, čia reiškmė arčiau 0 reiškiasi, kad lytis yra vyras, o reikšmė arčiau 1 reiškia, kad lytis yra moteris.\n",
    "\n",
    "Kadangi pirminiai tinklo svoriai ir bias yra parenkami atsitiktinai, jie greičiausiai bus ne patys optimaliausi.. Mes tikimes, kad output ($\\hat{y}$) reikšmė bus labai arti mūsų tikrosios reikšmės ($y$), tai mes įvertinsime pagal **MSE** (paminėta aukščiau), taigi mes norime minimizuoti MSE, $MSE \\longrightarrow MIN$, kad tai padaryti mums reikia keisti prieš tai paminėtus svorio ir bias parametrus, bet kaip žinoti kurio parametro reikšmę į kokią keisti, kad sumažinti mūsų paklaidą?\n",
    "Atsakymas paprastas žiūrėkime į mūsų **loss** funkciją kaip į daugiamačią funkciją $L(w_1, w_2, \\dots, b_1, b_2, \\dots)$, tuomet reikia skaičiuot dalines išvestinę kiekvienam kintamajam.\n",
    "\n",
    "Pažiūrėkime kaip skaičiuotume dalinę išvestinę kintamajam $w_1$:\n",
    "\n",
    "$$\\frac{\\partial L}{\\partial w_1} = \\frac{\\partial L}{\\partial \\hat{y}}\\cdot \\frac{\\partial \\hat{y}}{\\partial w_1}$$\n",
    "\n",
    "\n",
    "Mes galime apskaičiuoti $\\frac{\\partial L}{\\partial \\hat{y}}$, nes prieš tai paskaičiavome $L = (1-\\hat{y})^2$, reiškiasi:\n",
    "\n",
    "$$\\frac{\\partial L}{\\partial \\hat{y}} = \\frac{\\partial(1-\\hat{y})^2}{\\partial \\hat{y}} = -2(1-\\hat{y})$$\n",
    "\n",
    "Toliau reikia išsiaiškinti su $\\frac{\\partial \\hat{y}}{\\partial w_1}$, prisimename, kad mūsų prognozė $\\hat{y} = f(w_5\\cdot h_1 + w_6 \\cdot h_2 + b_3)$, čia *f* yra aktyvavimo funkcija sigmoid, kadangi $w_1$ įtakoja tik $h_1$, tai mes galime parašyti taip:\n",
    "$$\\frac{\\partial\\hat{y}}{\\partial w_1} = \\frac{\\partial\\hat{y}}{\\partial h_1} \\cdot \\frac{\\partial h_1}{\\partial w_1}$$\n",
    "\n",
    "O tai yra ne kas kita kaip: $\\frac{\\partial\\hat{y}}{\\partial w_1} = w_5 \\cdot f'(w_5 h_1 + w_6 h_2 + b_3)$\n",
    "\n",
    "Analogiškai $\\frac{\\partial h_1}{\\partial w_1} = x_1 \\cdot f'(w_1 x_1 + w_2 x_2 + b_1), \\quad$ čia $h_1 = f(w_1x_1 + w_2+x_2 + b_1)$\n",
    "\n",
    "Taigi iš čia seka:\n",
    "\n",
    "$$\\frac{\\partial L}{\\partial w_1} = \\frac{\\partial L}{\\partial \\hat{y}}\\cdot \\frac{\\partial\\hat{y}}{\\partial h_1} \\cdot \\frac{\\partial h_1}{\\partial w_1}$$\n",
    "\n",
    "Šis būdas dar kitaip vadinamas **backpropagation**\n",
    "\n",
    "Dabar galime pereiti prie tinklo apmokymo, optimizavimui naudosime *stochastic gradient descent* (SGD), kuris pasakys mum kaip pakeisti mūsų svorius, kad minimuzuoti nuostolių funkciją, tai tikrai ne sudėtinga:\n",
    "\n",
    "$$ w_1 \\leftarrow w_1 - \\eta\\frac{\\partial L}{\\partial w_1}, \\quad$$\n",
    "čia $\\eta$ yra mokymosi žingsnis **(learning rate)**, kuris apsprendžia kaip greitai mūsų tinklas mokinsis. Visa kita kaip ir akivaizdu:\n",
    "\n",
    "* Jeigu $\\frac{\\partial L}{\\partial w_1} > 0, \\quad w_1$ sumažės, ko pasekoje **L** sumažės\n",
    "* Jeigu $\\frac{\\partial L}{\\partial w_1} < 0, \\quad w_1$ padidės, ko pasekoje **L** sumažės\n",
    "\n",
    "Tokiu būdų mes mažais žingsniukais minimuzuosime nuostolių funkciją ir tinkamai apmokinsime tinklą.\n",
    "***\n",
    "Apibendrinant trumpai pakartosime visus žingsnius:\n",
    "1. Pasirenkame vieną input'ą (eilutę) iš mūsų dataset'o (imties);\n",
    "2. Apskaičiuojame visas nuostolių funkcijos dalines išvestines;\n",
    "3. Atnaujiname svorius;\n",
    "4. Grįžtame prie 1 žingsnio.\n",
    "\n",
    "Taigi pereikime prie praktinės daleis"
   ]
  },
  {
   "cell_type": "markdown",
   "metadata": {},
   "source": [
    "#### Sudarykite neuroninį tinklą, kuris atstatytų penktojo vartotojo lyties reikšmę. Ūgio ir svorio požymiai tai neuroninio tinklo įėjimo duomenys, lyties reikšmė – išėjimo."
   ]
  },
  {
   "cell_type": "markdown",
   "metadata": {},
   "source": [
    "Užkrauname reikiamus paketus"
   ]
  },
  {
   "cell_type": "code",
   "execution_count": 7,
   "metadata": {},
   "outputs": [
    {
     "name": "stdout",
     "output_type": "stream",
     "text": [
      "Requirement already satisfied: ipynb in /home/robert/snap/jupyter/common/lib/python3.7/site-packages (0.5.1)\r\n"
     ]
    }
   ],
   "source": [
    "!pip install ipynb\n",
    "import pandas as pd\n",
    "from ipynb.fs.full.network import *"
   ]
  },
  {
   "cell_type": "markdown",
   "metadata": {},
   "source": [
    "Nuskaitome duomenys"
   ]
  },
  {
   "cell_type": "code",
   "execution_count": 10,
   "metadata": {},
   "outputs": [
    {
     "data": {
      "text/html": [
       "<div>\n",
       "<style scoped>\n",
       "    .dataframe tbody tr th:only-of-type {\n",
       "        vertical-align: middle;\n",
       "    }\n",
       "\n",
       "    .dataframe tbody tr th {\n",
       "        vertical-align: top;\n",
       "    }\n",
       "\n",
       "    .dataframe thead th {\n",
       "        text-align: right;\n",
       "    }\n",
       "</style>\n",
       "<table border=\"1\" class=\"dataframe\">\n",
       "  <thead>\n",
       "    <tr style=\"text-align: right;\">\n",
       "      <th></th>\n",
       "      <th>Lytis</th>\n",
       "      <th>Ūgis</th>\n",
       "      <th>Svoris</th>\n",
       "    </tr>\n",
       "  </thead>\n",
       "  <tbody>\n",
       "    <tr>\n",
       "      <th>0</th>\n",
       "      <td>0</td>\n",
       "      <td>165</td>\n",
       "      <td>55</td>\n",
       "    </tr>\n",
       "    <tr>\n",
       "      <th>1</th>\n",
       "      <td>1</td>\n",
       "      <td>183</td>\n",
       "      <td>95</td>\n",
       "    </tr>\n",
       "    <tr>\n",
       "      <th>2</th>\n",
       "      <td>0</td>\n",
       "      <td>171</td>\n",
       "      <td>60</td>\n",
       "    </tr>\n",
       "    <tr>\n",
       "      <th>3</th>\n",
       "      <td>1</td>\n",
       "      <td>194</td>\n",
       "      <td>102</td>\n",
       "    </tr>\n",
       "    <tr>\n",
       "      <th>4</th>\n",
       "      <td>1</td>\n",
       "      <td>185</td>\n",
       "      <td>90</td>\n",
       "    </tr>\n",
       "  </tbody>\n",
       "</table>\n",
       "</div>"
      ],
      "text/plain": [
       "   Lytis  Ūgis  Svoris\n",
       "0      0   165      55\n",
       "1      1   183      95\n",
       "2      0   171      60\n",
       "3      1   194     102\n",
       "4      1   185      90"
      ]
     },
     "execution_count": 10,
     "metadata": {},
     "output_type": "execute_result"
    }
   ],
   "source": [
    "d = pd.read_csv(\"/home/robert/Desktop/Laborai/nn/3lab/duomenys.csv\", sep=';', index_col=False)\n",
    "\n",
    "del d[\"Pacientas\"]\n",
    "d"
   ]
  },
  {
   "cell_type": "markdown",
   "metadata": {},
   "source": [
    "Atskiriame įvesties stulpelius nuo prognozuojamo stuleplio"
   ]
  },
  {
   "cell_type": "code",
   "execution_count": 3,
   "metadata": {},
   "outputs": [],
   "source": [
    "d_arr = np.asarray(d) # paverciam i masyva\n",
    "X = np.asarray(d.iloc[:,1:])\n",
    "y = np.asarray(d.iloc[:,0])"
   ]
  },
  {
   "cell_type": "markdown",
   "metadata": {},
   "source": [
    "Standartizuojame "
   ]
  },
  {
   "cell_type": "code",
   "execution_count": 4,
   "metadata": {},
   "outputs": [],
   "source": [
    "# standartizuojam\n",
    "vid = X.mean(axis=0)\n",
    "std = X.std(axis=0)\n",
    "\n",
    "X = (X-vid)/std"
   ]
  },
  {
   "cell_type": "markdown",
   "metadata": {},
   "source": [
    "Apibrėžiame mūsų tinklą ir paduodame duomenys treniruotis"
   ]
  },
  {
   "cell_type": "code",
   "execution_count": 5,
   "metadata": {},
   "outputs": [
    {
     "name": "stdout",
     "output_type": "stream",
     "text": [
      "Epoch 0 loss: 0.579\n",
      "Epoch 10 loss: 0.573\n",
      "Epoch 20 loss: 0.563\n",
      "Epoch 30 loss: 0.545\n",
      "Epoch 40 loss: 0.500\n",
      "Epoch 50 loss: 0.369\n",
      "Epoch 60 loss: 0.213\n",
      "Epoch 70 loss: 0.166\n",
      "Epoch 80 loss: 0.136\n",
      "Epoch 90 loss: 0.112\n",
      "Epoch 100 loss: 0.093\n",
      "Epoch 110 loss: 0.079\n",
      "Epoch 120 loss: 0.067\n",
      "Epoch 130 loss: 0.058\n",
      "Epoch 140 loss: 0.051\n",
      "Epoch 150 loss: 0.045\n",
      "Epoch 160 loss: 0.040\n",
      "Epoch 170 loss: 0.036\n",
      "Epoch 180 loss: 0.033\n",
      "Epoch 190 loss: 0.030\n",
      "Epoch 200 loss: 0.027\n",
      "Epoch 210 loss: 0.025\n",
      "Epoch 220 loss: 0.024\n",
      "Epoch 230 loss: 0.022\n",
      "Epoch 240 loss: 0.020\n",
      "Epoch 250 loss: 0.019\n",
      "Epoch 260 loss: 0.018\n",
      "Epoch 270 loss: 0.017\n",
      "Epoch 280 loss: 0.016\n",
      "Epoch 290 loss: 0.015\n",
      "Epoch 300 loss: 0.014\n",
      "Epoch 310 loss: 0.014\n",
      "Epoch 320 loss: 0.013\n",
      "Epoch 330 loss: 0.012\n",
      "Epoch 340 loss: 0.012\n",
      "Epoch 350 loss: 0.011\n",
      "Epoch 360 loss: 0.011\n",
      "Epoch 370 loss: 0.011\n",
      "Epoch 380 loss: 0.010\n",
      "Epoch 390 loss: 0.010\n",
      "Epoch 400 loss: 0.009\n",
      "Epoch 410 loss: 0.009\n",
      "Epoch 420 loss: 0.009\n",
      "Epoch 430 loss: 0.008\n",
      "Epoch 440 loss: 0.008\n",
      "Epoch 450 loss: 0.008\n",
      "Epoch 460 loss: 0.008\n",
      "Epoch 470 loss: 0.007\n",
      "Epoch 480 loss: 0.007\n",
      "Epoch 490 loss: 0.007\n",
      "Epoch 500 loss: 0.007\n",
      "Epoch 510 loss: 0.007\n",
      "Epoch 520 loss: 0.006\n",
      "Epoch 530 loss: 0.006\n",
      "Epoch 540 loss: 0.006\n",
      "Epoch 550 loss: 0.006\n",
      "Epoch 560 loss: 0.006\n",
      "Epoch 570 loss: 0.006\n",
      "Epoch 580 loss: 0.006\n",
      "Epoch 590 loss: 0.005\n",
      "Epoch 600 loss: 0.005\n",
      "Epoch 610 loss: 0.005\n",
      "Epoch 620 loss: 0.005\n",
      "Epoch 630 loss: 0.005\n",
      "Epoch 640 loss: 0.005\n",
      "Epoch 650 loss: 0.005\n",
      "Epoch 660 loss: 0.005\n",
      "Epoch 670 loss: 0.004\n",
      "Epoch 680 loss: 0.004\n",
      "Epoch 690 loss: 0.004\n",
      "Epoch 700 loss: 0.004\n",
      "Epoch 710 loss: 0.004\n",
      "Epoch 720 loss: 0.004\n",
      "Epoch 730 loss: 0.004\n",
      "Epoch 740 loss: 0.004\n",
      "Epoch 750 loss: 0.004\n",
      "Epoch 760 loss: 0.004\n",
      "Epoch 770 loss: 0.004\n",
      "Epoch 780 loss: 0.004\n",
      "Epoch 790 loss: 0.004\n",
      "Epoch 800 loss: 0.003\n",
      "Epoch 810 loss: 0.003\n",
      "Epoch 820 loss: 0.003\n",
      "Epoch 830 loss: 0.003\n",
      "Epoch 840 loss: 0.003\n",
      "Epoch 850 loss: 0.003\n",
      "Epoch 860 loss: 0.003\n",
      "Epoch 870 loss: 0.003\n",
      "Epoch 880 loss: 0.003\n",
      "Epoch 890 loss: 0.003\n",
      "Epoch 900 loss: 0.003\n",
      "Epoch 910 loss: 0.003\n",
      "Epoch 920 loss: 0.003\n",
      "Epoch 930 loss: 0.003\n",
      "Epoch 940 loss: 0.003\n",
      "Epoch 950 loss: 0.003\n",
      "Epoch 960 loss: 0.003\n",
      "Epoch 970 loss: 0.003\n",
      "Epoch 980 loss: 0.003\n",
      "Epoch 990 loss: 0.003\n",
      "\n",
      "TINKLAS APMOKINTAS!\n",
      "\n"
     ]
    }
   ],
   "source": [
    "# Train our neural network!\n",
    "network = OurNeuralNetwork()\n",
    "network.train(X, y)\n",
    "print(\"\\nTINKLAS APMOKINTAS!\\n\")"
   ]
  },
  {
   "cell_type": "markdown",
   "metadata": {},
   "source": [
    "Apmokinę tinklą, paduodame pekntojo vartotojo ūgį ir svorį, kad atstatyti lyties reikšmę (0,1)"
   ]
  },
  {
   "cell_type": "code",
   "execution_count": 6,
   "metadata": {},
   "outputs": [
    {
     "name": "stdout",
     "output_type": "stream",
     "text": [
      "Vardas 5 Lytis yra: 0\n"
     ]
    }
   ],
   "source": [
    "V5 = [162, 58]\n",
    "# standartizuojame\n",
    "V5 = (V5 - vid)/std\n",
    "\n",
    "# paduodame i tinkla\n",
    "lytis = int(round(network.feedforward(V5)))\n",
    "print(\"Vardas 5 Lytis yra: {}\".format(lytis))"
   ]
  }
 ],
 "metadata": {
  "kernelspec": {
   "display_name": "Python 3",
   "language": "python",
   "name": "python3"
  },
  "language_info": {
   "codemirror_mode": {
    "name": "ipython",
    "version": 3
   },
   "file_extension": ".py",
   "mimetype": "text/x-python",
   "name": "python",
   "nbconvert_exporter": "python",
   "pygments_lexer": "ipython3",
   "version": "3.8.5"
  }
 },
 "nbformat": 4,
 "nbformat_minor": 2
}
