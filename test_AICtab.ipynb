{
 "cells": [
  {
   "cell_type": "code",
   "execution_count": 1,
   "metadata": {},
   "outputs": [
    {
     "name": "stderr",
     "output_type": "stream",
     "text": [
      "Installing packages into 'C:/Users/user2/Documents/R/win-library/3.5'\n",
      "(as 'lib' is unspecified)\n",
      "\n",
      "also installing the dependencies 'isoband', 'rstatix', 'tibble', 'unmarked', 'VGAM', 'lifecycle', 'rlang', 'tidyselect', 'vctrs'\n",
      "\n",
      "\n"
     ]
    },
    {
     "name": "stdout",
     "output_type": "stream",
     "text": [
      "\n",
      "  There are binary versions available but the source versions are later:\n",
      "           binary source needs_compilation\n",
      "isoband     0.2.1  0.2.3              TRUE\n",
      "rstatix     0.4.0  0.6.0             FALSE\n",
      "tibble      3.0.1  3.0.5              TRUE\n",
      "unmarked   0.13-2  1.0.1              TRUE\n",
      "VGAM        1.1-2  1.1-5              TRUE\n",
      "rlang       0.4.5 0.4.10              TRUE\n",
      "tidyselect  1.0.0  1.1.0              TRUE\n",
      "vctrs       0.2.4  0.3.6              TRUE\n",
      "ggplot2     3.3.0  3.3.3             FALSE\n",
      "ggpubr      0.2.5  0.4.0             FALSE\n",
      "broom       0.5.6  0.7.3             FALSE\n",
      "AICcmodavg  2.2-2  2.3-1             FALSE\n",
      "dplyr       0.8.5  1.0.3              TRUE\n",
      "\n",
      "  Binaries will be installed\n",
      "package 'isoband' successfully unpacked and MD5 sums checked\n",
      "package 'tibble' successfully unpacked and MD5 sums checked\n",
      "package 'unmarked' successfully unpacked and MD5 sums checked\n",
      "package 'VGAM' successfully unpacked and MD5 sums checked\n",
      "package 'lifecycle' successfully unpacked and MD5 sums checked\n",
      "package 'rlang' successfully unpacked and MD5 sums checked\n"
     ]
    },
    {
     "name": "stderr",
     "output_type": "stream",
     "text": [
      "Warning message:\n",
      "\"cannot remove prior installation of package 'rlang'\"\n"
     ]
    },
    {
     "name": "stdout",
     "output_type": "stream",
     "text": [
      "package 'tidyselect' successfully unpacked and MD5 sums checked\n",
      "package 'vctrs' successfully unpacked and MD5 sums checked\n",
      "package 'tidyverse' successfully unpacked and MD5 sums checked\n",
      "package 'readxl' successfully unpacked and MD5 sums checked\n",
      "package 'dplyr' successfully unpacked and MD5 sums checked\n",
      "\n",
      "The downloaded binary packages are in\n",
      "\tC:\\Users\\user2\\AppData\\Local\\Temp\\RtmpGEC5GN\\downloaded_packages\n"
     ]
    },
    {
     "name": "stderr",
     "output_type": "stream",
     "text": [
      "installing the source packages 'rstatix', 'ggplot2', 'ggpubr', 'broom', 'AICcmodavg'\n",
      "\n",
      "\n",
      "Warning message in install.packages(c(\"ggplot2\", \"ggpubr\", \"tidyverse\", \"broom\", :\n",
      "\"installation of package 'ggplot2' had non-zero exit status\"\n",
      "Warning message in install.packages(c(\"ggplot2\", \"ggpubr\", \"tidyverse\", \"broom\", :\n",
      "\"installation of package 'broom' had non-zero exit status\"\n",
      "Warning message in install.packages(c(\"ggplot2\", \"ggpubr\", \"tidyverse\", \"broom\", :\n",
      "\"installation of package 'rstatix' had non-zero exit status\"\n",
      "Warning message in install.packages(c(\"ggplot2\", \"ggpubr\", \"tidyverse\", \"broom\", :\n",
      "\"installation of package 'ggpubr' had non-zero exit status\"\n",
      "\n",
      "Attaching package: 'dplyr'\n",
      "\n",
      "\n",
      "The following objects are masked from 'package:stats':\n",
      "\n",
      "    filter, lag\n",
      "\n",
      "\n",
      "The following objects are masked from 'package:base':\n",
      "\n",
      "    intersect, setdiff, setequal, union\n",
      "\n",
      "\n"
     ]
    },
    {
     "ename": "ERROR",
     "evalue": "Error in library(ggplot2): there is no package called 'ggplot2'\n",
     "output_type": "error",
     "traceback": [
      "Error in library(ggplot2): there is no package called 'ggplot2'\nTraceback:\n",
      "1. library(ggplot2)",
      "2. stop(txt, domain = NA)"
     ]
    }
   ],
   "source": [
    "install.packages(c(\"ggplot2\", \"ggpubr\", \"tidyverse\", \"broom\", \"AICcmodavg\", \"readxl\", \"dplyr\"))\n",
    "\n",
    "library(readxl)\n",
    "library(dplyr)\n",
    "library(ggplot2)\n",
    "library(ggpubr)\n",
    "library(tidyverse)\n",
    "library(broom)\n",
    "library(AICcmodavg)"
   ]
  },
  {
   "cell_type": "code",
   "execution_count": 11,
   "metadata": {},
   "outputs": [
    {
     "name": "stderr",
     "output_type": "stream",
     "text": [
      "Warning message in read_fun(path = enc2native(normalizePath(path)), sheet_i = sheet, :\n",
      "\"Expecting logical in CR4275 / R4275C96: got 'DaЕѕai'\"\n",
      "Warning message in read_fun(path = enc2native(normalizePath(path)), sheet_i = sheet, :\n",
      "\"Expecting logical in CR4357 / R4357C96: got 'DaЕѕai'\"\n",
      "Warning message in read_fun(path = enc2native(normalizePath(path)), sheet_i = sheet, :\n",
      "\"Expecting logical in CR4617 / R4617C96: got 'DaЕѕai'\"\n",
      "Warning message in read_fun(path = enc2native(normalizePath(path)), sheet_i = sheet, :\n",
      "\"Expecting logical in CR4788 / R4788C96: got 'DaЕѕai'\"\n",
      "Warning message in read_fun(path = enc2native(normalizePath(path)), sheet_i = sheet, :\n",
      "\"Expecting logical in CR5918 / R5918C96: got 'DaЕѕai'\"\n",
      "Warning message in read_fun(path = enc2native(normalizePath(path)), sheet_i = sheet, :\n",
      "\"Expecting logical in CR6202 / R6202C96: got 'DaЕѕai'\"\n",
      "Warning message in read_fun(path = enc2native(normalizePath(path)), sheet_i = sheet, :\n",
      "\"Expecting logical in CR6560 / R6560C96: got 'DaЕѕai'\"\n",
      "Warning message in read_fun(path = enc2native(normalizePath(path)), sheet_i = sheet, :\n",
      "\"Expecting logical in CR6903 / R6903C96: got 'DaЕѕai'\"\n",
      "Warning message in read_fun(path = enc2native(normalizePath(path)), sheet_i = sheet, :\n",
      "\"Expecting logical in CR7155 / R7155C96: got 'DaЕѕai'\"\n",
      "Warning message in read_fun(path = enc2native(normalizePath(path)), sheet_i = sheet, :\n",
      "\"Expecting logical in CR7158 / R7158C96: got 'Tinkas'\"\n",
      "Warning message in read_fun(path = enc2native(normalizePath(path)), sheet_i = sheet, :\n",
      "\"Expecting logical in CR7200 / R7200C96: got 'DaЕѕai'\"\n",
      "Warning message in read_fun(path = enc2native(normalizePath(path)), sheet_i = sheet, :\n",
      "\"Expecting logical in CR9453 / R9453C96: got 'DaЕѕai'\"\n",
      "Warning message in read_fun(path = enc2native(normalizePath(path)), sheet_i = sheet, :\n",
      "\"Expecting logical in CR9510 / R9510C96: got 'DaЕѕai'\"\n"
     ]
    }
   ],
   "source": [
    "setwd(\"C:/Users/user2/Downloads/\")\n",
    "\n",
    "D=read_excel(\"2016_studentui.xls\")"
   ]
  },
  {
   "cell_type": "code",
   "execution_count": 12,
   "metadata": {},
   "outputs": [
    {
     "data": {
      "text/html": [
       "<table>\n",
       "<caption>A tibble: 6 × 102</caption>\n",
       "<thead>\n",
       "\t<tr><th scope=col>TERITORIJA</th><th scope=col>BUSTAI</th><th scope=col>PASK_TIPAS</th><th scope=col>PASK_PAV</th><th scope=col>KAMBARIAI</th><th scope=col>T_BAIGTUMAS</th><th scope=col>METAI</th><th scope=col>MENUO</th><th scope=col>ISIG_TIPAS</th><th scope=col>ISIG_PAV</th><th scope=col>...</th><th scope=col>TURIS</th><th scope=col>ISIG_TURIS</th><th scope=col>VIDAUS_APDAILA</th><th scope=col>VIDAUS_APDAILA_TEXT</th><th scope=col>ISOR_APDAILA</th><th scope=col>GYV_GVT_SUTR</th><th scope=col>GVT_PAVADINIMAS</th><th scope=col>ZEMES_PASK_VERTE</th><th scope=col>ZEMES_PAS_RINKOS_VERTE</th><th scope=col>GRUPE</th></tr>\n",
       "\t<tr><th scope=col>&lt;chr&gt;</th><th scope=col>&lt;chr&gt;</th><th scope=col>&lt;dbl&gt;</th><th scope=col>&lt;chr&gt;</th><th scope=col>&lt;chr&gt;</th><th scope=col>&lt;chr&gt;</th><th scope=col>&lt;chr&gt;</th><th scope=col>&lt;chr&gt;</th><th scope=col>&lt;dbl&gt;</th><th scope=col>&lt;chr&gt;</th><th scope=col>...</th><th scope=col>&lt;lgl&gt;</th><th scope=col>&lt;dbl&gt;</th><th scope=col>&lt;lgl&gt;</th><th scope=col>&lt;lgl&gt;</th><th scope=col>&lt;lgl&gt;</th><th scope=col>&lt;chr&gt;</th><th scope=col>&lt;chr&gt;</th><th scope=col>&lt;dbl&gt;</th><th scope=col>&lt;dbl&gt;</th><th scope=col>&lt;dbl&gt;</th></tr>\n",
       "</thead>\n",
       "<tbody>\n",
       "\t<tr><td>Vilnius_centr_prest</td><td>Nauji_bustai</td><td>160</td><td>Gyvenamoji (butu)</td><td>1 k.</td><td>&lt;100</td><td>2016</td><td>01</td><td>11</td><td>Pirkimas is juridinio asmens</td><td>...</td><td>NA</td><td>NA</td><td>NA</td><td>NA</td><td>NA</td><td>RM</td><td>Miestas</td><td>6399.56</td><td> 0</td><td>1</td></tr>\n",
       "\t<tr><td>Vilnius_centr_prest</td><td>Nauji_bustai</td><td>160</td><td>Gyvenamoji (butu)</td><td>2 k.</td><td>&lt;100</td><td>2016</td><td>01</td><td>11</td><td>Pirkimas is juridinio asmens</td><td>...</td><td>NA</td><td>NA</td><td>NA</td><td>NA</td><td>NA</td><td>RM</td><td>Miestas</td><td><span style=white-space:pre-wrap>     NA</span></td><td>NA</td><td>1</td></tr>\n",
       "\t<tr><td>Vilnius_centr_prest</td><td>Nauji_bustai</td><td>160</td><td>Gyvenamoji (butu)</td><td>1 k.</td><td>&lt;100</td><td>2016</td><td>01</td><td>11</td><td>Pirkimas is juridinio asmens</td><td>...</td><td>NA</td><td>NA</td><td>NA</td><td>NA</td><td>NA</td><td>RM</td><td>Miestas</td><td>2869.34</td><td> 0</td><td>1</td></tr>\n",
       "\t<tr><td>Vilnius_centr_prest</td><td>Nauji_bustai</td><td>160</td><td>Gyvenamoji (butu)</td><td>1 k.</td><td>&lt;100</td><td>2016</td><td>01</td><td>11</td><td>Pirkimas is juridinio asmens</td><td>...</td><td>NA</td><td>NA</td><td>NA</td><td>NA</td><td>NA</td><td>RM</td><td>Miestas</td><td>7261.08</td><td> 0</td><td>1</td></tr>\n",
       "\t<tr><td>Vilnius_centr_prest</td><td>Nauji_bustai</td><td>160</td><td>Gyvenamoji (butu)</td><td>1 k.</td><td>&lt;100</td><td>2016</td><td>01</td><td>11</td><td>Pirkimas is juridinio asmens</td><td>...</td><td>NA</td><td>NA</td><td>NA</td><td>NA</td><td>NA</td><td>RM</td><td>Miestas</td><td>3392.39</td><td> 0</td><td>1</td></tr>\n",
       "\t<tr><td>Vilnius_centr_prest</td><td>Nauji_bustai</td><td>160</td><td>Gyvenamoji (butu)</td><td>1 k.</td><td>&lt;100</td><td>2016</td><td>01</td><td>11</td><td>Pirkimas is juridinio asmens</td><td>...</td><td>NA</td><td>NA</td><td>NA</td><td>NA</td><td>NA</td><td>RM</td><td>Miestas</td><td>2835.63</td><td> 0</td><td>1</td></tr>\n",
       "</tbody>\n",
       "</table>\n"
      ],
      "text/latex": [
       "A tibble: 6 × 102\n",
       "\\begin{tabular}{lllllllllllllllllllll}\n",
       " TERITORIJA & BUSTAI & PASK\\_TIPAS & PASK\\_PAV & KAMBARIAI & T\\_BAIGTUMAS & METAI & MENUO & ISIG\\_TIPAS & ISIG\\_PAV & ... & TURIS & ISIG\\_TURIS & VIDAUS\\_APDAILA & VIDAUS\\_APDAILA\\_TEXT & ISOR\\_APDAILA & GYV\\_GVT\\_SUTR & GVT\\_PAVADINIMAS & ZEMES\\_PASK\\_VERTE & ZEMES\\_PAS\\_RINKOS\\_VERTE & GRUPE\\\\\n",
       " <chr> & <chr> & <dbl> & <chr> & <chr> & <chr> & <chr> & <chr> & <dbl> & <chr> & ... & <lgl> & <dbl> & <lgl> & <lgl> & <lgl> & <chr> & <chr> & <dbl> & <dbl> & <dbl>\\\\\n",
       "\\hline\n",
       "\t Vilnius\\_centr\\_prest & Nauji\\_bustai & 160 & Gyvenamoji (butu) & 1 k. & <100 & 2016 & 01 & 11 & Pirkimas is juridinio asmens & ... & NA & NA & NA & NA & NA & RM & Miestas & 6399.56 &  0 & 1\\\\\n",
       "\t Vilnius\\_centr\\_prest & Nauji\\_bustai & 160 & Gyvenamoji (butu) & 2 k. & <100 & 2016 & 01 & 11 & Pirkimas is juridinio asmens & ... & NA & NA & NA & NA & NA & RM & Miestas &      NA & NA & 1\\\\\n",
       "\t Vilnius\\_centr\\_prest & Nauji\\_bustai & 160 & Gyvenamoji (butu) & 1 k. & <100 & 2016 & 01 & 11 & Pirkimas is juridinio asmens & ... & NA & NA & NA & NA & NA & RM & Miestas & 2869.34 &  0 & 1\\\\\n",
       "\t Vilnius\\_centr\\_prest & Nauji\\_bustai & 160 & Gyvenamoji (butu) & 1 k. & <100 & 2016 & 01 & 11 & Pirkimas is juridinio asmens & ... & NA & NA & NA & NA & NA & RM & Miestas & 7261.08 &  0 & 1\\\\\n",
       "\t Vilnius\\_centr\\_prest & Nauji\\_bustai & 160 & Gyvenamoji (butu) & 1 k. & <100 & 2016 & 01 & 11 & Pirkimas is juridinio asmens & ... & NA & NA & NA & NA & NA & RM & Miestas & 3392.39 &  0 & 1\\\\\n",
       "\t Vilnius\\_centr\\_prest & Nauji\\_bustai & 160 & Gyvenamoji (butu) & 1 k. & <100 & 2016 & 01 & 11 & Pirkimas is juridinio asmens & ... & NA & NA & NA & NA & NA & RM & Miestas & 2835.63 &  0 & 1\\\\\n",
       "\\end{tabular}\n"
      ],
      "text/markdown": [
       "\n",
       "A tibble: 6 × 102\n",
       "\n",
       "| TERITORIJA &lt;chr&gt; | BUSTAI &lt;chr&gt; | PASK_TIPAS &lt;dbl&gt; | PASK_PAV &lt;chr&gt; | KAMBARIAI &lt;chr&gt; | T_BAIGTUMAS &lt;chr&gt; | METAI &lt;chr&gt; | MENUO &lt;chr&gt; | ISIG_TIPAS &lt;dbl&gt; | ISIG_PAV &lt;chr&gt; | ... ... | TURIS &lt;lgl&gt; | ISIG_TURIS &lt;dbl&gt; | VIDAUS_APDAILA &lt;lgl&gt; | VIDAUS_APDAILA_TEXT &lt;lgl&gt; | ISOR_APDAILA &lt;lgl&gt; | GYV_GVT_SUTR &lt;chr&gt; | GVT_PAVADINIMAS &lt;chr&gt; | ZEMES_PASK_VERTE &lt;dbl&gt; | ZEMES_PAS_RINKOS_VERTE &lt;dbl&gt; | GRUPE &lt;dbl&gt; |\n",
       "|---|---|---|---|---|---|---|---|---|---|---|---|---|---|---|---|---|---|---|---|---|\n",
       "| Vilnius_centr_prest | Nauji_bustai | 160 | Gyvenamoji (butu) | 1 k. | &lt;100 | 2016 | 01 | 11 | Pirkimas is juridinio asmens | ... | NA | NA | NA | NA | NA | RM | Miestas | 6399.56 |  0 | 1 |\n",
       "| Vilnius_centr_prest | Nauji_bustai | 160 | Gyvenamoji (butu) | 2 k. | &lt;100 | 2016 | 01 | 11 | Pirkimas is juridinio asmens | ... | NA | NA | NA | NA | NA | RM | Miestas |      NA | NA | 1 |\n",
       "| Vilnius_centr_prest | Nauji_bustai | 160 | Gyvenamoji (butu) | 1 k. | &lt;100 | 2016 | 01 | 11 | Pirkimas is juridinio asmens | ... | NA | NA | NA | NA | NA | RM | Miestas | 2869.34 |  0 | 1 |\n",
       "| Vilnius_centr_prest | Nauji_bustai | 160 | Gyvenamoji (butu) | 1 k. | &lt;100 | 2016 | 01 | 11 | Pirkimas is juridinio asmens | ... | NA | NA | NA | NA | NA | RM | Miestas | 7261.08 |  0 | 1 |\n",
       "| Vilnius_centr_prest | Nauji_bustai | 160 | Gyvenamoji (butu) | 1 k. | &lt;100 | 2016 | 01 | 11 | Pirkimas is juridinio asmens | ... | NA | NA | NA | NA | NA | RM | Miestas | 3392.39 |  0 | 1 |\n",
       "| Vilnius_centr_prest | Nauji_bustai | 160 | Gyvenamoji (butu) | 1 k. | &lt;100 | 2016 | 01 | 11 | Pirkimas is juridinio asmens | ... | NA | NA | NA | NA | NA | RM | Miestas | 2835.63 |  0 | 1 |\n",
       "\n"
      ],
      "text/plain": [
       "  TERITORIJA          BUSTAI       PASK_TIPAS PASK_PAV          KAMBARIAI\n",
       "1 Vilnius_centr_prest Nauji_bustai 160        Gyvenamoji (butu) 1 k.     \n",
       "2 Vilnius_centr_prest Nauji_bustai 160        Gyvenamoji (butu) 2 k.     \n",
       "3 Vilnius_centr_prest Nauji_bustai 160        Gyvenamoji (butu) 1 k.     \n",
       "4 Vilnius_centr_prest Nauji_bustai 160        Gyvenamoji (butu) 1 k.     \n",
       "5 Vilnius_centr_prest Nauji_bustai 160        Gyvenamoji (butu) 1 k.     \n",
       "6 Vilnius_centr_prest Nauji_bustai 160        Gyvenamoji (butu) 1 k.     \n",
       "  T_BAIGTUMAS METAI MENUO ISIG_TIPAS ISIG_PAV                     ... TURIS\n",
       "1 <100        2016  01    11         Pirkimas is juridinio asmens ... NA   \n",
       "2 <100        2016  01    11         Pirkimas is juridinio asmens ... NA   \n",
       "3 <100        2016  01    11         Pirkimas is juridinio asmens ... NA   \n",
       "4 <100        2016  01    11         Pirkimas is juridinio asmens ... NA   \n",
       "5 <100        2016  01    11         Pirkimas is juridinio asmens ... NA   \n",
       "6 <100        2016  01    11         Pirkimas is juridinio asmens ... NA   \n",
       "  ISIG_TURIS VIDAUS_APDAILA VIDAUS_APDAILA_TEXT ISOR_APDAILA GYV_GVT_SUTR\n",
       "1 NA         NA             NA                  NA           RM          \n",
       "2 NA         NA             NA                  NA           RM          \n",
       "3 NA         NA             NA                  NA           RM          \n",
       "4 NA         NA             NA                  NA           RM          \n",
       "5 NA         NA             NA                  NA           RM          \n",
       "6 NA         NA             NA                  NA           RM          \n",
       "  GVT_PAVADINIMAS ZEMES_PASK_VERTE ZEMES_PAS_RINKOS_VERTE GRUPE\n",
       "1 Miestas         6399.56           0                     1    \n",
       "2 Miestas              NA          NA                     1    \n",
       "3 Miestas         2869.34           0                     1    \n",
       "4 Miestas         7261.08           0                     1    \n",
       "5 Miestas         3392.39           0                     1    \n",
       "6 Miestas         2835.63           0                     1    "
      ]
     },
     "metadata": {},
     "output_type": "display_data"
    }
   ],
   "source": [
    "head(D)"
   ]
  },
  {
   "cell_type": "markdown",
   "metadata": {},
   "source": [
    "***\n",
    "#### PaTIKRINAM KIEK IRAÐØ TURIME TAM TIKROSE KATEGORIJOSE"
   ]
  },
  {
   "cell_type": "code",
   "execution_count": 15,
   "metadata": {},
   "outputs": [
    {
     "data": {
      "text/plain": [
       "    \n",
       "     Vilnius_centr_prest Vilnius_kiti Vilnius_miegamieji\n",
       "  01                 183           83                365\n",
       "  02                 144           52                445\n",
       "  03                 150           90                485\n",
       "  04                 189           80                496\n",
       "  05                 161           92                582\n",
       "  06                 185          100                490\n",
       "  07                 257           94                451\n",
       "  08                 177          104                475\n",
       "  09                 304          118                583\n",
       "  10                 200           94                591\n",
       "  11                 144           95                504\n",
       "  12                 159           84                717"
      ]
     },
     "metadata": {},
     "output_type": "display_data"
    },
    {
     "data": {
      "text/plain": [
       "    \n",
       "     Pirkimas is fizinio asmens Pirkimas is juridinio asmens\n",
       "  01                        345                          273\n",
       "  02                        417                          215\n",
       "  03                        489                          228\n",
       "  04                        488                          268\n",
       "  05                        535                          296\n",
       "  06                        506                          261\n",
       "  07                        493                          301\n",
       "  08                        527                          216\n",
       "  09                        497                          491\n",
       "  10                        493                          384\n",
       "  11                        462                          270\n",
       "  12                        474                          483\n",
       "    \n",
       "     Pirkimas is savivaldybes Pirkimas is valstybes Pirkimas varzytinese\n",
       "  01                        0                     0                   13\n",
       "  02                        0                     1                    8\n",
       "  03                        0                     0                    8\n",
       "  04                        0                     0                    9\n",
       "  05                        0                     0                    4\n",
       "  06                        0                     0                    8\n",
       "  07                        0                     0                    8\n",
       "  08                        0                     0                   13\n",
       "  09                        1                     0                   16\n",
       "  10                        0                     0                    8\n",
       "  11                        0                     0                   11\n",
       "  12                        0                     0                    3"
      ]
     },
     "metadata": {},
     "output_type": "display_data"
    },
    {
     "data": {
      "text/plain": [
       ", ,  = Esami_bustai\n",
       "\n",
       "    \n",
       "     Vilnius_centr_prest Vilnius_kiti Vilnius_miegamieji\n",
       "  01                  99           66                244\n",
       "  02                  92           47                333\n",
       "  03                  94           83                377\n",
       "  04                 109           72                366\n",
       "  05                 102           84                386\n",
       "  06                 111           86                349\n",
       "  07                 113           75                351\n",
       "  08                 102           80                382\n",
       "  09                 107           73                350\n",
       "  10                  88           67                371\n",
       "  11                  95           71                311\n",
       "  12                 108           59                344\n",
       "\n",
       ", ,  = Nauji_bustai\n",
       "\n",
       "    \n",
       "     Vilnius_centr_prest Vilnius_kiti Vilnius_miegamieji\n",
       "  01                  84           17                121\n",
       "  02                  52            5                112\n",
       "  03                  56            7                108\n",
       "  04                  80            8                130\n",
       "  05                  59            8                196\n",
       "  06                  74           14                141\n",
       "  07                 144           19                100\n",
       "  08                  75           24                 93\n",
       "  09                 197           45                233\n",
       "  10                 112           27                220\n",
       "  11                  49           24                193\n",
       "  12                  51           25                373\n"
      ]
     },
     "metadata": {},
     "output_type": "display_data"
    },
    {
     "data": {
      "text/plain": [
       "\n",
       "<100  100 \n",
       "1548 7975 "
      ]
     },
     "metadata": {},
     "output_type": "display_data"
    }
   ],
   "source": [
    "table(D$MENUO, D$TERITORIJA)\n",
    "\n",
    "table(D$MENUO, D$ISIG_PAV)\n",
    "\n",
    "table(D$MENUO,D$TERITORIJA, D$BUSTAI)\n",
    "\n",
    "table(D$T_BAIGTUMAS)"
   ]
  },
  {
   "cell_type": "markdown",
   "metadata": {},
   "source": [
    "***\n",
    "#### PaTIKRINAM KAIP KINTA 1 KVADRATO KAINA PRIKLAUSOMAI NUO KATEGORIJOS"
   ]
  },
  {
   "cell_type": "code",
   "execution_count": 14,
   "metadata": {},
   "outputs": [
    {
     "data": {
      "text/plain": [
       "    Min.  1st Qu.   Median     Mean  3rd Qu.     Max. \n",
       "   9.365  981.971 1265.823 1336.557 1619.960 5580.923 "
      ]
     },
     "metadata": {},
     "output_type": "display_data"
    },
    {
     "data": {
      "text/html": [
       "<table>\n",
       "<caption>A tibble: 12 × 7</caption>\n",
       "<thead>\n",
       "\t<tr><th scope=col>MENUO</th><th scope=col>vidurkis</th><th scope=col>minimali</th><th scope=col>q1</th><th scope=col>q2</th><th scope=col>q3</th><th scope=col>maksimali</th></tr>\n",
       "\t<tr><th scope=col>&lt;chr&gt;</th><th scope=col>&lt;dbl&gt;</th><th scope=col>&lt;dbl&gt;</th><th scope=col>&lt;dbl&gt;</th><th scope=col>&lt;dbl&gt;</th><th scope=col>&lt;dbl&gt;</th><th scope=col>&lt;dbl&gt;</th></tr>\n",
       "</thead>\n",
       "<tbody>\n",
       "\t<tr><td>01</td><td>1264.531</td><td> 29.339700</td><td> 909.8424</td><td>1193.745</td><td>1573.365</td><td>3915.504</td></tr>\n",
       "\t<tr><td>02</td><td>1273.013</td><td>165.233716</td><td> 946.7063</td><td>1199.864</td><td>1565.338</td><td>2847.370</td></tr>\n",
       "\t<tr><td>03</td><td>1254.172</td><td>118.047337</td><td> 917.2559</td><td>1164.835</td><td>1528.099</td><td>3888.772</td></tr>\n",
       "\t<tr><td>04</td><td>1301.133</td><td> 86.263934</td><td> 924.0730</td><td>1217.577</td><td>1589.732</td><td>3570.269</td></tr>\n",
       "\t<tr><td>05</td><td>1290.726</td><td>123.494906</td><td> 981.6736</td><td>1248.885</td><td>1507.964</td><td>3564.961</td></tr>\n",
       "\t<tr><td>06</td><td>1308.037</td><td>166.580830</td><td> 959.4463</td><td>1215.680</td><td>1553.767</td><td>4538.088</td></tr>\n",
       "\t<tr><td>07</td><td>1311.576</td><td> 52.742616</td><td> 998.5663</td><td>1249.714</td><td>1560.265</td><td>3497.968</td></tr>\n",
       "\t<tr><td>08</td><td>1314.299</td><td>237.060450</td><td> 967.6045</td><td>1207.650</td><td>1563.486</td><td>3561.624</td></tr>\n",
       "\t<tr><td>09</td><td>1484.478</td><td>  9.364913</td><td>1058.5819</td><td>1405.295</td><td>1893.612</td><td>5580.923</td></tr>\n",
       "\t<tr><td>10</td><td>1355.521</td><td> 59.066745</td><td>1005.7922</td><td>1306.012</td><td>1650.564</td><td>4005.240</td></tr>\n",
       "\t<tr><td>11</td><td>1342.634</td><td> 86.073944</td><td>1000.6258</td><td>1259.482</td><td>1571.925</td><td>3997.615</td></tr>\n",
       "\t<tr><td>12</td><td>1441.022</td><td>209.467951</td><td>1097.9580</td><td>1409.588</td><td>1708.772</td><td>4371.953</td></tr>\n",
       "</tbody>\n",
       "</table>\n"
      ],
      "text/latex": [
       "A tibble: 12 × 7\n",
       "\\begin{tabular}{lllllll}\n",
       " MENUO & vidurkis & minimali & q1 & q2 & q3 & maksimali\\\\\n",
       " <chr> & <dbl> & <dbl> & <dbl> & <dbl> & <dbl> & <dbl>\\\\\n",
       "\\hline\n",
       "\t 01 & 1264.531 &  29.339700 &  909.8424 & 1193.745 & 1573.365 & 3915.504\\\\\n",
       "\t 02 & 1273.013 & 165.233716 &  946.7063 & 1199.864 & 1565.338 & 2847.370\\\\\n",
       "\t 03 & 1254.172 & 118.047337 &  917.2559 & 1164.835 & 1528.099 & 3888.772\\\\\n",
       "\t 04 & 1301.133 &  86.263934 &  924.0730 & 1217.577 & 1589.732 & 3570.269\\\\\n",
       "\t 05 & 1290.726 & 123.494906 &  981.6736 & 1248.885 & 1507.964 & 3564.961\\\\\n",
       "\t 06 & 1308.037 & 166.580830 &  959.4463 & 1215.680 & 1553.767 & 4538.088\\\\\n",
       "\t 07 & 1311.576 &  52.742616 &  998.5663 & 1249.714 & 1560.265 & 3497.968\\\\\n",
       "\t 08 & 1314.299 & 237.060450 &  967.6045 & 1207.650 & 1563.486 & 3561.624\\\\\n",
       "\t 09 & 1484.478 &   9.364913 & 1058.5819 & 1405.295 & 1893.612 & 5580.923\\\\\n",
       "\t 10 & 1355.521 &  59.066745 & 1005.7922 & 1306.012 & 1650.564 & 4005.240\\\\\n",
       "\t 11 & 1342.634 &  86.073944 & 1000.6258 & 1259.482 & 1571.925 & 3997.615\\\\\n",
       "\t 12 & 1441.022 & 209.467951 & 1097.9580 & 1409.588 & 1708.772 & 4371.953\\\\\n",
       "\\end{tabular}\n"
      ],
      "text/markdown": [
       "\n",
       "A tibble: 12 × 7\n",
       "\n",
       "| MENUO &lt;chr&gt; | vidurkis &lt;dbl&gt; | minimali &lt;dbl&gt; | q1 &lt;dbl&gt; | q2 &lt;dbl&gt; | q3 &lt;dbl&gt; | maksimali &lt;dbl&gt; |\n",
       "|---|---|---|---|---|---|---|\n",
       "| 01 | 1264.531 |  29.339700 |  909.8424 | 1193.745 | 1573.365 | 3915.504 |\n",
       "| 02 | 1273.013 | 165.233716 |  946.7063 | 1199.864 | 1565.338 | 2847.370 |\n",
       "| 03 | 1254.172 | 118.047337 |  917.2559 | 1164.835 | 1528.099 | 3888.772 |\n",
       "| 04 | 1301.133 |  86.263934 |  924.0730 | 1217.577 | 1589.732 | 3570.269 |\n",
       "| 05 | 1290.726 | 123.494906 |  981.6736 | 1248.885 | 1507.964 | 3564.961 |\n",
       "| 06 | 1308.037 | 166.580830 |  959.4463 | 1215.680 | 1553.767 | 4538.088 |\n",
       "| 07 | 1311.576 |  52.742616 |  998.5663 | 1249.714 | 1560.265 | 3497.968 |\n",
       "| 08 | 1314.299 | 237.060450 |  967.6045 | 1207.650 | 1563.486 | 3561.624 |\n",
       "| 09 | 1484.478 |   9.364913 | 1058.5819 | 1405.295 | 1893.612 | 5580.923 |\n",
       "| 10 | 1355.521 |  59.066745 | 1005.7922 | 1306.012 | 1650.564 | 4005.240 |\n",
       "| 11 | 1342.634 |  86.073944 | 1000.6258 | 1259.482 | 1571.925 | 3997.615 |\n",
       "| 12 | 1441.022 | 209.467951 | 1097.9580 | 1409.588 | 1708.772 | 4371.953 |\n",
       "\n"
      ],
      "text/plain": [
       "   MENUO vidurkis minimali   q1        q2       q3       maksimali\n",
       "1  01    1264.531  29.339700  909.8424 1193.745 1573.365 3915.504 \n",
       "2  02    1273.013 165.233716  946.7063 1199.864 1565.338 2847.370 \n",
       "3  03    1254.172 118.047337  917.2559 1164.835 1528.099 3888.772 \n",
       "4  04    1301.133  86.263934  924.0730 1217.577 1589.732 3570.269 \n",
       "5  05    1290.726 123.494906  981.6736 1248.885 1507.964 3564.961 \n",
       "6  06    1308.037 166.580830  959.4463 1215.680 1553.767 4538.088 \n",
       "7  07    1311.576  52.742616  998.5663 1249.714 1560.265 3497.968 \n",
       "8  08    1314.299 237.060450  967.6045 1207.650 1563.486 3561.624 \n",
       "9  09    1484.478   9.364913 1058.5819 1405.295 1893.612 5580.923 \n",
       "10 10    1355.521  59.066745 1005.7922 1306.012 1650.564 4005.240 \n",
       "11 11    1342.634  86.073944 1000.6258 1259.482 1571.925 3997.615 \n",
       "12 12    1441.022 209.467951 1097.9580 1409.588 1708.772 4371.953 "
      ]
     },
     "metadata": {},
     "output_type": "display_data"
    },
    {
     "data": {
      "text/html": [
       "<table>\n",
       "<caption>A tibble: 5 × 7</caption>\n",
       "<thead>\n",
       "\t<tr><th scope=col>ISIG_PAV</th><th scope=col>vidurkis</th><th scope=col>minimali</th><th scope=col>q1</th><th scope=col>q2</th><th scope=col>q3</th><th scope=col>maksimali</th></tr>\n",
       "\t<tr><th scope=col>&lt;chr&gt;</th><th scope=col>&lt;dbl&gt;</th><th scope=col>&lt;dbl&gt;</th><th scope=col>&lt;dbl&gt;</th><th scope=col>&lt;dbl&gt;</th><th scope=col>&lt;dbl&gt;</th><th scope=col>&lt;dbl&gt;</th></tr>\n",
       "</thead>\n",
       "<tbody>\n",
       "\t<tr><td>Pirkimas is fizinio asmens  </td><td>1193.9672</td><td>  9.364913</td><td> 902.4689</td><td>1117.3233</td><td>1410.3631</td><td>5580.9234</td></tr>\n",
       "\t<tr><td>Pirkimas is juridinio asmens</td><td>1567.5382</td><td>213.265089</td><td>1238.2468</td><td>1507.2187</td><td>1880.8460</td><td>4371.9532</td></tr>\n",
       "\t<tr><td>Pirkimas is savivaldybes    </td><td> 313.5146</td><td>313.514563</td><td> 313.5146</td><td> 313.5146</td><td> 313.5146</td><td> 313.5146</td></tr>\n",
       "\t<tr><td>Pirkimas is valstybes       </td><td> 638.1381</td><td>638.138138</td><td> 638.1381</td><td> 638.1381</td><td> 638.1381</td><td> 638.1381</td></tr>\n",
       "\t<tr><td>Pirkimas varzytinese        </td><td>1031.9280</td><td>165.233716</td><td> 772.1083</td><td> 951.7802</td><td>1199.8643</td><td>2987.2596</td></tr>\n",
       "</tbody>\n",
       "</table>\n"
      ],
      "text/latex": [
       "A tibble: 5 × 7\n",
       "\\begin{tabular}{lllllll}\n",
       " ISIG\\_PAV & vidurkis & minimali & q1 & q2 & q3 & maksimali\\\\\n",
       " <chr> & <dbl> & <dbl> & <dbl> & <dbl> & <dbl> & <dbl>\\\\\n",
       "\\hline\n",
       "\t Pirkimas is fizinio asmens   & 1193.9672 &   9.364913 &  902.4689 & 1117.3233 & 1410.3631 & 5580.9234\\\\\n",
       "\t Pirkimas is juridinio asmens & 1567.5382 & 213.265089 & 1238.2468 & 1507.2187 & 1880.8460 & 4371.9532\\\\\n",
       "\t Pirkimas is savivaldybes     &  313.5146 & 313.514563 &  313.5146 &  313.5146 &  313.5146 &  313.5146\\\\\n",
       "\t Pirkimas is valstybes        &  638.1381 & 638.138138 &  638.1381 &  638.1381 &  638.1381 &  638.1381\\\\\n",
       "\t Pirkimas varzytinese         & 1031.9280 & 165.233716 &  772.1083 &  951.7802 & 1199.8643 & 2987.2596\\\\\n",
       "\\end{tabular}\n"
      ],
      "text/markdown": [
       "\n",
       "A tibble: 5 × 7\n",
       "\n",
       "| ISIG_PAV &lt;chr&gt; | vidurkis &lt;dbl&gt; | minimali &lt;dbl&gt; | q1 &lt;dbl&gt; | q2 &lt;dbl&gt; | q3 &lt;dbl&gt; | maksimali &lt;dbl&gt; |\n",
       "|---|---|---|---|---|---|---|\n",
       "| Pirkimas is fizinio asmens   | 1193.9672 |   9.364913 |  902.4689 | 1117.3233 | 1410.3631 | 5580.9234 |\n",
       "| Pirkimas is juridinio asmens | 1567.5382 | 213.265089 | 1238.2468 | 1507.2187 | 1880.8460 | 4371.9532 |\n",
       "| Pirkimas is savivaldybes     |  313.5146 | 313.514563 |  313.5146 |  313.5146 |  313.5146 |  313.5146 |\n",
       "| Pirkimas is valstybes        |  638.1381 | 638.138138 |  638.1381 |  638.1381 |  638.1381 |  638.1381 |\n",
       "| Pirkimas varzytinese         | 1031.9280 | 165.233716 |  772.1083 |  951.7802 | 1199.8643 | 2987.2596 |\n",
       "\n"
      ],
      "text/plain": [
       "  ISIG_PAV                     vidurkis  minimali   q1        q2       \n",
       "1 Pirkimas is fizinio asmens   1193.9672   9.364913  902.4689 1117.3233\n",
       "2 Pirkimas is juridinio asmens 1567.5382 213.265089 1238.2468 1507.2187\n",
       "3 Pirkimas is savivaldybes      313.5146 313.514563  313.5146  313.5146\n",
       "4 Pirkimas is valstybes         638.1381 638.138138  638.1381  638.1381\n",
       "5 Pirkimas varzytinese         1031.9280 165.233716  772.1083  951.7802\n",
       "  q3        maksimali\n",
       "1 1410.3631 5580.9234\n",
       "2 1880.8460 4371.9532\n",
       "3  313.5146  313.5146\n",
       "4  638.1381  638.1381\n",
       "5 1199.8643 2987.2596"
      ]
     },
     "metadata": {},
     "output_type": "display_data"
    },
    {
     "data": {
      "text/html": [
       "<table>\n",
       "<caption>A grouped_df: 6 × 8</caption>\n",
       "<thead>\n",
       "\t<tr><th scope=col>BUSTAI</th><th scope=col>TERITORIJA</th><th scope=col>vidurkis</th><th scope=col>minimali</th><th scope=col>q1</th><th scope=col>q2</th><th scope=col>q3</th><th scope=col>maksimali</th></tr>\n",
       "\t<tr><th scope=col>&lt;chr&gt;</th><th scope=col>&lt;chr&gt;</th><th scope=col>&lt;dbl&gt;</th><th scope=col>&lt;dbl&gt;</th><th scope=col>&lt;dbl&gt;</th><th scope=col>&lt;dbl&gt;</th><th scope=col>&lt;dbl&gt;</th><th scope=col>&lt;dbl&gt;</th></tr>\n",
       "</thead>\n",
       "<tbody>\n",
       "\t<tr><td>Esami_bustai</td><td>Vilnius_centr_prest</td><td>1697.7450</td><td>165.233716</td><td>1244.8178</td><td>1623.2682</td><td>2094.570</td><td>5580.923</td></tr>\n",
       "\t<tr><td>Esami_bustai</td><td>Vilnius_kiti       </td><td> 875.4263</td><td> 29.339700</td><td> 717.5033</td><td> 882.8442</td><td>1046.370</td><td>2774.695</td></tr>\n",
       "\t<tr><td>Esami_bustai</td><td>Vilnius_miegamieji </td><td>1157.0239</td><td>  9.364913</td><td> 919.9657</td><td>1115.6168</td><td>1361.656</td><td>2708.418</td></tr>\n",
       "\t<tr><td>Nauji_bustai</td><td>Vilnius_centr_prest</td><td>1991.3866</td><td>335.067156</td><td>1697.9035</td><td>1950.9984</td><td>2193.353</td><td>3981.248</td></tr>\n",
       "\t<tr><td>Nauji_bustai</td><td>Vilnius_kiti       </td><td>1051.4708</td><td>347.253981</td><td> 751.1793</td><td> 943.4027</td><td>1420.406</td><td>2033.451</td></tr>\n",
       "\t<tr><td>Nauji_bustai</td><td>Vilnius_miegamieji </td><td>1382.1109</td><td>155.538618</td><td>1172.5769</td><td>1370.1360</td><td>1579.674</td><td>2822.719</td></tr>\n",
       "</tbody>\n",
       "</table>\n"
      ],
      "text/latex": [
       "A grouped\\_df: 6 × 8\n",
       "\\begin{tabular}{llllllll}\n",
       " BUSTAI & TERITORIJA & vidurkis & minimali & q1 & q2 & q3 & maksimali\\\\\n",
       " <chr> & <chr> & <dbl> & <dbl> & <dbl> & <dbl> & <dbl> & <dbl>\\\\\n",
       "\\hline\n",
       "\t Esami\\_bustai & Vilnius\\_centr\\_prest & 1697.7450 & 165.233716 & 1244.8178 & 1623.2682 & 2094.570 & 5580.923\\\\\n",
       "\t Esami\\_bustai & Vilnius\\_kiti        &  875.4263 &  29.339700 &  717.5033 &  882.8442 & 1046.370 & 2774.695\\\\\n",
       "\t Esami\\_bustai & Vilnius\\_miegamieji  & 1157.0239 &   9.364913 &  919.9657 & 1115.6168 & 1361.656 & 2708.418\\\\\n",
       "\t Nauji\\_bustai & Vilnius\\_centr\\_prest & 1991.3866 & 335.067156 & 1697.9035 & 1950.9984 & 2193.353 & 3981.248\\\\\n",
       "\t Nauji\\_bustai & Vilnius\\_kiti        & 1051.4708 & 347.253981 &  751.1793 &  943.4027 & 1420.406 & 2033.451\\\\\n",
       "\t Nauji\\_bustai & Vilnius\\_miegamieji  & 1382.1109 & 155.538618 & 1172.5769 & 1370.1360 & 1579.674 & 2822.719\\\\\n",
       "\\end{tabular}\n"
      ],
      "text/markdown": [
       "\n",
       "A grouped_df: 6 × 8\n",
       "\n",
       "| BUSTAI &lt;chr&gt; | TERITORIJA &lt;chr&gt; | vidurkis &lt;dbl&gt; | minimali &lt;dbl&gt; | q1 &lt;dbl&gt; | q2 &lt;dbl&gt; | q3 &lt;dbl&gt; | maksimali &lt;dbl&gt; |\n",
       "|---|---|---|---|---|---|---|---|\n",
       "| Esami_bustai | Vilnius_centr_prest | 1697.7450 | 165.233716 | 1244.8178 | 1623.2682 | 2094.570 | 5580.923 |\n",
       "| Esami_bustai | Vilnius_kiti        |  875.4263 |  29.339700 |  717.5033 |  882.8442 | 1046.370 | 2774.695 |\n",
       "| Esami_bustai | Vilnius_miegamieji  | 1157.0239 |   9.364913 |  919.9657 | 1115.6168 | 1361.656 | 2708.418 |\n",
       "| Nauji_bustai | Vilnius_centr_prest | 1991.3866 | 335.067156 | 1697.9035 | 1950.9984 | 2193.353 | 3981.248 |\n",
       "| Nauji_bustai | Vilnius_kiti        | 1051.4708 | 347.253981 |  751.1793 |  943.4027 | 1420.406 | 2033.451 |\n",
       "| Nauji_bustai | Vilnius_miegamieji  | 1382.1109 | 155.538618 | 1172.5769 | 1370.1360 | 1579.674 | 2822.719 |\n",
       "\n"
      ],
      "text/plain": [
       "  BUSTAI       TERITORIJA          vidurkis  minimali   q1        q2       \n",
       "1 Esami_bustai Vilnius_centr_prest 1697.7450 165.233716 1244.8178 1623.2682\n",
       "2 Esami_bustai Vilnius_kiti         875.4263  29.339700  717.5033  882.8442\n",
       "3 Esami_bustai Vilnius_miegamieji  1157.0239   9.364913  919.9657 1115.6168\n",
       "4 Nauji_bustai Vilnius_centr_prest 1991.3866 335.067156 1697.9035 1950.9984\n",
       "5 Nauji_bustai Vilnius_kiti        1051.4708 347.253981  751.1793  943.4027\n",
       "6 Nauji_bustai Vilnius_miegamieji  1382.1109 155.538618 1172.5769 1370.1360\n",
       "  q3       maksimali\n",
       "1 2094.570 5580.923 \n",
       "2 1046.370 2774.695 \n",
       "3 1361.656 2708.418 \n",
       "4 2193.353 3981.248 \n",
       "5 1420.406 2033.451 \n",
       "6 1579.674 2822.719 "
      ]
     },
     "metadata": {},
     "output_type": "display_data"
    }
   ],
   "source": [
    "summary(D$KAINA_UZ_M2)\n",
    "\n",
    "D %>% \n",
    "  group_by(MENUO) %>% \n",
    "  summarize(vidurkis = mean(KAINA_UZ_M2),\n",
    "            minimali = min(KAINA_UZ_M2),\n",
    "            q1 = quantile(KAINA_UZ_M2, 0.25),\n",
    "            q2 = quantile(KAINA_UZ_M2, 0.5),\n",
    "            q3 = quantile(KAINA_UZ_M2, 0.75),\n",
    "            maksimali = max(KAINA_UZ_M2))\n",
    "\n",
    "D %>% \n",
    "  group_by(ISIG_PAV) %>% \n",
    "  summarize(vidurkis = mean(KAINA_UZ_M2),\n",
    "            minimali = min(KAINA_UZ_M2),\n",
    "            q1 = quantile(KAINA_UZ_M2, 0.25),\n",
    "            q2 = quantile(KAINA_UZ_M2, 0.5),\n",
    "            q3 = quantile(KAINA_UZ_M2, 0.75),\n",
    "            maksimali = max(KAINA_UZ_M2))\n",
    "\n",
    "D %>% \n",
    "  group_by(BUSTAI, TERITORIJA) %>% \n",
    "  summarize(vidurkis = mean(KAINA_UZ_M2),\n",
    "            minimali = min(KAINA_UZ_M2),\n",
    "            q1 = quantile(KAINA_UZ_M2, 0.25),\n",
    "            q2 = quantile(KAINA_UZ_M2, 0.5),\n",
    "            q3 = quantile(KAINA_UZ_M2, 0.75),\n",
    "            maksimali = max(KAINA_UZ_M2))"
   ]
  },
  {
   "cell_type": "markdown",
   "metadata": {},
   "source": [
    "***\n",
    "#### PaTIKRINAM HIPOTEZES APIE 1 KVADRATO KAINOS PRIKLAUSOMYBÆ NUO 1 KATEGORINIO KINTAMOJO"
   ]
  },
  {
   "cell_type": "code",
   "execution_count": 17,
   "metadata": {},
   "outputs": [
    {
     "data": {
      "text/plain": [
       "              Df    Sum Sq   Mean Sq F value Pr(>F)    \n",
       "BUSTAI         1 2.312e+08 231202544   968.4 <2e-16 ***\n",
       "Residuals   9521 2.273e+09    238742                   \n",
       "---\n",
       "Signif. codes:  0 '***' 0.001 '**' 0.01 '*' 0.05 '.' 0.1 ' ' 1"
      ]
     },
     "metadata": {},
     "output_type": "display_data"
    },
    {
     "data": {
      "text/plain": [
       "              Df    Sum Sq Mean Sq F value Pr(>F)    \n",
       "MENUO         11 4.781e+07 4346717   16.83 <2e-16 ***\n",
       "Residuals   9511 2.456e+09  258275                   \n",
       "---\n",
       "Signif. codes:  0 '***' 0.001 '**' 0.01 '*' 0.05 '.' 0.1 ' ' 1"
      ]
     },
     "metadata": {},
     "output_type": "display_data"
    },
    {
     "data": {
      "image/png": "[encoded data removed]",
      "text/plain": [
       "Plot with title \"Histogram of D$KAINA_UZ_M2\""
      ]
     },
     "metadata": {
      "image/png": {
       "height": 420,
       "width": 420
      },
      "text/plain": {
       "height": 420,
       "width": 420
      }
     },
     "output_type": "display_data"
    }
   ],
   "source": [
    "hist(D$KAINA_UZ_M2)\n",
    "\n",
    "\n",
    "one.way1 <- aov(KAINA_UZ_M2 ~ BUSTAI, data = D)\n",
    "\n",
    "summary(one.way1) # Gaunam, kad kaina priklauso nuo BUSTO tipo\n",
    "\n",
    "\n",
    "one.way2 <- aov(KAINA_UZ_M2 ~ MENUO, data = D)\n",
    "\n",
    "summary(one.way2) # Gaunam, kad kaina priklauso nuo MENESIO"
   ]
  },
  {
   "cell_type": "markdown",
   "metadata": {},
   "source": [
    "***\n",
    "#### PaTIKRINAM HIPOTEZES APIE 1 KVADRATO KAINOS PRIKLAUSOMYBÆ NUO 2 KATEGORINIØ KINTAMØJØ"
   ]
  },
  {
   "cell_type": "code",
   "execution_count": 18,
   "metadata": {},
   "outputs": [
    {
     "data": {
      "text/plain": [
       "              Df    Sum Sq   Mean Sq F value   Pr(>F)    \n",
       "BUSTAI         1 2.312e+08 231202544 977.320  < 2e-16 ***\n",
       "MENUO         11 2.330e+07   2118554   8.955 4.34e-16 ***\n",
       "Residuals   9510 2.250e+09    236568                     \n",
       "---\n",
       "Signif. codes:  0 '***' 0.001 '**' 0.01 '*' 0.05 '.' 0.1 ' ' 1"
      ]
     },
     "metadata": {},
     "output_type": "display_data"
    },
    {
     "data": {
      "text/plain": [
       "               Df    Sum Sq   Mean Sq F value   Pr(>F)    \n",
       "BUSTAI          1 2.312e+08 231202544 984.240  < 2e-16 ***\n",
       "MENUO          11 2.330e+07   2118554   9.019 3.17e-16 ***\n",
       "BUSTAI:MENUO   11 1.840e+07   1672892   7.122 3.51e-12 ***\n",
       "Residuals    9499 2.231e+09    234905                     \n",
       "---\n",
       "Signif. codes:  0 '***' 0.001 '**' 0.01 '*' 0.05 '.' 0.1 ' ' 1"
      ]
     },
     "metadata": {},
     "output_type": "display_data"
    },
    {
     "data": {
      "text/plain": [
       "                    Df    Sum Sq   Mean Sq  F value   Pr(>F)    \n",
       "BUSTAI               1 2.312e+08 231202544 1408.571  < 2e-16 ***\n",
       "TERITORIJA           2 7.083e+08 354155735 2157.647  < 2e-16 ***\n",
       "BUSTAI:TERITORIJA    2 2.636e+06   1317822    8.029 0.000328 ***\n",
       "Residuals         9517 1.562e+09    164140                      \n",
       "---\n",
       "Signif. codes:  0 '***' 0.001 '**' 0.01 '*' 0.05 '.' 0.1 ' ' 1"
      ]
     },
     "metadata": {},
     "output_type": "display_data"
    }
   ],
   "source": [
    "two.way1 <- aov(KAINA_UZ_M2 ~ BUSTAI+MENUO, data = D)\n",
    "\n",
    "summary(two.way1)\n",
    "\n",
    "two.way2 <- aov(KAINA_UZ_M2 ~ BUSTAI*MENUO, data = D) # intersection\n",
    "\n",
    "summary(two.way2)\n",
    "\n",
    "two.way3 <- aov(KAINA_UZ_M2 ~ BUSTAI*TERITORIJA, data = D) # intersection\n",
    "\n",
    "summary(two.way3)"
   ]
  },
  {
   "cell_type": "markdown",
   "metadata": {},
   "source": [
    "***\n",
    "#### PaTIKRINAM kuris modelis geriausias"
   ]
  },
  {
   "cell_type": "code",
   "execution_count": 21,
   "metadata": {},
   "outputs": [
    {
     "data": {
      "text/html": [
       "<table>\n",
       "<caption>A aictab: 5 × 8</caption>\n",
       "<thead>\n",
       "\t<tr><th></th><th scope=col>Modnames</th><th scope=col>K</th><th scope=col>AICc</th><th scope=col>Delta_AICc</th><th scope=col>ModelLik</th><th scope=col>AICcWt</th><th scope=col>LL</th><th scope=col>Cum.Wt</th></tr>\n",
       "\t<tr><th></th><th scope=col>&lt;fct&gt;</th><th scope=col>&lt;dbl&gt;</th><th scope=col>&lt;dbl&gt;</th><th scope=col>&lt;dbl&gt;</th><th scope=col>&lt;dbl&gt;</th><th scope=col>&lt;dbl&gt;</th><th scope=col>&lt;dbl&gt;</th><th scope=col>&lt;dbl&gt;</th></tr>\n",
       "</thead>\n",
       "<tbody>\n",
       "\t<tr><th scope=row>5</th><td>two.way3</td><td> 7</td><td>141389.8</td><td>   0.000</td><td>1</td><td>1</td><td>-70687.90</td><td>1</td></tr>\n",
       "\t<tr><th scope=row>4</th><td>two.way2</td><td>25</td><td>144821.5</td><td>3431.724</td><td>0</td><td>0</td><td>-72385.70</td><td>1</td></tr>\n",
       "\t<tr><th scope=row>3</th><td>two.way1</td><td>14</td><td>144877.7</td><td>3487.845</td><td>0</td><td>0</td><td>-72424.81</td><td>1</td></tr>\n",
       "\t<tr><th scope=row>1</th><td>one.way1</td><td> 3</td><td>144953.7</td><td>3563.939</td><td>0</td><td>0</td><td>-72473.87</td><td>1</td></tr>\n",
       "\t<tr><th scope=row>2</th><td>one.way2</td><td>13</td><td>145712.7</td><td>4322.860</td><td>0</td><td>0</td><td>-72843.32</td><td>1</td></tr>\n",
       "</tbody>\n",
       "</table>\n"
      ],
      "text/latex": [
       "A aictab: 5 × 8\n",
       "\\begin{tabular}{r|llllllll}\n",
       "  & Modnames & K & AICc & Delta\\_AICc & ModelLik & AICcWt & LL & Cum.Wt\\\\\n",
       "  & <fct> & <dbl> & <dbl> & <dbl> & <dbl> & <dbl> & <dbl> & <dbl>\\\\\n",
       "\\hline\n",
       "\t5 & two.way3 &  7 & 141389.8 &    0.000 & 1 & 1 & -70687.90 & 1\\\\\n",
       "\t4 & two.way2 & 25 & 144821.5 & 3431.724 & 0 & 0 & -72385.70 & 1\\\\\n",
       "\t3 & two.way1 & 14 & 144877.7 & 3487.845 & 0 & 0 & -72424.81 & 1\\\\\n",
       "\t1 & one.way1 &  3 & 144953.7 & 3563.939 & 0 & 0 & -72473.87 & 1\\\\\n",
       "\t2 & one.way2 & 13 & 145712.7 & 4322.860 & 0 & 0 & -72843.32 & 1\\\\\n",
       "\\end{tabular}\n"
      ],
      "text/markdown": [
       "\n",
       "A aictab: 5 × 8\n",
       "\n",
       "| <!--/--> | Modnames &lt;fct&gt; | K &lt;dbl&gt; | AICc &lt;dbl&gt; | Delta_AICc &lt;dbl&gt; | ModelLik &lt;dbl&gt; | AICcWt &lt;dbl&gt; | LL &lt;dbl&gt; | Cum.Wt &lt;dbl&gt; |\n",
       "|---|---|---|---|---|---|---|---|---|\n",
       "| 5 | two.way3 |  7 | 141389.8 |    0.000 | 1 | 1 | -70687.90 | 1 |\n",
       "| 4 | two.way2 | 25 | 144821.5 | 3431.724 | 0 | 0 | -72385.70 | 1 |\n",
       "| 3 | two.way1 | 14 | 144877.7 | 3487.845 | 0 | 0 | -72424.81 | 1 |\n",
       "| 1 | one.way1 |  3 | 144953.7 | 3563.939 | 0 | 0 | -72473.87 | 1 |\n",
       "| 2 | one.way2 | 13 | 145712.7 | 4322.860 | 0 | 0 | -72843.32 | 1 |\n",
       "\n"
      ],
      "text/plain": [
       "  Modnames K  AICc     Delta_AICc ModelLik AICcWt LL        Cum.Wt\n",
       "5 two.way3  7 141389.8    0.000   1        1      -70687.90 1     \n",
       "4 two.way2 25 144821.5 3431.724   0        0      -72385.70 1     \n",
       "3 two.way1 14 144877.7 3487.845   0        0      -72424.81 1     \n",
       "1 one.way1  3 144953.7 3563.939   0        0      -72473.87 1     \n",
       "2 one.way2 13 145712.7 4322.860   0        0      -72843.32 1     "
      ]
     },
     "metadata": {},
     "output_type": "display_data"
    },
    {
     "data": {
      "image/png": "[encoded data removed]",
      "text/plain": [
       "Plot with title \"\""
      ]
     },
     "metadata": {
      "image/png": {
       "height": 420,
       "width": 420
      },
      "text/plain": {
       "height": 420,
       "width": 420
      }
     },
     "output_type": "display_data"
    }
   ],
   "source": [
    "model.set <- list(one.way1, one.way2, two.way1, two.way2, two.way3)\n",
    "model.names <- c(\"one.way1\", \"one.way2\", \"two.way1\", \"two.way2\", \"two.way3\")\n",
    "\n",
    "aictab(model.set, modnames = model.names)\n",
    "\n",
    "# ji pasibraizom\n",
    "\n",
    "par(mfrow=c(2,2))\n",
    "plot(two.way2)\n",
    "par(mfrow=c(1,1))"
   ]
  },
  {
   "cell_type": "markdown",
   "metadata": {},
   "source": [
    "***\n",
    "#### PaTIKRINAM tarp kuriu grupiu yra didziausi skirtumai"
   ]
  },
  {
   "cell_type": "code",
   "execution_count": 22,
   "metadata": {},
   "outputs": [
    {
     "data": {
      "text/plain": [
       "  Tukey multiple comparisons of means\n",
       "    95% family-wise confidence level\n",
       "\n",
       "Fit: aov(formula = KAINA_UZ_M2 ~ BUSTAI * TERITORIJA, data = D)\n",
       "\n",
       "$BUSTAI\n",
       "                              diff    lwr      upr p adj\n",
       "Nauji_bustai-Esami_bustai 328.0012 310.87 345.1325     0\n",
       "\n",
       "$TERITORIJA\n",
       "                                            diff       lwr       upr p adj\n",
       "Vilnius_kiti-Vilnius_centr_prest       -837.7677 -872.8502 -802.6853     0\n",
       "Vilnius_miegamieji-Vilnius_centr_prest -558.5841 -581.9539 -535.2142     0\n",
       "Vilnius_miegamieji-Vilnius_kiti         279.1837  247.9376  310.4297     0\n",
       "\n",
       "$`BUSTAI:TERITORIJA`\n",
       "                                                                        diff\n",
       "Nauji_bustai:Vilnius_centr_prest-Esami_bustai:Vilnius_centr_prest   293.6416\n",
       "Esami_bustai:Vilnius_kiti-Esami_bustai:Vilnius_centr_prest         -822.3187\n",
       "Nauji_bustai:Vilnius_kiti-Esami_bustai:Vilnius_centr_prest         -646.2742\n",
       "Esami_bustai:Vilnius_miegamieji-Esami_bustai:Vilnius_centr_prest   -540.7210\n",
       "Nauji_bustai:Vilnius_miegamieji-Esami_bustai:Vilnius_centr_prest   -315.6341\n",
       "Esami_bustai:Vilnius_kiti-Nauji_bustai:Vilnius_centr_prest        -1115.9603\n",
       "Nauji_bustai:Vilnius_kiti-Nauji_bustai:Vilnius_centr_prest         -939.9158\n",
       "Esami_bustai:Vilnius_miegamieji-Nauji_bustai:Vilnius_centr_prest   -834.3627\n",
       "Nauji_bustai:Vilnius_miegamieji-Nauji_bustai:Vilnius_centr_prest   -609.2757\n",
       "Nauji_bustai:Vilnius_kiti-Esami_bustai:Vilnius_kiti                 176.0445\n",
       "Esami_bustai:Vilnius_miegamieji-Esami_bustai:Vilnius_kiti           281.5976\n",
       "Nauji_bustai:Vilnius_miegamieji-Esami_bustai:Vilnius_kiti           506.6846\n",
       "Esami_bustai:Vilnius_miegamieji-Nauji_bustai:Vilnius_kiti           105.5532\n",
       "Nauji_bustai:Vilnius_miegamieji-Nauji_bustai:Vilnius_kiti           330.6401\n",
       "Nauji_bustai:Vilnius_miegamieji-Esami_bustai:Vilnius_miegamieji     225.0870\n",
       "                                                                          lwr\n",
       "Nauji_bustai:Vilnius_centr_prest-Esami_bustai:Vilnius_centr_prest   244.81621\n",
       "Esami_bustai:Vilnius_kiti-Esami_bustai:Vilnius_centr_prest         -873.68222\n",
       "Nauji_bustai:Vilnius_kiti-Esami_bustai:Vilnius_centr_prest         -730.37428\n",
       "Esami_bustai:Vilnius_miegamieji-Esami_bustai:Vilnius_centr_prest   -578.31454\n",
       "Nauji_bustai:Vilnius_miegamieji-Esami_bustai:Vilnius_centr_prest   -357.50499\n",
       "Esami_bustai:Vilnius_kiti-Nauji_bustai:Vilnius_centr_prest        -1169.21518\n",
       "Nauji_bustai:Vilnius_kiti-Nauji_bustai:Vilnius_centr_prest        -1025.18419\n",
       "Esami_bustai:Vilnius_miegamieji-Nauji_bustai:Vilnius_centr_prest   -874.50166\n",
       "Nauji_bustai:Vilnius_miegamieji-Nauji_bustai:Vilnius_centr_prest   -653.44630\n",
       "Nauji_bustai:Vilnius_kiti-Esami_bustai:Vilnius_kiti                  89.29783\n",
       "Esami_bustai:Vilnius_miegamieji-Esami_bustai:Vilnius_kiti           238.40704\n",
       "Nauji_bustai:Vilnius_miegamieji-Esami_bustai:Vilnius_kiti           459.72366\n",
       "Esami_bustai:Vilnius_miegamieji-Nauji_bustai:Vilnius_kiti            26.18038\n",
       "Nauji_bustai:Vilnius_miegamieji-Nauji_bustai:Vilnius_kiti           249.15429\n",
       "Nauji_bustai:Vilnius_miegamieji-Esami_bustai:Vilnius_miegamieji     193.77579\n",
       "                                                                         upr\n",
       "Nauji_bustai:Vilnius_centr_prest-Esami_bustai:Vilnius_centr_prest   342.4671\n",
       "Esami_bustai:Vilnius_kiti-Esami_bustai:Vilnius_centr_prest         -770.9551\n",
       "Nauji_bustai:Vilnius_kiti-Esami_bustai:Vilnius_centr_prest         -562.1741\n",
       "Esami_bustai:Vilnius_miegamieji-Esami_bustai:Vilnius_centr_prest   -503.1275\n",
       "Nauji_bustai:Vilnius_miegamieji-Esami_bustai:Vilnius_centr_prest   -273.7631\n",
       "Esami_bustai:Vilnius_kiti-Nauji_bustai:Vilnius_centr_prest        -1062.7055\n",
       "Nauji_bustai:Vilnius_kiti-Nauji_bustai:Vilnius_centr_prest         -854.6475\n",
       "Esami_bustai:Vilnius_miegamieji-Nauji_bustai:Vilnius_centr_prest   -794.2237\n",
       "Nauji_bustai:Vilnius_miegamieji-Nauji_bustai:Vilnius_centr_prest   -565.1051\n",
       "Nauji_bustai:Vilnius_kiti-Esami_bustai:Vilnius_kiti                 262.7911\n",
       "Esami_bustai:Vilnius_miegamieji-Esami_bustai:Vilnius_kiti           324.7883\n",
       "Nauji_bustai:Vilnius_miegamieji-Esami_bustai:Vilnius_kiti           553.6456\n",
       "Esami_bustai:Vilnius_miegamieji-Nauji_bustai:Vilnius_kiti           184.9260\n",
       "Nauji_bustai:Vilnius_miegamieji-Nauji_bustai:Vilnius_kiti           412.1260\n",
       "Nauji_bustai:Vilnius_miegamieji-Esami_bustai:Vilnius_miegamieji     256.3981\n",
       "                                                                      p adj\n",
       "Nauji_bustai:Vilnius_centr_prest-Esami_bustai:Vilnius_centr_prest 0.0000000\n",
       "Esami_bustai:Vilnius_kiti-Esami_bustai:Vilnius_centr_prest        0.0000000\n",
       "Nauji_bustai:Vilnius_kiti-Esami_bustai:Vilnius_centr_prest        0.0000000\n",
       "Esami_bustai:Vilnius_miegamieji-Esami_bustai:Vilnius_centr_prest  0.0000000\n",
       "Nauji_bustai:Vilnius_miegamieji-Esami_bustai:Vilnius_centr_prest  0.0000000\n",
       "Esami_bustai:Vilnius_kiti-Nauji_bustai:Vilnius_centr_prest        0.0000000\n",
       "Nauji_bustai:Vilnius_kiti-Nauji_bustai:Vilnius_centr_prest        0.0000000\n",
       "Esami_bustai:Vilnius_miegamieji-Nauji_bustai:Vilnius_centr_prest  0.0000000\n",
       "Nauji_bustai:Vilnius_miegamieji-Nauji_bustai:Vilnius_centr_prest  0.0000000\n",
       "Nauji_bustai:Vilnius_kiti-Esami_bustai:Vilnius_kiti               0.0000001\n",
       "Esami_bustai:Vilnius_miegamieji-Esami_bustai:Vilnius_kiti         0.0000000\n",
       "Nauji_bustai:Vilnius_miegamieji-Esami_bustai:Vilnius_kiti         0.0000000\n",
       "Esami_bustai:Vilnius_miegamieji-Nauji_bustai:Vilnius_kiti         0.0020959\n",
       "Nauji_bustai:Vilnius_miegamieji-Nauji_bustai:Vilnius_kiti         0.0000000\n",
       "Nauji_bustai:Vilnius_miegamieji-Esami_bustai:Vilnius_miegamieji   0.0000000\n"
      ]
     },
     "metadata": {},
     "output_type": "display_data"
    },
    {
     "data": {
      "image/png": "[encoded data removed]",
      "text/plain": [
       "Plot with title \"95% family-wise confidence level\n",
       "\""
      ]
     },
     "metadata": {
      "image/png": {
       "height": 420,
       "width": 420
      },
      "text/plain": {
       "height": 420,
       "width": 420
      }
     },
     "output_type": "display_data"
    },
    {
     "data": {
      "image/png": "[encoded data removed]",
      "text/plain": [
       "Plot with title \"95% family-wise confidence level\n",
       "\""
      ]
     },
     "metadata": {
      "image/png": {
       "height": 420,
       "width": 420
      },
      "text/plain": {
       "height": 420,
       "width": 420
      }
     },
     "output_type": "display_data"
    },
    {
     "data": {
      "text/plain": [
       "  Tukey multiple comparisons of means\n",
       "    95% family-wise confidence level\n",
       "\n",
       "Fit: aov(formula = KAINA_UZ_M2 ~ BUSTAI + MENUO, data = D)\n",
       "\n",
       "$BUSTAI\n",
       "                              diff      lwr      upr p adj\n",
       "Nauji_bustai-Esami_bustai 328.0012 307.4347 348.5678     0\n",
       "\n",
       "$MENUO\n",
       "             diff          lwr       upr     p adj\n",
       "02-01   37.402409  -51.7574972 126.56232 0.9689461\n",
       "03-01   27.676686  -58.8830465 114.23642 0.9966338\n",
       "04-01   58.530229  -26.9699561 144.03041 0.5219117\n",
       "05-01   38.282379  -45.5822460 122.14700 0.9430781\n",
       "06-01   61.985081  -23.2654063 147.23557 0.4220464\n",
       "07-01   54.881481  -29.7225341 139.48550 0.6079770\n",
       "08-01   81.863936   -3.8659796 167.59385 0.0774984\n",
       "09-01  180.319441   99.5655086 261.07337 0.0000000\n",
       "10-01   73.334368   -9.5042848 156.17302 0.1430798\n",
       "11-01   76.074205   -9.9962350 162.14464 0.1447448\n",
       "12-01  138.480504   56.9998450 219.96116 0.0000019\n",
       "03-02   -9.725723  -95.9237003  76.47225 0.9999999\n",
       "04-02   21.127820  -64.0061078 106.26175 0.9996783\n",
       "05-02    0.879970  -82.6112232  84.37116 1.0000000\n",
       "06-02   24.582672  -60.3004806 109.46582 0.9986204\n",
       "07-02   17.479072  -66.7547892 101.71293 0.9999449\n",
       "08-02   44.461527  -40.9031170 129.82617 0.8675140\n",
       "09-02  142.917032   62.5509844 223.28308 0.0000004\n",
       "10-02   35.931959  -46.5286159 118.39253 0.9589783\n",
       "11-02   38.671796  -47.0348236 124.37842 0.9474765\n",
       "12-02  101.078096   19.9818448 182.17435 0.0027250\n",
       "04-03   30.853543  -51.5532768 113.26036 0.9871783\n",
       "05-03   10.605693  -70.1029040  91.31429 0.9999995\n",
       "06-03   34.308396  -47.8393249 116.45612 0.9699561\n",
       "07-03   27.204795  -54.2718376 108.68143 0.9950860\n",
       "08-03   54.187250  -28.4578994 136.83240 0.5913175\n",
       "09-03  152.642756   75.1714707 230.11404 0.0000000\n",
       "10-03   45.657682  -33.9842962 125.29966 0.7756213\n",
       "11-03   48.397519  -34.6008119 131.39585 0.7557093\n",
       "12-03  110.803819   32.5753061 189.03233 0.0002325\n",
       "05-04  -20.247850  -99.8190259  59.32333 0.9995908\n",
       "06-04    3.454852  -77.5756503  84.48536 1.0000000\n",
       "07-04   -3.648748  -83.9988324  76.70134 1.0000000\n",
       "08-04   23.333707  -58.2010410 104.86845 0.9987636\n",
       "09-04  121.789212   45.5036019 198.07482 0.0000119\n",
       "10-04   14.804139  -63.6849628  93.29324 0.9999790\n",
       "11-04   17.543976  -64.3487425  99.43669 0.9999241\n",
       "12-04   79.950276    2.8957846 157.00477 0.0338930\n",
       "06-05   23.702702  -55.6001104 103.00551 0.9981596\n",
       "07-05   16.599102  -62.0083393  95.20654 0.9999343\n",
       "08-05   43.581557  -36.2364165 123.39953 0.8266298\n",
       "09-05  142.037062   67.5891737 216.48495 0.0000000\n",
       "10-05   35.051989  -41.6522017 111.75618 0.9426492\n",
       "11-05   37.791826  -42.3917827 117.97543 0.9292995\n",
       "12-05  100.198126   24.9625732 175.43368 0.0008264\n",
       "07-06   -7.103600  -87.1879315  72.98073 1.0000000\n",
       "08-06   19.878855  -61.3940139 101.15172 0.9997205\n",
       "09-06  118.334360   42.3287130 194.34001 0.0000236\n",
       "10-06   11.349287  -66.8677392  89.56631 0.9999986\n",
       "11-06   14.089124  -67.5428637  95.72111 0.9999916\n",
       "12-06   76.495423   -0.2819081 153.27275 0.0518770\n",
       "08-07   26.982455  -53.6120416 107.57695 0.9949710\n",
       "09-07  125.437960   50.1581350 200.71779 0.0000034\n",
       "10-07   18.452887  -59.0590273  95.96480 0.9997851\n",
       "11-07   21.192724  -59.7639007 102.14935 0.9994637\n",
       "12-07   83.599024    7.5401495 159.65790 0.0171489\n",
       "09-08   98.455505   21.9125035 174.99851 0.0015784\n",
       "10-08   -8.529568  -87.2688586  70.20972 0.9999999\n",
       "11-08   -5.789731  -87.9222709  76.34281 1.0000000\n",
       "12-08   56.616569  -20.6927540 133.92589 0.4101679\n",
       "10-09 -106.985073 -180.2752851 -33.69486 0.0001176\n",
       "11-09 -104.245236 -181.1694417 -27.32103 0.0005871\n",
       "12-09  -41.838937 -113.5906658  29.91279 0.7557244\n",
       "11-10    2.739837  -76.3700749  81.84975 1.0000000\n",
       "12-10   65.146137   -8.9440477 139.23632 0.1502602\n",
       "12-11   62.406300  -15.2804661 140.09307 0.2650847\n"
      ]
     },
     "metadata": {},
     "output_type": "display_data"
    },
    {
     "data": {
      "image/png": "[encoded data removed]",
      "text/plain": [
       "Plot with title \"95% family-wise confidence level\n",
       "\""
      ]
     },
     "metadata": {
      "image/png": {
       "height": 420,
       "width": 420
      },
      "text/plain": {
       "height": 420,
       "width": 420
      }
     },
     "output_type": "display_data"
    },
    {
     "data": {
      "image/png": "[encoded data removed]",
      "text/plain": [
       "Plot with title \"95% family-wise confidence level\n",
       "\""
      ]
     },
     "metadata": {
      "image/png": {
       "height": 420,
       "width": 420
      },
      "text/plain": {
       "height": 420,
       "width": 420
      }
     },
     "output_type": "display_data"
    },
    {
     "data": {
      "image/png": "[encoded data removed]",
      "text/plain": [
       "Plot with title \"95% family-wise confidence level\n",
       "\""
      ]
     },
     "metadata": {
      "image/png": {
       "height": 420,
       "width": 420
      },
      "text/plain": {
       "height": 420,
       "width": 420
      }
     },
     "output_type": "display_data"
    }
   ],
   "source": [
    "\n",
    "Testas<-TukeyHSD(two.way3)\n",
    "\n",
    "Testas # matom, jog visose grupese yra dideli skirtumai (paskutinio stulpelio reiksme mazesne nei 0.05)\n",
    "\n",
    "graf<-TukeyHSD(two.way3)\n",
    "plot(graf, las = 1)\n",
    "\n",
    "\n",
    "\n",
    "Testas<-TukeyHSD(two.way1)\n",
    "\n",
    "Testas # cia jau matosi, jog ne tarp visu menesiu yra reiksmingi skirtumai\n",
    "\n",
    "graf<-TukeyHSD(two.way1)\n",
    "plot(graf, las = 1)\n"
   ]
  },
  {
   "cell_type": "code",
   "execution_count": null,
   "metadata": {},
   "outputs": [],
   "source": []
  }
 ],
 "metadata": {
  "kernelspec": {
   "display_name": "R",
   "language": "R",
   "name": "ir"
  },
  "language_info": {
   "codemirror_mode": "r",
   "file_extension": ".r",
   "mimetype": "text/x-r-source",
   "name": "R",
   "pygments_lexer": "r",
   "version": "3.5.3"
  }
 },
 "nbformat": 4,
 "nbformat_minor": 4
}
