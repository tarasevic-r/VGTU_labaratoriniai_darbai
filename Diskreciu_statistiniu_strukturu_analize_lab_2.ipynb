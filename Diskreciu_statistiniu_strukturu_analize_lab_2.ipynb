{
 "cells": [
  {
   "cell_type": "markdown",
   "metadata": {},
   "source": [
    "# DSSA \n",
    "## Robert Tarasevič TSF–17\n",
    "\n",
    "## 2 lab. darbas | Logistinės regresijos modelio parametrų vertinimas\n",
    "Duomenų faile ksimpah.csv yra realaus medicininio tyrimo duomenys apie paauglių\n",
    "susirgimą pirminę arterinę hipertenziją. Kategoriniai dvireikšmiai kintamieji:\n",
    "\n",
    "- Hipertenzija -- ar pacientas serga pirmine arterine hipertenzija;\n",
    "- Lytis -- paciento lytis;\n",
    "- Tabakas -- nurodo, ar pacientas rūko;\n",
    "- Alkoholis -- nurodo, ar pacientas vartoja alkoholį;\n",
    "- Antsvoris -- nurodo, ar pacientas turi antsvorį.\n",
    "\n",
    "Taip pat yra keletas kiekybinių kintamųjų:\n",
    "\n",
    "- Ūgis,\n",
    "- Svoris,\n",
    "- KMI -- kūno masės indeksas.\n",
    "\n",
    "\n",
    "Reikia pasirinkti dvireikšmį kintamąjį, kuris bus atsako kintamasis Y ir jam\n",
    "parinkti regresorių. Tyrime buvo tiriama hipertenzijos priklausomybė nuo kitų\n",
    "faktorių, pavyzdžiui, antsvorio, lyties ir pan., todėl Y gali būti Hipertenzija,\n",
    "o X gali būti Antsvoris. Galimi ir kiti kintamųjų variantai. Nuo to priklausys\n",
    "parametrų interpretacija.\n",
    "\n",
    "\n",
    "UŽDUOTIS. Reikia sudaryti logistinės regresijos modelį atsako kintamojo Y\n",
    "vidurkiui modeliuoti ir įvertinti jo parametrus β₀ ir β₁ Newton-Raphson\n",
    "metodu. Paiškinti gautų parametrų prasmę.\n",
    "\n",
    "\n",
    "PASTABA. Gauti parametrų įverčiai turi sutapti su įverčiais, gautais naudojant \n",
    "standartinę R funkciją glm:\n",
    "\n",
    "\n",
    "<code>mod = glm(Y ~ 1 + X, data = duomenys, family = binomial(\"logit\")) </code>\n",
    "\n",
    "<code>summary(mod)</code>\n",
    "\n"
   ]
  },
  {
   "cell_type": "markdown",
   "metadata": {},
   "source": [
    "Duomenų įkėlimas."
   ]
  },
  {
   "cell_type": "code",
   "execution_count": 4,
   "metadata": {},
   "outputs": [
    {
     "data": {
      "text/html": [
       "<table class=\"dataframe\">\n",
       "<caption>A data.frame: 6 × 12</caption>\n",
       "<thead>\n",
       "\t<tr><th></th><th scope=col>Lytis</th><th scope=col>Hipertenzija</th><th scope=col>Tabakas</th><th scope=col>Alkoholis</th><th scope=col>Ūgis</th><th scope=col>Svoris</th><th scope=col>KMI</th><th scope=col>Antsvoris</th><th scope=col>EQ</th><th scope=col>EZ</th><th scope=col>FC</th><th scope=col>FE</th></tr>\n",
       "\t<tr><th></th><th scope=col>&lt;fct&gt;</th><th scope=col>&lt;fct&gt;</th><th scope=col>&lt;fct&gt;</th><th scope=col>&lt;fct&gt;</th><th scope=col>&lt;dbl&gt;</th><th scope=col>&lt;dbl&gt;</th><th scope=col>&lt;dbl&gt;</th><th scope=col>&lt;fct&gt;</th><th scope=col>&lt;dbl&gt;</th><th scope=col>&lt;dbl&gt;</th><th scope=col>&lt;dbl&gt;</th><th scope=col>&lt;dbl&gt;</th></tr>\n",
       "</thead>\n",
       "<tbody>\n",
       "\t<tr><th scope=row>1</th><td>Vyras  </td><td>Sveikas</td><td>Nerūko</td><td>Geria  </td><td>181.0</td><td> 77.0</td><td>23.50</td><td>Ne </td><td>519.5</td><td>803.0</td><td>1.20</td><td>4.62</td></tr>\n",
       "\t<tr><th scope=row>2</th><td>Vyras  </td><td>Sveikas</td><td>Nerūko</td><td>Geria  </td><td>182.0</td><td>108.0</td><td>32.60</td><td>Yra</td><td>517.5</td><td>797.0</td><td>2.15</td><td>5.22</td></tr>\n",
       "\t<tr><th scope=row>3</th><td>Vyras  </td><td>Serga  </td><td>Nerūko</td><td>Negeria</td><td>187.0</td><td>122.0</td><td>34.89</td><td>Yra</td><td>654.0</td><td>554.5</td><td>2.85</td><td>4.89</td></tr>\n",
       "\t<tr><th scope=row>4</th><td>Vyras  </td><td>Sveikas</td><td>Nerūko</td><td>Geria  </td><td>178.5</td><td> 64.0</td><td>20.09</td><td>Ne </td><td>518.5</td><td>727.5</td><td>1.40</td><td>4.56</td></tr>\n",
       "\t<tr><th scope=row>5</th><td>Moteris</td><td>Sveikas</td><td>Rūko  </td><td>Geria  </td><td>170.0</td><td> 57.5</td><td>19.90</td><td>Ne </td><td>472.5</td><td>662.5</td><td>1.80</td><td>4.01</td></tr>\n",
       "\t<tr><th scope=row>6</th><td>Vyras  </td><td>Sveikas</td><td>Nerūko</td><td>Geria  </td><td>187.5</td><td> 70.0</td><td>19.91</td><td>Ne </td><td>516.0</td><td>680.5</td><td>1.55</td><td>4.73</td></tr>\n",
       "</tbody>\n",
       "</table>\n"
      ],
      "text/latex": [
       "A data.frame: 6 × 12\n",
       "\\begin{tabular}{r|llllllllllll}\n",
       "  & Lytis & Hipertenzija & Tabakas & Alkoholis & Ūgis & Svoris & KMI & Antsvoris & EQ & EZ & FC & FE\\\\\n",
       "  & <fct> & <fct> & <fct> & <fct> & <dbl> & <dbl> & <dbl> & <fct> & <dbl> & <dbl> & <dbl> & <dbl>\\\\\n",
       "\\hline\n",
       "\t1 & Vyras   & Sveikas & Nerūko & Geria   & 181.0 &  77.0 & 23.50 & Ne  & 519.5 & 803.0 & 1.20 & 4.62\\\\\n",
       "\t2 & Vyras   & Sveikas & Nerūko & Geria   & 182.0 & 108.0 & 32.60 & Yra & 517.5 & 797.0 & 2.15 & 5.22\\\\\n",
       "\t3 & Vyras   & Serga   & Nerūko & Negeria & 187.0 & 122.0 & 34.89 & Yra & 654.0 & 554.5 & 2.85 & 4.89\\\\\n",
       "\t4 & Vyras   & Sveikas & Nerūko & Geria   & 178.5 &  64.0 & 20.09 & Ne  & 518.5 & 727.5 & 1.40 & 4.56\\\\\n",
       "\t5 & Moteris & Sveikas & Rūko   & Geria   & 170.0 &  57.5 & 19.90 & Ne  & 472.5 & 662.5 & 1.80 & 4.01\\\\\n",
       "\t6 & Vyras   & Sveikas & Nerūko & Geria   & 187.5 &  70.0 & 19.91 & Ne  & 516.0 & 680.5 & 1.55 & 4.73\\\\\n",
       "\\end{tabular}\n"
      ],
      "text/markdown": [
       "\n",
       "A data.frame: 6 × 12\n",
       "\n",
       "| <!--/--> | Lytis &lt;fct&gt; | Hipertenzija &lt;fct&gt; | Tabakas &lt;fct&gt; | Alkoholis &lt;fct&gt; | Ūgis &lt;dbl&gt; | Svoris &lt;dbl&gt; | KMI &lt;dbl&gt; | Antsvoris &lt;fct&gt; | EQ &lt;dbl&gt; | EZ &lt;dbl&gt; | FC &lt;dbl&gt; | FE &lt;dbl&gt; |\n",
       "|---|---|---|---|---|---|---|---|---|---|---|---|---|\n",
       "| 1 | Vyras   | Sveikas | Nerūko | Geria   | 181.0 |  77.0 | 23.50 | Ne  | 519.5 | 803.0 | 1.20 | 4.62 |\n",
       "| 2 | Vyras   | Sveikas | Nerūko | Geria   | 182.0 | 108.0 | 32.60 | Yra | 517.5 | 797.0 | 2.15 | 5.22 |\n",
       "| 3 | Vyras   | Serga   | Nerūko | Negeria | 187.0 | 122.0 | 34.89 | Yra | 654.0 | 554.5 | 2.85 | 4.89 |\n",
       "| 4 | Vyras   | Sveikas | Nerūko | Geria   | 178.5 |  64.0 | 20.09 | Ne  | 518.5 | 727.5 | 1.40 | 4.56 |\n",
       "| 5 | Moteris | Sveikas | Rūko   | Geria   | 170.0 |  57.5 | 19.90 | Ne  | 472.5 | 662.5 | 1.80 | 4.01 |\n",
       "| 6 | Vyras   | Sveikas | Nerūko | Geria   | 187.5 |  70.0 | 19.91 | Ne  | 516.0 | 680.5 | 1.55 | 4.73 |\n",
       "\n"
      ],
      "text/plain": [
       "  Lytis   Hipertenzija Tabakas Alkoholis Ūgis  Svoris KMI   Antsvoris EQ   \n",
       "1 Vyras   Sveikas      Nerūko  Geria     181.0  77.0  23.50 Ne        519.5\n",
       "2 Vyras   Sveikas      Nerūko  Geria     182.0 108.0  32.60 Yra       517.5\n",
       "3 Vyras   Serga        Nerūko  Negeria   187.0 122.0  34.89 Yra       654.0\n",
       "4 Vyras   Sveikas      Nerūko  Geria     178.5  64.0  20.09 Ne        518.5\n",
       "5 Moteris Sveikas      Rūko    Geria     170.0  57.5  19.90 Ne        472.5\n",
       "6 Vyras   Sveikas      Nerūko  Geria     187.5  70.0  19.91 Ne        516.0\n",
       "  EZ    FC   FE  \n",
       "1 803.0 1.20 4.62\n",
       "2 797.0 2.15 5.22\n",
       "3 554.5 2.85 4.89\n",
       "4 727.5 1.40 4.56\n",
       "5 662.5 1.80 4.01\n",
       "6 680.5 1.55 4.73"
      ]
     },
     "metadata": {},
     "output_type": "display_data"
    }
   ],
   "source": [
    "d = read.csv2(\"ksimpah.csv\", encoding=\"UTF-8\")\n",
    "head(d)"
   ]
  },
  {
   "cell_type": "markdown",
   "metadata": {},
   "source": [
    "Sudarysime tiesini modelį: $$g(\\mu) = X\\beta.$$\n",
    "\n",
    "Čia $\\mu$ yra atsako kintamojo $Y$ vidurkis, $X$ yra plano matrica, o $\\beta$ yra modelio parametrų vektorius. $Y$ yra pasiskirstęs pagal binominį dėsnį, sąryšio funkcija *g* yra *logit*, tokiu atvėju modelis yra užrašomas tokiu pavidalu:\n",
    "\n",
    "$$logit(\\mu) = ln\\Big(\\frac{\\mu}{1-\\mu}\\Big) = \\eta = X\\beta$$\n",
    "\n",
    "**Newtono-Raphson metodas logistinės regresijos modeliui.** Užrašysime logistinės regresijos modelio parametrų vertinimo algoritmą. Šiuo atvėju saryšio funkcija *g* yra *logit*, todėl vidurkio išraiška yra tokia:\n",
    "$$\\mu = \\frac{e^\\eta}{1+e^\\eta}$$\n",
    "\n",
    "1. Pradiniai modelio $\\beta$ parametrai yra generuojami atsitiktinai.\n",
    "\n",
    "2. Pasinaudojant šia išraišką ir žinant predikatoriaus $\\eta$ išraišką, gauname, kad *m-osios* iteracijos vidurkis skaičiuojamas pagal formulę: \n",
    "\n",
    "$$\\mu = \\frac{e^{X\\beta^{(m)}}}{1+e^{X\\beta^{(m)}}}$$\n",
    "\n",
    "3. Turint vidurkius $\\mu_i$, apskaičiuojame $Var(y_i)$ ir sudarome matricą $W$\n",
    "\n",
    "$$Var(y_i) = \\mu_i(1-\\mu_i)$$\n",
    "\n",
    "$$w_{ii} = \\frac{1}{Var(y_i)} \\Big(\\frac{\\partial \\mu_i}{\\partial \\eta_i}\\Big)^2 = \\frac{1}{Var(y_i)} \\Big(\\frac{Var(y_i)}{a(\\phi)}\\Big)^2 = Var(y_i) = \\mu_i(1-\\mu_i).$$\n",
    "\n",
    "4. Turint matricą $W$, apskaičiuojame naujus parametrų $\\beta$ įverčois\n",
    "\n",
    "$$\\beta^{m+1} = \\beta^{m} + \\Big(X^TWX)^{-1}  X^T (y-\\mu)\\Big).$$\n",
    "\n",
    "5. Kartojame ciklą nuo 2 žingsnio.\n",
    "\n",
    "Skaičiavimai nutraukiami, kai skirtumas $\\Delta = |\\beta^{m+1} - \\beta^m|$ pasidaro mažesni už tam tikrą iš anksto užsiduotą tikslumo lygį $\\epsilon \\ge 0$"
   ]
  },
  {
   "cell_type": "markdown",
   "metadata": {},
   "source": [
    "\n",
    "Sudarome modelio plano matrica $X$:\n",
    "$$\\quad X=\\begin{bmatrix}\n",
    "1 & x_{11} & x_{12} & \\dots & x_{1k}\\\\\n",
    "1 & x_{21} & x_{22} & \\dots & x_{2k} \\\\\n",
    "\\vdots  & \\vdots & \\vdots &   & \\vdots\\\\ \n",
    "1 & x_{n1} & x_{n2} & \\dots & x_{nk}\n",
    "\\end{bmatrix}$$\n"
   ]
  },
  {
   "cell_type": "markdown",
   "metadata": {},
   "source": [
    "*KMI* stulpelį imame kaip regresorių $X$, duomenis normalizuosime:\n",
    "$$ z = \\frac{x-\\mu}{\\sigma}$$"
   ]
  },
  {
   "cell_type": "code",
   "execution_count": 5,
   "metadata": {},
   "outputs": [],
   "source": [
    "normalizavimas = function(x) {\n",
    "    z = (x - mean(x)) / sd(x)\n",
    "    \n",
    "    return(z)\n",
    "}"
   ]
  },
  {
   "cell_type": "markdown",
   "metadata": {},
   "source": [
    "Normalizuojame KMI stulpelį ir sudarome $X$ matricą pridedami stulpelį sudarytą iš vinetų."
   ]
  },
  {
   "cell_type": "code",
   "execution_count": 105,
   "metadata": {},
   "outputs": [
    {
     "data": {
      "text/html": [
       "<table class=\"dataframe\">\n",
       "<caption>A matrix: 6 × 2 of type dbl</caption>\n",
       "<tbody>\n",
       "\t<tr><td>1</td><td> 0.1354655</td></tr>\n",
       "\t<tr><td>1</td><td> 1.8731536</td></tr>\n",
       "\t<tr><td>1</td><td> 2.3104400</td></tr>\n",
       "\t<tr><td>1</td><td>-0.5156901</td></tr>\n",
       "\t<tr><td>1</td><td>-0.5519715</td></tr>\n",
       "\t<tr><td>1</td><td>-0.5500620</td></tr>\n",
       "</tbody>\n",
       "</table>\n"
      ],
      "text/latex": [
       "A matrix: 6 × 2 of type dbl\n",
       "\\begin{tabular}{ll}\n",
       "\t 1 &  0.1354655\\\\\n",
       "\t 1 &  1.8731536\\\\\n",
       "\t 1 &  2.3104400\\\\\n",
       "\t 1 & -0.5156901\\\\\n",
       "\t 1 & -0.5519715\\\\\n",
       "\t 1 & -0.5500620\\\\\n",
       "\\end{tabular}\n"
      ],
      "text/markdown": [
       "\n",
       "A matrix: 6 × 2 of type dbl\n",
       "\n",
       "| 1 |  0.1354655 |\n",
       "| 1 |  1.8731536 |\n",
       "| 1 |  2.3104400 |\n",
       "| 1 | -0.5156901 |\n",
       "| 1 | -0.5519715 |\n",
       "| 1 | -0.5500620 |\n",
       "\n"
      ],
      "text/plain": [
       "     [,1] [,2]      \n",
       "[1,] 1     0.1354655\n",
       "[2,] 1     1.8731536\n",
       "[3,] 1     2.3104400\n",
       "[4,] 1    -0.5156901\n",
       "[5,] 1    -0.5519715\n",
       "[6,] 1    -0.5500620"
      ]
     },
     "metadata": {},
     "output_type": "display_data"
    }
   ],
   "source": [
    "kmi = unlist(matrix(d[c(\"KMI\")]))\n",
    "kmi_norm = matrix(normalizavimas(kmi))\n",
    "\n",
    "\n",
    "X = cbind(rep(c(1), nrow(kmi_norm)), kmi_norm)\n",
    "    \n",
    "head(X)"
   ]
  },
  {
   "cell_type": "markdown",
   "metadata": {},
   "source": [
    "*Alkoholis* stulpelį pasirenkame kaip atsako kintamąjį $Y, $\n",
    "$\\quad Y=\\begin{bmatrix}y_1 \\\\ y_2 \\\\ \\vdots \\\\ y_n\\end{bmatrix} \\;$\n",
    "\n",
    "$y_i = 0$ – žmogus geria\n",
    "\n",
    "$y_i = 1$ – žmogus negeria\n"
   ]
  },
  {
   "cell_type": "code",
   "execution_count": 106,
   "metadata": {},
   "outputs": [
    {
     "data": {
      "text/html": [
       "<table class=\"dataframe\">\n",
       "<caption>A matrix: 6 × 1 of type dbl</caption>\n",
       "<tbody>\n",
       "\t<tr><td>0</td></tr>\n",
       "\t<tr><td>0</td></tr>\n",
       "\t<tr><td>1</td></tr>\n",
       "\t<tr><td>0</td></tr>\n",
       "\t<tr><td>0</td></tr>\n",
       "\t<tr><td>0</td></tr>\n",
       "</tbody>\n",
       "</table>\n"
      ],
      "text/latex": [
       "A matrix: 6 × 1 of type dbl\n",
       "\\begin{tabular}{l}\n",
       "\t 0\\\\\n",
       "\t 0\\\\\n",
       "\t 1\\\\\n",
       "\t 0\\\\\n",
       "\t 0\\\\\n",
       "\t 0\\\\\n",
       "\\end{tabular}\n"
      ],
      "text/markdown": [
       "\n",
       "A matrix: 6 × 1 of type dbl\n",
       "\n",
       "| 0 |\n",
       "| 0 |\n",
       "| 1 |\n",
       "| 0 |\n",
       "| 0 |\n",
       "| 0 |\n",
       "\n"
      ],
      "text/plain": [
       "     [,1]\n",
       "[1,] 0   \n",
       "[2,] 0   \n",
       "[3,] 1   \n",
       "[4,] 0   \n",
       "[5,] 0   \n",
       "[6,] 0   "
      ]
     },
     "metadata": {},
     "output_type": "display_data"
    }
   ],
   "source": [
    "Y = as.numeric(unlist(d[c(\"Alkoholis\")])) - 1\n",
    "head(matrix(Y))"
   ]
  },
  {
   "cell_type": "markdown",
   "metadata": {},
   "source": [
    "Atsitiktinai sugeneruokime pradinias parametro $\\beta$ reikšmes."
   ]
  },
  {
   "cell_type": "code",
   "execution_count": 107,
   "metadata": {},
   "outputs": [
    {
     "data": {
      "text/html": [
       "<table class=\"dataframe\">\n",
       "<caption>A matrix: 2 × 1 of type dbl</caption>\n",
       "<tbody>\n",
       "\t<tr><td> 0.6705745</td></tr>\n",
       "\t<tr><td>-2.6140047</td></tr>\n",
       "</tbody>\n",
       "</table>\n"
      ],
      "text/latex": [
       "A matrix: 2 × 1 of type dbl\n",
       "\\begin{tabular}{l}\n",
       "\t  0.6705745\\\\\n",
       "\t -2.6140047\\\\\n",
       "\\end{tabular}\n"
      ],
      "text/markdown": [
       "\n",
       "A matrix: 2 × 1 of type dbl\n",
       "\n",
       "|  0.6705745 |\n",
       "| -2.6140047 |\n",
       "\n"
      ],
      "text/plain": [
       "     [,1]      \n",
       "[1,]  0.6705745\n",
       "[2,] -2.6140047"
      ]
     },
     "metadata": {},
     "output_type": "display_data"
    }
   ],
   "source": [
    "beta_pradinis = matrix(rnorm(2), 2, 1)\n",
    "beta_pradinis"
   ]
  },
  {
   "cell_type": "markdown",
   "metadata": {},
   "source": [
    "Sekantis žingsnis būtų $\\mu$ vektoriaus skaičiavimas $\\quad \\mu=\\begin{bmatrix}\\mu_1 \\\\ \\mu_2 \\\\ \\vdots \\\\ \\mu_n\\end{bmatrix} \\;$ \n",
    "\n",
    "\n",
    "pagal formulę $$\\mu = \\frac{e^\\eta}{1+e^\\eta} = \\frac{e^{X\\beta^{(m)}}}{1+e^{X\\beta^{(m)}}}$$\n",
    "\n",
    "Tam pasirašysime funkciją."
   ]
  },
  {
   "cell_type": "code",
   "execution_count": 108,
   "metadata": {},
   "outputs": [],
   "source": [
    "mu = function(X, beta) {\n",
    "    eta = X %*% beta\n",
    "    return(exp(eta)/(1+exp(eta)))\n",
    "}"
   ]
  },
  {
   "cell_type": "code",
   "execution_count": 109,
   "metadata": {},
   "outputs": [
    {
     "data": {
      "text/html": [
       "<table class=\"dataframe\">\n",
       "<caption>A matrix: 6 × 1 of type dbl</caption>\n",
       "<tbody>\n",
       "\t<tr><td>0.578462990</td></tr>\n",
       "\t<tr><td>0.014402337</td></tr>\n",
       "\t<tr><td>0.004637524</td></tr>\n",
       "\t<tr><td>0.882735224</td></tr>\n",
       "\t<tr><td>0.892201727</td></tr>\n",
       "\t<tr><td>0.891720708</td></tr>\n",
       "</tbody>\n",
       "</table>\n"
      ],
      "text/latex": [
       "A matrix: 6 × 1 of type dbl\n",
       "\\begin{tabular}{l}\n",
       "\t 0.578462990\\\\\n",
       "\t 0.014402337\\\\\n",
       "\t 0.004637524\\\\\n",
       "\t 0.882735224\\\\\n",
       "\t 0.892201727\\\\\n",
       "\t 0.891720708\\\\\n",
       "\\end{tabular}\n"
      ],
      "text/markdown": [
       "\n",
       "A matrix: 6 × 1 of type dbl\n",
       "\n",
       "| 0.578462990 |\n",
       "| 0.014402337 |\n",
       "| 0.004637524 |\n",
       "| 0.882735224 |\n",
       "| 0.892201727 |\n",
       "| 0.891720708 |\n",
       "\n"
      ],
      "text/plain": [
       "     [,1]       \n",
       "[1,] 0.578462990\n",
       "[2,] 0.014402337\n",
       "[3,] 0.004637524\n",
       "[4,] 0.882735224\n",
       "[5,] 0.892201727\n",
       "[6,] 0.891720708"
      ]
     },
     "metadata": {},
     "output_type": "display_data"
    }
   ],
   "source": [
    "miu = mu(X, beta_pradinis)\n",
    "head(miu)"
   ]
  },
  {
   "cell_type": "markdown",
   "metadata": {},
   "source": [
    "Sekančiame žingsnyje mums reikia sudaryti diagonalinę svorių matricą $W$. Šiai matricai sudaryti taip pat pasirašysime funkciją, kadangi metodas iteracinis, teks skaičiuoti bent kelis kartus.\n",
    "\n",
    "$$\\quad W=\\begin{bmatrix}\n",
    "w_{11} & 0 & 0 & \\dots & 0\\\\\n",
    "0 & w_{22} & 0 & \\dots & 0 \\\\\n",
    "\\vdots  & \\vdots & \\vdots &   & \\vdots\\\\ \n",
    "0 & 0 & 0 & \\dots & w_{nn}\n",
    "\\end{bmatrix}$$\n",
    "\n",
    "\n",
    "$$w_{ii} = Var(y_i) = \\mu_i(1-\\mu_i)$$"
   ]
  },
  {
   "cell_type": "code",
   "execution_count": 110,
   "metadata": {},
   "outputs": [],
   "source": [
    "W = function(miu) {\n",
    "    diag(c(miu*(1-miu)))\n",
    "}"
   ]
  },
  {
   "cell_type": "code",
   "execution_count": 111,
   "metadata": {},
   "outputs": [
    {
     "data": {
      "text/html": [
       "<table class=\"dataframe\">\n",
       "<caption>A matrix: 6 × 153 of type dbl</caption>\n",
       "<tbody>\n",
       "\t<tr><td>0.2438436</td><td>0.00000000</td><td>0.000000000</td><td>0.0000000</td><td>0.00000000</td><td>0.00000000</td><td>0</td><td>0</td><td>0</td><td>0</td><td>⋯</td><td>0</td><td>0</td><td>0</td><td>0</td><td>0</td><td>0</td><td>0</td><td>0</td><td>0</td><td>0</td></tr>\n",
       "\t<tr><td>0.0000000</td><td>0.01419491</td><td>0.000000000</td><td>0.0000000</td><td>0.00000000</td><td>0.00000000</td><td>0</td><td>0</td><td>0</td><td>0</td><td>⋯</td><td>0</td><td>0</td><td>0</td><td>0</td><td>0</td><td>0</td><td>0</td><td>0</td><td>0</td><td>0</td></tr>\n",
       "\t<tr><td>0.0000000</td><td>0.00000000</td><td>0.004616018</td><td>0.0000000</td><td>0.00000000</td><td>0.00000000</td><td>0</td><td>0</td><td>0</td><td>0</td><td>⋯</td><td>0</td><td>0</td><td>0</td><td>0</td><td>0</td><td>0</td><td>0</td><td>0</td><td>0</td><td>0</td></tr>\n",
       "\t<tr><td>0.0000000</td><td>0.00000000</td><td>0.000000000</td><td>0.1035137</td><td>0.00000000</td><td>0.00000000</td><td>0</td><td>0</td><td>0</td><td>0</td><td>⋯</td><td>0</td><td>0</td><td>0</td><td>0</td><td>0</td><td>0</td><td>0</td><td>0</td><td>0</td><td>0</td></tr>\n",
       "\t<tr><td>0.0000000</td><td>0.00000000</td><td>0.000000000</td><td>0.0000000</td><td>0.09617781</td><td>0.00000000</td><td>0</td><td>0</td><td>0</td><td>0</td><td>⋯</td><td>0</td><td>0</td><td>0</td><td>0</td><td>0</td><td>0</td><td>0</td><td>0</td><td>0</td><td>0</td></tr>\n",
       "\t<tr><td>0.0000000</td><td>0.00000000</td><td>0.000000000</td><td>0.0000000</td><td>0.00000000</td><td>0.09655489</td><td>0</td><td>0</td><td>0</td><td>0</td><td>⋯</td><td>0</td><td>0</td><td>0</td><td>0</td><td>0</td><td>0</td><td>0</td><td>0</td><td>0</td><td>0</td></tr>\n",
       "</tbody>\n",
       "</table>\n"
      ],
      "text/latex": [
       "A matrix: 6 × 153 of type dbl\n",
       "\\begin{tabular}{lllllllllllllllllllll}\n",
       "\t 0.2438436 & 0.00000000 & 0.000000000 & 0.0000000 & 0.00000000 & 0.00000000 & 0 & 0 & 0 & 0 & ⋯ & 0 & 0 & 0 & 0 & 0 & 0 & 0 & 0 & 0 & 0\\\\\n",
       "\t 0.0000000 & 0.01419491 & 0.000000000 & 0.0000000 & 0.00000000 & 0.00000000 & 0 & 0 & 0 & 0 & ⋯ & 0 & 0 & 0 & 0 & 0 & 0 & 0 & 0 & 0 & 0\\\\\n",
       "\t 0.0000000 & 0.00000000 & 0.004616018 & 0.0000000 & 0.00000000 & 0.00000000 & 0 & 0 & 0 & 0 & ⋯ & 0 & 0 & 0 & 0 & 0 & 0 & 0 & 0 & 0 & 0\\\\\n",
       "\t 0.0000000 & 0.00000000 & 0.000000000 & 0.1035137 & 0.00000000 & 0.00000000 & 0 & 0 & 0 & 0 & ⋯ & 0 & 0 & 0 & 0 & 0 & 0 & 0 & 0 & 0 & 0\\\\\n",
       "\t 0.0000000 & 0.00000000 & 0.000000000 & 0.0000000 & 0.09617781 & 0.00000000 & 0 & 0 & 0 & 0 & ⋯ & 0 & 0 & 0 & 0 & 0 & 0 & 0 & 0 & 0 & 0\\\\\n",
       "\t 0.0000000 & 0.00000000 & 0.000000000 & 0.0000000 & 0.00000000 & 0.09655489 & 0 & 0 & 0 & 0 & ⋯ & 0 & 0 & 0 & 0 & 0 & 0 & 0 & 0 & 0 & 0\\\\\n",
       "\\end{tabular}\n"
      ],
      "text/markdown": [
       "\n",
       "A matrix: 6 × 153 of type dbl\n",
       "\n",
       "| 0.2438436 | 0.00000000 | 0.000000000 | 0.0000000 | 0.00000000 | 0.00000000 | 0 | 0 | 0 | 0 | ⋯ | 0 | 0 | 0 | 0 | 0 | 0 | 0 | 0 | 0 | 0 |\n",
       "| 0.0000000 | 0.01419491 | 0.000000000 | 0.0000000 | 0.00000000 | 0.00000000 | 0 | 0 | 0 | 0 | ⋯ | 0 | 0 | 0 | 0 | 0 | 0 | 0 | 0 | 0 | 0 |\n",
       "| 0.0000000 | 0.00000000 | 0.004616018 | 0.0000000 | 0.00000000 | 0.00000000 | 0 | 0 | 0 | 0 | ⋯ | 0 | 0 | 0 | 0 | 0 | 0 | 0 | 0 | 0 | 0 |\n",
       "| 0.0000000 | 0.00000000 | 0.000000000 | 0.1035137 | 0.00000000 | 0.00000000 | 0 | 0 | 0 | 0 | ⋯ | 0 | 0 | 0 | 0 | 0 | 0 | 0 | 0 | 0 | 0 |\n",
       "| 0.0000000 | 0.00000000 | 0.000000000 | 0.0000000 | 0.09617781 | 0.00000000 | 0 | 0 | 0 | 0 | ⋯ | 0 | 0 | 0 | 0 | 0 | 0 | 0 | 0 | 0 | 0 |\n",
       "| 0.0000000 | 0.00000000 | 0.000000000 | 0.0000000 | 0.00000000 | 0.09655489 | 0 | 0 | 0 | 0 | ⋯ | 0 | 0 | 0 | 0 | 0 | 0 | 0 | 0 | 0 | 0 |\n",
       "\n"
      ],
      "text/plain": [
       "     [,1]      [,2]       [,3]        [,4]      [,5]       [,6]       [,7] [,8]\n",
       "[1,] 0.2438436 0.00000000 0.000000000 0.0000000 0.00000000 0.00000000 0    0   \n",
       "[2,] 0.0000000 0.01419491 0.000000000 0.0000000 0.00000000 0.00000000 0    0   \n",
       "[3,] 0.0000000 0.00000000 0.004616018 0.0000000 0.00000000 0.00000000 0    0   \n",
       "[4,] 0.0000000 0.00000000 0.000000000 0.1035137 0.00000000 0.00000000 0    0   \n",
       "[5,] 0.0000000 0.00000000 0.000000000 0.0000000 0.09617781 0.00000000 0    0   \n",
       "[6,] 0.0000000 0.00000000 0.000000000 0.0000000 0.00000000 0.09655489 0    0   \n",
       "     [,9] [,10] [,11] [,12] [,13] [,14] [,15] [,16] [,17] [,18] [,19] [,20]\n",
       "[1,] 0    0     ⋯     0     0     0     0     0     0     0     0     0    \n",
       "[2,] 0    0     ⋯     0     0     0     0     0     0     0     0     0    \n",
       "[3,] 0    0     ⋯     0     0     0     0     0     0     0     0     0    \n",
       "[4,] 0    0     ⋯     0     0     0     0     0     0     0     0     0    \n",
       "[5,] 0    0     ⋯     0     0     0     0     0     0     0     0     0    \n",
       "[6,] 0    0     ⋯     0     0     0     0     0     0     0     0     0    \n",
       "     [,21]\n",
       "[1,] 0    \n",
       "[2,] 0    \n",
       "[3,] 0    \n",
       "[4,] 0    \n",
       "[5,] 0    \n",
       "[6,] 0    "
      ]
     },
     "metadata": {},
     "output_type": "display_data"
    }
   ],
   "source": [
    "head(W(miu))"
   ]
  },
  {
   "cell_type": "markdown",
   "metadata": {},
   "source": [
    "Turint matricą $W$, apskaičiuojame naujus parametrų $\\beta$ įverčois\n",
    "\n",
    "$$\\beta^{m+1} = \\beta^{m} + \\Big(X^TWX)^{-1}  X^T (y-\\mu)\\Big).$$\n"
   ]
  },
  {
   "cell_type": "code",
   "execution_count": 112,
   "metadata": {},
   "outputs": [],
   "source": [
    "beta_naujas = function(X, Y, beta) {\n",
    "    miu = mu(X, beta)\n",
    "    W. = W(miu)\n",
    "    beta_n = beta + (solve(t(X) %*% W. %*% X) %*% t(X) %*% (Y-miu))\n",
    "    \n",
    "    return(beta_n)\n",
    "}"
   ]
  },
  {
   "cell_type": "code",
   "execution_count": 113,
   "metadata": {},
   "outputs": [
    {
     "data": {
      "text/html": [
       "<table class=\"dataframe\">\n",
       "<caption>A matrix: 2 × 1 of type dbl</caption>\n",
       "<tbody>\n",
       "\t<tr><td>-2.366567</td></tr>\n",
       "\t<tr><td> 9.595901</td></tr>\n",
       "</tbody>\n",
       "</table>\n"
      ],
      "text/latex": [
       "A matrix: 2 × 1 of type dbl\n",
       "\\begin{tabular}{l}\n",
       "\t -2.366567\\\\\n",
       "\t  9.595901\\\\\n",
       "\\end{tabular}\n"
      ],
      "text/markdown": [
       "\n",
       "A matrix: 2 × 1 of type dbl\n",
       "\n",
       "| -2.366567 |\n",
       "|  9.595901 |\n",
       "\n"
      ],
      "text/plain": [
       "     [,1]     \n",
       "[1,] -2.366567\n",
       "[2,]  9.595901"
      ]
     },
     "metadata": {},
     "output_type": "display_data"
    }
   ],
   "source": [
    "beta_naujas(X,Y, beta_pradinis)"
   ]
  },
  {
   "cell_type": "markdown",
   "metadata": {},
   "source": [
    "Tikriname ar yra tenkinama sąlyga:\n",
    "$$\\Delta = |\\beta^{m+1} - \\beta^{m}| < \\epsilon$$\n",
    "\n",
    "Jeigune ne, tai skaičiavimai kartojami nuo $\\mu$ perskaičiavimo žingsnio."
   ]
  },
  {
   "cell_type": "code",
   "execution_count": 114,
   "metadata": {},
   "outputs": [],
   "source": [
    "delta = function(beta_senas, beta_naujas, epsilon=1e-5) {\n",
    "    \n",
    "    sqrt(sum((beta_senas - beta_naujas) ^ 2)) > epsilon\n",
    "}"
   ]
  },
  {
   "cell_type": "markdown",
   "metadata": {},
   "source": [
    "Apjunkime visus šiuos žingsnius į vieną funkciją ir įteruokime kol pasieksime mūsų norimą tikslumą, toliau gautus $\\beta$ koeficientus palyginsime su <code>glm</code> funkcija."
   ]
  },
  {
   "cell_type": "code",
   "execution_count": 115,
   "metadata": {},
   "outputs": [],
   "source": [
    "Newton_Raphson_metodas = function(X, Y, epsilon=1e-10) {\n",
    "    # --------------------------------\n",
    "    # X - plano matrica\n",
    "    # Y - atsako kintamasis\n",
    "    # epsilon - stabdymo kriterijus, pagal nutylejima epsilon=1e-5\n",
    "    # --------------------------------\n",
    "    \n",
    "    beta_pradinis = matrix(rnorm(2), 2, 1)\n",
    "    \n",
    "    while (TRUE) {\n",
    "        beta_n = beta_naujas(X,Y, beta_pradinis)\n",
    "        delta_ = delta(beta_pradinis, beta_n, epsilon = epsilon)\n",
    "        if (delta_) {\n",
    "            cat(\"\\nsu beta reikšmėmis:\\n\", \"b1: \", beta_n[1], \"\\n\", \"b2: \", \n",
    "                beta_n[2], \"\\nsalyga neispildyta\\n______________\\n\")\n",
    "            beta_pradinis = beta_n\n",
    "            \n",
    "        } else {\n",
    "            cat(\"\\nSALYGA ISPILDYTA!\")\n",
    "            return(beta_n)}\n",
    "        \n",
    "    }\n",
    "    \n",
    "}"
   ]
  },
  {
   "cell_type": "code",
   "execution_count": 116,
   "metadata": {},
   "outputs": [
    {
     "name": "stdout",
     "output_type": "stream",
     "text": [
      "\n",
      "su beta reikšmėmis:\n",
      " b1:  -1.225757 \n",
      " b2:  0.3153335 \n",
      "salyga neispildyta\n",
      "______________\n",
      "\n",
      "su beta reikšmėmis:\n",
      " b1:  -1.221818 \n",
      " b2:  0.4466433 \n",
      "salyga neispildyta\n",
      "______________\n",
      "\n",
      "su beta reikšmėmis:\n",
      " b1:  -1.22407 \n",
      " b2:  0.4467709 \n",
      "salyga neispildyta\n",
      "______________\n",
      "\n",
      "su beta reikšmėmis:\n",
      " b1:  -1.224071 \n",
      " b2:  0.4467715 \n",
      "salyga neispildyta\n",
      "______________\n",
      "\n",
      "SALYGA ISPILDYTA!"
     ]
    },
    {
     "data": {
      "text/html": [
       "<table class=\"dataframe\">\n",
       "<caption>A matrix: 2 × 1 of type dbl</caption>\n",
       "<tbody>\n",
       "\t<tr><td>-1.2240712</td></tr>\n",
       "\t<tr><td> 0.4467715</td></tr>\n",
       "</tbody>\n",
       "</table>\n"
      ],
      "text/latex": [
       "A matrix: 2 × 1 of type dbl\n",
       "\\begin{tabular}{l}\n",
       "\t -1.2240712\\\\\n",
       "\t  0.4467715\\\\\n",
       "\\end{tabular}\n"
      ],
      "text/markdown": [
       "\n",
       "A matrix: 2 × 1 of type dbl\n",
       "\n",
       "| -1.2240712 |\n",
       "|  0.4467715 |\n",
       "\n"
      ],
      "text/plain": [
       "     [,1]      \n",
       "[1,] -1.2240712\n",
       "[2,]  0.4467715"
      ]
     },
     "metadata": {},
     "output_type": "display_data"
    }
   ],
   "source": [
    "Newton_Raphson_metodas(X,Y)"
   ]
  },
  {
   "cell_type": "markdown",
   "metadata": {},
   "source": [
    "palyginkime gautas $\\beta$ reikšmes su <code> glm </code> funkcija."
   ]
  },
  {
   "cell_type": "code",
   "execution_count": 121,
   "metadata": {},
   "outputs": [
    {
     "data": {
      "text/plain": [
       "\n",
       "Call:\n",
       "glm(formula = Y ~ 1 + X, family = binomial(\"logit\"), data = data.frame(X, \n",
       "    Y))\n",
       "\n",
       "Deviance Residuals: \n",
       "    Min       1Q   Median       3Q      Max  \n",
       "-1.2500  -0.7253  -0.6432  -0.5774   1.9789  \n",
       "\n",
       "Coefficients: (1 not defined because of singularities)\n",
       "            Estimate Std. Error z value Pr(>|z|)    \n",
       "(Intercept)  -1.2241     0.1977  -6.192 5.95e-10 ***\n",
       "X1                NA         NA      NA       NA    \n",
       "X2            0.4468     0.1790   2.496   0.0125 *  \n",
       "---\n",
       "Signif. codes:  0 ‘***’ 0.001 ‘**’ 0.01 ‘*’ 0.05 ‘.’ 0.1 ‘ ’ 1\n",
       "\n",
       "(Dispersion parameter for binomial family taken to be 1)\n",
       "\n",
       "    Null deviance: 166.95  on 152  degrees of freedom\n",
       "Residual deviance: 160.69  on 151  degrees of freedom\n",
       "AIC: 164.69\n",
       "\n",
       "Number of Fisher Scoring iterations: 4\n"
      ]
     },
     "metadata": {},
     "output_type": "display_data"
    }
   ],
   "source": [
    "mod = glm(Y ~ 1 + X, data = data.frame(X, Y), family = binomial(\"logit\"))\n",
    "summary(mod)"
   ]
  },
  {
   "cell_type": "markdown",
   "metadata": {},
   "source": [
    "Matome, kad rezultatai gauti iteraciniu Newton Raphson metodu sutampa su  *R* <code>glm</code> funkcijos rezultatais."
   ]
  },
  {
   "cell_type": "code",
   "execution_count": null,
   "metadata": {},
   "outputs": [],
   "source": []
  }
 ],
 "metadata": {
  "kernelspec": {
   "display_name": "R",
   "language": "R",
   "name": "ir"
  },
  "language_info": {
   "codemirror_mode": "r",
   "file_extension": ".r",
   "mimetype": "text/x-r-source",
   "name": "R",
   "pygments_lexer": "r",
   "version": "3.6.3"
  }
 },
 "nbformat": 4,
 "nbformat_minor": 2
}
